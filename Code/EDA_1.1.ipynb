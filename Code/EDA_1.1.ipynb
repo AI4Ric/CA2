{
 "cells": [
  {
   "cell_type": "code",
   "execution_count": 1,
   "id": "96b06501",
   "metadata": {
    "scrolled": true
   },
   "outputs": [
    {
     "name": "stderr",
     "output_type": "stream",
     "text": [
      "[nltk_data] Downloading package stopwords to\n",
      "[nltk_data]     C:\\Users\\rmora\\AppData\\Roaming\\nltk_data...\n",
      "[nltk_data]   Package stopwords is already up-to-date!\n",
      "[nltk_data] Downloading package wordnet to\n",
      "[nltk_data]     C:\\Users\\rmora\\AppData\\Roaming\\nltk_data...\n",
      "[nltk_data]   Package wordnet is already up-to-date!\n"
     ]
    },
    {
     "data": {
      "text/plain": [
       "True"
      ]
     },
     "execution_count": 1,
     "metadata": {},
     "output_type": "execute_result"
    }
   ],
   "source": [
    "# Importing necessary libraries\n",
    "import pandas as pd  # data manipulation and analysis\n",
    "import matplotlib.pyplot as plt  # plotting and visualization\n",
    "import re  # regular expressions\n",
    "import string  # string manipulation\n",
    "from nltk import download  # for downloading nltk data\n",
    "from nltk.corpus import stopwords  # for stopwords\n",
    "from nltk.stem import WordNetLemmatizer  # for word lemmatization\n",
    "import seaborn as sns  # statistical data visualization\n",
    "\n",
    "# Downloading required nltk data\n",
    "download('stopwords')\n",
    "download('wordnet')"
   ]
  },
  {
   "cell_type": "code",
   "execution_count": 2,
   "id": "4dfbb1c9",
   "metadata": {},
   "outputs": [
    {
     "data": {
      "text/html": [
       "<div>\n",
       "<style scoped>\n",
       "    .dataframe tbody tr th:only-of-type {\n",
       "        vertical-align: middle;\n",
       "    }\n",
       "\n",
       "    .dataframe tbody tr th {\n",
       "        vertical-align: top;\n",
       "    }\n",
       "\n",
       "    .dataframe thead th {\n",
       "        text-align: right;\n",
       "    }\n",
       "</style>\n",
       "<table border=\"1\" class=\"dataframe\">\n",
       "  <thead>\n",
       "    <tr style=\"text-align: right;\">\n",
       "      <th></th>\n",
       "      <th>0</th>\n",
       "      <th>1</th>\n",
       "      <th>2</th>\n",
       "      <th>3</th>\n",
       "      <th>4</th>\n",
       "      <th>5</th>\n",
       "    </tr>\n",
       "  </thead>\n",
       "  <tbody>\n",
       "    <tr>\n",
       "      <th>0</th>\n",
       "      <td>0</td>\n",
       "      <td>1467810369</td>\n",
       "      <td>Mon Apr 06 22:19:45 PDT 2009</td>\n",
       "      <td>NO_QUERY</td>\n",
       "      <td>_TheSpecialOne_</td>\n",
       "      <td>@switchfoot http://twitpic.com/2y1zl - Awww, t...</td>\n",
       "    </tr>\n",
       "    <tr>\n",
       "      <th>1</th>\n",
       "      <td>1</td>\n",
       "      <td>1467810672</td>\n",
       "      <td>Mon Apr 06 22:19:49 PDT 2009</td>\n",
       "      <td>NO_QUERY</td>\n",
       "      <td>scotthamilton</td>\n",
       "      <td>is upset that he can't update his Facebook by ...</td>\n",
       "    </tr>\n",
       "    <tr>\n",
       "      <th>2</th>\n",
       "      <td>2</td>\n",
       "      <td>1467810917</td>\n",
       "      <td>Mon Apr 06 22:19:53 PDT 2009</td>\n",
       "      <td>NO_QUERY</td>\n",
       "      <td>mattycus</td>\n",
       "      <td>@Kenichan I dived many times for the ball. Man...</td>\n",
       "    </tr>\n",
       "    <tr>\n",
       "      <th>3</th>\n",
       "      <td>3</td>\n",
       "      <td>1467811184</td>\n",
       "      <td>Mon Apr 06 22:19:57 PDT 2009</td>\n",
       "      <td>NO_QUERY</td>\n",
       "      <td>ElleCTF</td>\n",
       "      <td>my whole body feels itchy and like its on fire</td>\n",
       "    </tr>\n",
       "    <tr>\n",
       "      <th>4</th>\n",
       "      <td>4</td>\n",
       "      <td>1467811193</td>\n",
       "      <td>Mon Apr 06 22:19:57 PDT 2009</td>\n",
       "      <td>NO_QUERY</td>\n",
       "      <td>Karoli</td>\n",
       "      <td>@nationwideclass no, it's not behaving at all....</td>\n",
       "    </tr>\n",
       "  </tbody>\n",
       "</table>\n",
       "</div>"
      ],
      "text/plain": [
       "   0           1                             2         3                4  \\\n",
       "0  0  1467810369  Mon Apr 06 22:19:45 PDT 2009  NO_QUERY  _TheSpecialOne_   \n",
       "1  1  1467810672  Mon Apr 06 22:19:49 PDT 2009  NO_QUERY    scotthamilton   \n",
       "2  2  1467810917  Mon Apr 06 22:19:53 PDT 2009  NO_QUERY         mattycus   \n",
       "3  3  1467811184  Mon Apr 06 22:19:57 PDT 2009  NO_QUERY          ElleCTF   \n",
       "4  4  1467811193  Mon Apr 06 22:19:57 PDT 2009  NO_QUERY           Karoli   \n",
       "\n",
       "                                                   5  \n",
       "0  @switchfoot http://twitpic.com/2y1zl - Awww, t...  \n",
       "1  is upset that he can't update his Facebook by ...  \n",
       "2  @Kenichan I dived many times for the ball. Man...  \n",
       "3    my whole body feels itchy and like its on fire   \n",
       "4  @nationwideclass no, it's not behaving at all....  "
      ]
     },
     "metadata": {},
     "output_type": "display_data"
    }
   ],
   "source": [
    "# Loading the dataset\n",
    "df = pd.read_csv(\"../Data/ProjectTweets.csv\", header=None)\n",
    "\n",
    "# Display the first 5 rows of the dataset for a quick initial exploration\n",
    "display(df.head())"
   ]
  },
  {
   "cell_type": "code",
   "execution_count": 3,
   "id": "45d5260a",
   "metadata": {
    "scrolled": true
   },
   "outputs": [
    {
     "name": "stdout",
     "output_type": "stream",
     "text": [
      "<class 'pandas.core.frame.DataFrame'>\n",
      "RangeIndex: 1600000 entries, 0 to 1599999\n",
      "Data columns (total 6 columns):\n",
      " #   Column  Non-Null Count    Dtype \n",
      "---  ------  --------------    ----- \n",
      " 0   0       1600000 non-null  int64 \n",
      " 1   1       1600000 non-null  int64 \n",
      " 2   2       1600000 non-null  object\n",
      " 3   3       1600000 non-null  object\n",
      " 4   4       1600000 non-null  object\n",
      " 5   5       1600000 non-null  object\n",
      "dtypes: int64(2), object(4)\n",
      "memory usage: 73.2+ MB\n"
     ]
    },
    {
     "data": {
      "text/plain": [
       "None"
      ]
     },
     "metadata": {},
     "output_type": "display_data"
    }
   ],
   "source": [
    "# Display information about the dataset (data types, number of non-null values, etc.)\n",
    "display(df.info())"
   ]
  },
  {
   "cell_type": "markdown",
   "id": "a19afef5",
   "metadata": {},
   "source": [
    "### Note: \n",
    "It seems like there are no missing values in the dataset.  \n",
    "I will add headers to the columns for a better understanding of the data."
   ]
  },
  {
   "cell_type": "markdown",
   "id": "ffdc9f9f",
   "metadata": {},
   "source": [
    "### Dataset Columns:\n",
    "- `IDs`: The id of the tweet (e.g., 4587)\n",
    "- `Date`: The date of the tweet (e.g., Sat May 16 23:58:44 UTC 2009)\n",
    "- `Flag`: The query (e.g., lyx). If there is no query, then this value is NO_QUERY.\n",
    "- `user`: The user that tweeted (e.g., bobthebuilder)\n",
    "- `text`: The text of the tweet (e.g., Lyx is cool)"
   ]
  },
  {
   "cell_type": "code",
   "execution_count": 4,
   "id": "698efca1",
   "metadata": {
    "scrolled": true
   },
   "outputs": [
    {
     "data": {
      "text/html": [
       "<div>\n",
       "<style scoped>\n",
       "    .dataframe tbody tr th:only-of-type {\n",
       "        vertical-align: middle;\n",
       "    }\n",
       "\n",
       "    .dataframe tbody tr th {\n",
       "        vertical-align: top;\n",
       "    }\n",
       "\n",
       "    .dataframe thead th {\n",
       "        text-align: right;\n",
       "    }\n",
       "</style>\n",
       "<table border=\"1\" class=\"dataframe\">\n",
       "  <thead>\n",
       "    <tr style=\"text-align: right;\">\n",
       "      <th></th>\n",
       "      <th>Index</th>\n",
       "      <th>IDs</th>\n",
       "      <th>Date</th>\n",
       "      <th>Flag</th>\n",
       "      <th>user</th>\n",
       "      <th>text</th>\n",
       "    </tr>\n",
       "  </thead>\n",
       "  <tbody>\n",
       "    <tr>\n",
       "      <th>0</th>\n",
       "      <td>0</td>\n",
       "      <td>1467810369</td>\n",
       "      <td>Mon Apr 06 22:19:45 PDT 2009</td>\n",
       "      <td>NO_QUERY</td>\n",
       "      <td>_TheSpecialOne_</td>\n",
       "      <td>@switchfoot http://twitpic.com/2y1zl - Awww, t...</td>\n",
       "    </tr>\n",
       "    <tr>\n",
       "      <th>1</th>\n",
       "      <td>1</td>\n",
       "      <td>1467810672</td>\n",
       "      <td>Mon Apr 06 22:19:49 PDT 2009</td>\n",
       "      <td>NO_QUERY</td>\n",
       "      <td>scotthamilton</td>\n",
       "      <td>is upset that he can't update his Facebook by ...</td>\n",
       "    </tr>\n",
       "    <tr>\n",
       "      <th>2</th>\n",
       "      <td>2</td>\n",
       "      <td>1467810917</td>\n",
       "      <td>Mon Apr 06 22:19:53 PDT 2009</td>\n",
       "      <td>NO_QUERY</td>\n",
       "      <td>mattycus</td>\n",
       "      <td>@Kenichan I dived many times for the ball. Man...</td>\n",
       "    </tr>\n",
       "    <tr>\n",
       "      <th>3</th>\n",
       "      <td>3</td>\n",
       "      <td>1467811184</td>\n",
       "      <td>Mon Apr 06 22:19:57 PDT 2009</td>\n",
       "      <td>NO_QUERY</td>\n",
       "      <td>ElleCTF</td>\n",
       "      <td>my whole body feels itchy and like its on fire</td>\n",
       "    </tr>\n",
       "    <tr>\n",
       "      <th>4</th>\n",
       "      <td>4</td>\n",
       "      <td>1467811193</td>\n",
       "      <td>Mon Apr 06 22:19:57 PDT 2009</td>\n",
       "      <td>NO_QUERY</td>\n",
       "      <td>Karoli</td>\n",
       "      <td>@nationwideclass no, it's not behaving at all....</td>\n",
       "    </tr>\n",
       "  </tbody>\n",
       "</table>\n",
       "</div>"
      ],
      "text/plain": [
       "   Index         IDs                          Date      Flag             user  \\\n",
       "0      0  1467810369  Mon Apr 06 22:19:45 PDT 2009  NO_QUERY  _TheSpecialOne_   \n",
       "1      1  1467810672  Mon Apr 06 22:19:49 PDT 2009  NO_QUERY    scotthamilton   \n",
       "2      2  1467810917  Mon Apr 06 22:19:53 PDT 2009  NO_QUERY         mattycus   \n",
       "3      3  1467811184  Mon Apr 06 22:19:57 PDT 2009  NO_QUERY          ElleCTF   \n",
       "4      4  1467811193  Mon Apr 06 22:19:57 PDT 2009  NO_QUERY           Karoli   \n",
       "\n",
       "                                                text  \n",
       "0  @switchfoot http://twitpic.com/2y1zl - Awww, t...  \n",
       "1  is upset that he can't update his Facebook by ...  \n",
       "2  @Kenichan I dived many times for the ball. Man...  \n",
       "3    my whole body feels itchy and like its on fire   \n",
       "4  @nationwideclass no, it's not behaving at all....  "
      ]
     },
     "metadata": {},
     "output_type": "display_data"
    }
   ],
   "source": [
    "# Define column names for the dataset\n",
    "column_names = [\"Index\", \"IDs\", \"Date\", \"Flag\", \"user\", \"text\"]\n",
    "\n",
    "# Reload the dataset with column names\n",
    "df = pd.read_csv(\"../Data/ProjectTweets.csv\", header=None, names=column_names)\n",
    "\n",
    "# Display the first 5 rows of the dataset with column names\n",
    "display(df.head())"
   ]
  },
  {
   "cell_type": "code",
   "execution_count": 5,
   "id": "3386e5d2",
   "metadata": {},
   "outputs": [
    {
     "data": {
      "text/plain": [
       "\"Number of unique values in 'Index': 1600000\""
      ]
     },
     "metadata": {},
     "output_type": "display_data"
    },
    {
     "data": {
      "text/plain": [
       "\"Number of unique values in 'IDs': 1598315\""
      ]
     },
     "metadata": {},
     "output_type": "display_data"
    }
   ],
   "source": [
    "# Checking the number of unique values in 'Index' and 'IDs' columns\n",
    "unique_index = df[\"Index\"].nunique()\n",
    "unique_ids = df[\"IDs\"].nunique()\n",
    "\n",
    "# Displaying the number of unique values\n",
    "display(f\"Number of unique values in 'Index': {unique_index}\")\n",
    "display(f\"Number of unique values in 'IDs': {unique_ids}\")"
   ]
  },
  {
   "cell_type": "markdown",
   "id": "162eeb87",
   "metadata": {},
   "source": [
    "### Notes on Unique Values:\n",
    "- The first column, 'Index', seems to be just an index and therefore is not needed.\n",
    "- The second column, 'IDs', appears to have a few duplicates. As I assumed that 'IDs' should be unique, I will check for and remove any duplicate rows."
   ]
  },
  {
   "cell_type": "code",
   "execution_count": 6,
   "id": "58394e37",
   "metadata": {},
   "outputs": [],
   "source": [
    "# Dropping the 'Index' column\n",
    "df = df.drop(columns=\"Index\")"
   ]
  },
  {
   "cell_type": "code",
   "execution_count": 7,
   "id": "a63df96a",
   "metadata": {},
   "outputs": [
    {
     "data": {
      "text/plain": [
       "'Number of duplicate rows: 1685'"
      ]
     },
     "metadata": {},
     "output_type": "display_data"
    }
   ],
   "source": [
    "# Checking for duplicates in the dataset\n",
    "duplicates = df.duplicated().sum()\n",
    "\n",
    "# Displaying the number of duplicate rows\n",
    "display(f\"Number of duplicate rows: {duplicates}\")"
   ]
  },
  {
   "cell_type": "markdown",
   "id": "a9d70a6b",
   "metadata": {},
   "source": [
    "### Notes on Duplicates:\n",
    "- As assumed, 'IDs' is a unique value for each tweet. Therefore, I can drop the 'IDs' column and remove any duplicate tweets to ensure data consistency."
   ]
  },
  {
   "cell_type": "code",
   "execution_count": 8,
   "id": "78f92651",
   "metadata": {
    "scrolled": true
   },
   "outputs": [
    {
     "name": "stdout",
     "output_type": "stream",
     "text": [
      "<class 'pandas.core.frame.DataFrame'>\n",
      "Int64Index: 1598315 entries, 0 to 1599999\n",
      "Data columns (total 4 columns):\n",
      " #   Column  Non-Null Count    Dtype \n",
      "---  ------  --------------    ----- \n",
      " 0   Date    1598315 non-null  object\n",
      " 1   Flag    1598315 non-null  object\n",
      " 2   user    1598315 non-null  object\n",
      " 3   text    1598315 non-null  object\n",
      "dtypes: object(4)\n",
      "memory usage: 61.0+ MB\n"
     ]
    },
    {
     "data": {
      "text/plain": [
       "None"
      ]
     },
     "metadata": {},
     "output_type": "display_data"
    }
   ],
   "source": [
    "# Dropping duplicate rows\n",
    "df = df.drop_duplicates()\n",
    "\n",
    "# Dropping the 'IDs' column\n",
    "df = df.drop(columns=\"IDs\")\n",
    "\n",
    "# Displaying the dataset information after dropping duplicates\n",
    "display(df.info())"
   ]
  },
  {
   "cell_type": "code",
   "execution_count": 9,
   "id": "0881617e",
   "metadata": {},
   "outputs": [
    {
     "data": {
      "text/plain": [
       "\"Unique values in 'Flag': ['NO_QUERY']\""
      ]
     },
     "metadata": {},
     "output_type": "display_data"
    }
   ],
   "source": [
    "# Checking unique values in 'Flag' column\n",
    "unique_flags = df[\"Flag\"].unique()\n",
    "\n",
    "# Displaying unique values in 'Flag'\n",
    "display(f\"Unique values in 'Flag': {unique_flags}\")"
   ]
  },
  {
   "cell_type": "markdown",
   "id": "4d9f79a5",
   "metadata": {},
   "source": [
    "### Notes on 'Flag' Column:\n",
    "- The 'Flag' column will be dropped as it contains only one unique value, which is not relevant for this analysis."
   ]
  },
  {
   "cell_type": "code",
   "execution_count": 10,
   "id": "7dba314f",
   "metadata": {},
   "outputs": [],
   "source": [
    "# Dropping the 'Flag' column\n",
    "df = df.drop(columns=\"Flag\")"
   ]
  },
  {
   "cell_type": "markdown",
   "id": "a6d3443f",
   "metadata": {},
   "source": [
    "### Notes on 'User' Column:\n",
    "- Although the 'user' column will be deleted to focus solely on the content of the tweets, I will first analyze the distribution of tweets among users. \n",
    "- This will help to identify any potential biases in the dataset before proceeding with further analysis."
   ]
  },
  {
   "cell_type": "code",
   "execution_count": 11,
   "id": "1a358f11",
   "metadata": {
    "scrolled": true
   },
   "outputs": [
    {
     "data": {
      "text/plain": [
       "lost_dog           549\n",
       "webwoke            345\n",
       "tweetpet           310\n",
       "SallytheShizzle    281\n",
       "VioletsCRUK        279\n",
       "                  ... \n",
       "sleeping_gypsy       1\n",
       "alannamalyn          1\n",
       "robertreset          1\n",
       "juicybabyyy          1\n",
       "bpbabe               1\n",
       "Name: user, Length: 659775, dtype: int64"
      ]
     },
     "metadata": {},
     "output_type": "display_data"
    }
   ],
   "source": [
    "# Checking the distribution of tweets among users\n",
    "user_distribution = df[\"user\"].value_counts()\n",
    "\n",
    "# Displaying the distribution of tweets among users\n",
    "display(user_distribution)"
   ]
  },
  {
   "cell_type": "code",
   "execution_count": 12,
   "id": "e1052a21",
   "metadata": {
    "scrolled": true
   },
   "outputs": [
    {
     "data": {
      "image/png": "[encoded data removed]",
      "text/plain": [
       "<Figure size 576x864 with 3 Axes>"
      ]
     },
     "metadata": {
      "needs_background": "light"
     },
     "output_type": "display_data"
    }
   ],
   "source": [
    "# Count the number of tweets\n",
    "num_tweets = len(df)\n",
    "\n",
    "# Count the number of unique users\n",
    "num_users = df[\"user\"].nunique()\n",
    "\n",
    "# Count tweets per user\n",
    "tweets_per_user = df['user'].value_counts()\n",
    "\n",
    "# Set up a 3x1 grid of subplots\n",
    "fig, axs = plt.subplots(nrows=3, ncols=1, figsize=(8, 12))\n",
    "\n",
    "# Plot bar chart in the first subplot\n",
    "bars = axs[0].bar([\"Tweets\", \"Users\"], [num_tweets, num_users], color=['blue', 'orange'])\n",
    "axs[0].bar_label(bars)\n",
    "axs[0].set_title('Number of Tweets and Users')\n",
    "\n",
    "# Plot histogram in the second subplot\n",
    "axs[1].hist(tweets_per_user, bins=range(1, 21), edgecolor='black', align='left')\n",
    "axs[1].set_title('Distribution of Tweets per User')\n",
    "axs[1].set_xlabel('Number of Tweets')\n",
    "axs[1].set_ylabel('Number of Users')\n",
    "axs[1].set_xticks(range(1, 21))\n",
    "axs[1].set_xlim(0, 20)\n",
    "\n",
    "# Plot boxplot in the third subplot\n",
    "axs[2].boxplot(tweets_per_user)\n",
    "axs[2].set_title('Boxplot of Tweets per User')\n",
    "axs[2].set_ylabel('Number of Tweets')\n",
    "axs[2].set_xticklabels(['Users'])\n",
    "\n",
    "# Adjust the spacing between plots\n",
    "plt.tight_layout()\n",
    "\n",
    "# Display the charts\n",
    "plt.show()"
   ]
  },
  {
   "cell_type": "markdown",
   "id": "96857f26",
   "metadata": {},
   "source": [
    "### Insights from the Graphs:\n",
    "\n",
    "1. **Tweet-to-User Ratio:**\n",
    "   - There are approximately 1.598 million tweets in the dataset from about 659,775 unique users.\n",
    "   - On average, each user has contributed slightly more than 2 tweets. This suggests a mix of users - some tweeted once, while others tweeted multiple times.\n",
    "\n",
    "2. **Skewness:**\n",
    "   - The distribution of tweets per user is heavily right-skewed, meaning most users have tweeted a few times, but a few have tweeted many more times than the average.\n",
    "\n",
    "3. **Boxplot Insights:**\n",
    "   - The boxplot shows the median and interquartile range is clustered at low tweet counts, while the long whisker and points above demonstrate the outliers in the dataset.\n",
    "\n",
    "4. **Outliers:**\n",
    "   - The top 5 users with the most tweets are clear outliers in the distribution. For instance, the user \"lost_dog\" has tweeted 549 times, which is significantly higher than the typical user in the dataset.\n",
    "\n",
    "5. **Potential Bias:**\n",
    "   - While there is some repetition in users, the diverse range of users minimizes bias from repeated users.\n",
    "\n",
    "6. **Generalization:**\n",
    "   - The dataset is likely a good representation for sentiment analysis, not heavily influenced by a small group of vocal users.\n",
    "\n",
    "7. **Impact on Analysis:**\n",
    "   - The dataset's size means outliers have minimal impact on aggregate metrics, with the median and other percentiles remaining largely unaffected.\n",
    "\n",
    "In conclusion, this dataset, with its diversity in user representation, is beneficial for sentiment analysis. The potential bias from users tweeting multiple times is present, but it is not significant enough to skew the overall results dramatically."
   ]
  },
  {
   "cell_type": "code",
   "execution_count": 13,
   "id": "6f21e031",
   "metadata": {
    "scrolled": true
   },
   "outputs": [
    {
     "data": {
      "text/html": [
       "<div>\n",
       "<style scoped>\n",
       "    .dataframe tbody tr th:only-of-type {\n",
       "        vertical-align: middle;\n",
       "    }\n",
       "\n",
       "    .dataframe tbody tr th {\n",
       "        vertical-align: top;\n",
       "    }\n",
       "\n",
       "    .dataframe thead th {\n",
       "        text-align: right;\n",
       "    }\n",
       "</style>\n",
       "<table border=\"1\" class=\"dataframe\">\n",
       "  <thead>\n",
       "    <tr style=\"text-align: right;\">\n",
       "      <th></th>\n",
       "      <th>Date</th>\n",
       "      <th>text</th>\n",
       "    </tr>\n",
       "  </thead>\n",
       "  <tbody>\n",
       "    <tr>\n",
       "      <th>0</th>\n",
       "      <td>Mon Apr 06 22:19:45 PDT 2009</td>\n",
       "      <td>@switchfoot http://twitpic.com/2y1zl - Awww, t...</td>\n",
       "    </tr>\n",
       "    <tr>\n",
       "      <th>1</th>\n",
       "      <td>Mon Apr 06 22:19:49 PDT 2009</td>\n",
       "      <td>is upset that he can't update his Facebook by ...</td>\n",
       "    </tr>\n",
       "    <tr>\n",
       "      <th>2</th>\n",
       "      <td>Mon Apr 06 22:19:53 PDT 2009</td>\n",
       "      <td>@Kenichan I dived many times for the ball. Man...</td>\n",
       "    </tr>\n",
       "    <tr>\n",
       "      <th>3</th>\n",
       "      <td>Mon Apr 06 22:19:57 PDT 2009</td>\n",
       "      <td>my whole body feels itchy and like its on fire</td>\n",
       "    </tr>\n",
       "    <tr>\n",
       "      <th>4</th>\n",
       "      <td>Mon Apr 06 22:19:57 PDT 2009</td>\n",
       "      <td>@nationwideclass no, it's not behaving at all....</td>\n",
       "    </tr>\n",
       "  </tbody>\n",
       "</table>\n",
       "</div>"
      ],
      "text/plain": [
       "                           Date  \\\n",
       "0  Mon Apr 06 22:19:45 PDT 2009   \n",
       "1  Mon Apr 06 22:19:49 PDT 2009   \n",
       "2  Mon Apr 06 22:19:53 PDT 2009   \n",
       "3  Mon Apr 06 22:19:57 PDT 2009   \n",
       "4  Mon Apr 06 22:19:57 PDT 2009   \n",
       "\n",
       "                                                text  \n",
       "0  @switchfoot http://twitpic.com/2y1zl - Awww, t...  \n",
       "1  is upset that he can't update his Facebook by ...  \n",
       "2  @Kenichan I dived many times for the ball. Man...  \n",
       "3    my whole body feels itchy and like its on fire   \n",
       "4  @nationwideclass no, it's not behaving at all....  "
      ]
     },
     "metadata": {},
     "output_type": "display_data"
    }
   ],
   "source": [
    "# Dropping the 'user' column\n",
    "df = df.drop(columns=\"user\")\n",
    "\n",
    "# Displaying the first few rows of the updated dataframe\n",
    "display(df.head())"
   ]
  },
  {
   "cell_type": "markdown",
   "id": "8cc7b916",
   "metadata": {},
   "source": [
    "### Notes on Date Transformation:\n",
    "- The 'Date' column is transformed to a more appropriate format for this analysis. The analysis will be performed by week, month, and trimester, which requires the date to be in the correct format."
   ]
  },
  {
   "cell_type": "code",
   "execution_count": 14,
   "id": "d7faf642",
   "metadata": {
    "scrolled": true
   },
   "outputs": [
    {
     "data": {
      "text/html": [
       "<div>\n",
       "<style scoped>\n",
       "    .dataframe tbody tr th:only-of-type {\n",
       "        vertical-align: middle;\n",
       "    }\n",
       "\n",
       "    .dataframe tbody tr th {\n",
       "        vertical-align: top;\n",
       "    }\n",
       "\n",
       "    .dataframe thead th {\n",
       "        text-align: right;\n",
       "    }\n",
       "</style>\n",
       "<table border=\"1\" class=\"dataframe\">\n",
       "  <thead>\n",
       "    <tr style=\"text-align: right;\">\n",
       "      <th></th>\n",
       "      <th>Date</th>\n",
       "      <th>text</th>\n",
       "    </tr>\n",
       "  </thead>\n",
       "  <tbody>\n",
       "    <tr>\n",
       "      <th>0</th>\n",
       "      <td>2009-04-06</td>\n",
       "      <td>@switchfoot http://twitpic.com/2y1zl - Awww, t...</td>\n",
       "    </tr>\n",
       "    <tr>\n",
       "      <th>1</th>\n",
       "      <td>2009-04-06</td>\n",
       "      <td>is upset that he can't update his Facebook by ...</td>\n",
       "    </tr>\n",
       "    <tr>\n",
       "      <th>2</th>\n",
       "      <td>2009-04-06</td>\n",
       "      <td>@Kenichan I dived many times for the ball. Man...</td>\n",
       "    </tr>\n",
       "    <tr>\n",
       "      <th>3</th>\n",
       "      <td>2009-04-06</td>\n",
       "      <td>my whole body feels itchy and like its on fire</td>\n",
       "    </tr>\n",
       "    <tr>\n",
       "      <th>4</th>\n",
       "      <td>2009-04-06</td>\n",
       "      <td>@nationwideclass no, it's not behaving at all....</td>\n",
       "    </tr>\n",
       "  </tbody>\n",
       "</table>\n",
       "</div>"
      ],
      "text/plain": [
       "         Date                                               text\n",
       "0  2009-04-06  @switchfoot http://twitpic.com/2y1zl - Awww, t...\n",
       "1  2009-04-06  is upset that he can't update his Facebook by ...\n",
       "2  2009-04-06  @Kenichan I dived many times for the ball. Man...\n",
       "3  2009-04-06    my whole body feels itchy and like its on fire \n",
       "4  2009-04-06  @nationwideclass no, it's not behaving at all...."
      ]
     },
     "metadata": {},
     "output_type": "display_data"
    }
   ],
   "source": [
    "# Converting 'Date' column to datetime format and extracting the date\n",
    "df['Date'] = pd.to_datetime(df['Date'], errors='coerce', format='%a %b %d %H:%M:%S PDT %Y').dt.date\n",
    "\n",
    "# Displaying the first few rows of the dataframe after the date transformation\n",
    "display(df.head())"
   ]
  },
  {
   "cell_type": "markdown",
   "id": "bb77024a",
   "metadata": {},
   "source": [
    "# Text Preprocessing"
   ]
  },
  {
   "cell_type": "code",
   "execution_count": 15,
   "id": "f865347a",
   "metadata": {},
   "outputs": [],
   "source": [
    "# Initialize the WordNet lemmatizer and set of English stopwords\n",
    "lemmatizer = WordNetLemmatizer()\n",
    "stop_words = set(stopwords.words('english'))"
   ]
  },
  {
   "cell_type": "code",
   "execution_count": 16,
   "id": "60aaccca",
   "metadata": {},
   "outputs": [],
   "source": [
    "def preprocess_text(text):\n",
    "    \"\"\"\n",
    "    Preprocesses the input text by converting to lowercase, removing URLs, user mentions, hashtags,\n",
    "    punctuation, stopwords, and lemmatizing the remaining words.\n",
    "    \n",
    "    Args:\n",
    "        text (str): The text to be preprocessed.\n",
    "        \n",
    "    Returns:\n",
    "        str: The preprocessed text.\n",
    "    \"\"\"\n",
    "    # Convert text to lowercase\n",
    "    text = text.lower()\n",
    "    \n",
    "    # Remove URLs\n",
    "    text = re.sub(r\"http\\S+|www\\S+|https\\S+\", '', text, flags=re.MULTILINE)\n",
    "    \n",
    "    # Remove user mentions and hashtags\n",
    "    text = re.sub(r'\\@\\w+|\\#','', text)\n",
    "    \n",
    "    # Remove punctuation\n",
    "    no_punctuation = [char for char in text if char not in string.punctuation]\n",
    "    text = ''.join(no_punctuation)\n",
    "    \n",
    "    # Remove stopwords and lemmatize\n",
    "    text = ' '.join([lemmatizer.lemmatize(word) for word in text.split() if word.lower() not in stop_words and len(word) > 2])\n",
    "    \n",
    "    return text"
   ]
  },
  {
   "cell_type": "code",
   "execution_count": 17,
   "id": "5f745d13",
   "metadata": {
    "scrolled": true
   },
   "outputs": [
    {
     "data": {
      "text/html": [
       "<div>\n",
       "<style scoped>\n",
       "    .dataframe tbody tr th:only-of-type {\n",
       "        vertical-align: middle;\n",
       "    }\n",
       "\n",
       "    .dataframe tbody tr th {\n",
       "        vertical-align: top;\n",
       "    }\n",
       "\n",
       "    .dataframe thead th {\n",
       "        text-align: right;\n",
       "    }\n",
       "</style>\n",
       "<table border=\"1\" class=\"dataframe\">\n",
       "  <thead>\n",
       "    <tr style=\"text-align: right;\">\n",
       "      <th></th>\n",
       "      <th>Date</th>\n",
       "      <th>text</th>\n",
       "      <th>CleanText</th>\n",
       "    </tr>\n",
       "  </thead>\n",
       "  <tbody>\n",
       "    <tr>\n",
       "      <th>0</th>\n",
       "      <td>2009-04-06</td>\n",
       "      <td>@switchfoot http://twitpic.com/2y1zl - Awww, t...</td>\n",
       "      <td>thats bummer shoulda got david carr third day</td>\n",
       "    </tr>\n",
       "    <tr>\n",
       "      <th>1</th>\n",
       "      <td>2009-04-06</td>\n",
       "      <td>is upset that he can't update his Facebook by ...</td>\n",
       "      <td>upset cant update facebook texting might cry r...</td>\n",
       "    </tr>\n",
       "    <tr>\n",
       "      <th>2</th>\n",
       "      <td>2009-04-06</td>\n",
       "      <td>@Kenichan I dived many times for the ball. Man...</td>\n",
       "      <td>dived many time ball managed save rest bound</td>\n",
       "    </tr>\n",
       "    <tr>\n",
       "      <th>3</th>\n",
       "      <td>2009-04-06</td>\n",
       "      <td>my whole body feels itchy and like its on fire</td>\n",
       "      <td>whole body feel itchy like fire</td>\n",
       "    </tr>\n",
       "    <tr>\n",
       "      <th>4</th>\n",
       "      <td>2009-04-06</td>\n",
       "      <td>@nationwideclass no, it's not behaving at all....</td>\n",
       "      <td>behaving mad cant see</td>\n",
       "    </tr>\n",
       "  </tbody>\n",
       "</table>\n",
       "</div>"
      ],
      "text/plain": [
       "         Date                                               text  \\\n",
       "0  2009-04-06  @switchfoot http://twitpic.com/2y1zl - Awww, t...   \n",
       "1  2009-04-06  is upset that he can't update his Facebook by ...   \n",
       "2  2009-04-06  @Kenichan I dived many times for the ball. Man...   \n",
       "3  2009-04-06    my whole body feels itchy and like its on fire    \n",
       "4  2009-04-06  @nationwideclass no, it's not behaving at all....   \n",
       "\n",
       "                                           CleanText  \n",
       "0      thats bummer shoulda got david carr third day  \n",
       "1  upset cant update facebook texting might cry r...  \n",
       "2       dived many time ball managed save rest bound  \n",
       "3                    whole body feel itchy like fire  \n",
       "4                              behaving mad cant see  "
      ]
     },
     "metadata": {},
     "output_type": "display_data"
    }
   ],
   "source": [
    "# Apply the 'preprocess_text' function to the 'text' column and store the result in a new column 'CleanText'\n",
    "df['CleanText'] = df['text'].apply(preprocess_text)\n",
    "\n",
    "# Display the first few rows of the dataframe after text preprocessing\n",
    "display(df.head())"
   ]
  },
  {
   "cell_type": "code",
   "execution_count": 18,
   "id": "9ef0cca1",
   "metadata": {
    "scrolled": false
   },
   "outputs": [
    {
     "data": {
      "text/html": [
       "<div>\n",
       "<style scoped>\n",
       "    .dataframe tbody tr th:only-of-type {\n",
       "        vertical-align: middle;\n",
       "    }\n",
       "\n",
       "    .dataframe tbody tr th {\n",
       "        vertical-align: top;\n",
       "    }\n",
       "\n",
       "    .dataframe thead th {\n",
       "        text-align: right;\n",
       "    }\n",
       "</style>\n",
       "<table border=\"1\" class=\"dataframe\">\n",
       "  <thead>\n",
       "    <tr style=\"text-align: right;\">\n",
       "      <th></th>\n",
       "      <th>Date</th>\n",
       "      <th>text</th>\n",
       "      <th>CleanText</th>\n",
       "    </tr>\n",
       "  </thead>\n",
       "  <tbody>\n",
       "    <tr>\n",
       "      <th>count</th>\n",
       "      <td>1598315</td>\n",
       "      <td>1598315</td>\n",
       "      <td>1598315</td>\n",
       "    </tr>\n",
       "    <tr>\n",
       "      <th>unique</th>\n",
       "      <td>48</td>\n",
       "      <td>1581466</td>\n",
       "      <td>1468619</td>\n",
       "    </tr>\n",
       "    <tr>\n",
       "      <th>top</th>\n",
       "      <td>2009-06-06</td>\n",
       "      <td>isPlayer Has Died! Sorry</td>\n",
       "      <td></td>\n",
       "    </tr>\n",
       "    <tr>\n",
       "      <th>freq</th>\n",
       "      <td>111513</td>\n",
       "      <td>210</td>\n",
       "      <td>8707</td>\n",
       "    </tr>\n",
       "  </tbody>\n",
       "</table>\n",
       "</div>"
      ],
      "text/plain": [
       "              Date                       text CleanText\n",
       "count      1598315                    1598315   1598315\n",
       "unique          48                    1581466   1468619\n",
       "top     2009-06-06  isPlayer Has Died! Sorry           \n",
       "freq        111513                        210      8707"
      ]
     },
     "metadata": {},
     "output_type": "display_data"
    }
   ],
   "source": [
    "# Displaying summary statistics of the dataframe\n",
    "display(df.describe())"
   ]
  },
  {
   "cell_type": "markdown",
   "id": "f17afd9e",
   "metadata": {},
   "source": [
    "# Note:\n",
    "After cleaning, transforming, and preprocessing the text, it seems there might be duplicated texts.  \n",
    "I will inspect the data further and clean it if necessary.  \n",
    "Next, I want to view the distribution of tweets over time.  "
   ]
  },
  {
   "cell_type": "code",
   "execution_count": 19,
   "id": "1e5d5a93",
   "metadata": {},
   "outputs": [],
   "source": [
    "# Grouping tweets by date and counting the number of tweets on each date\n",
    "tweets_over_time = df.groupby('Date').size().reset_index()\n",
    "tweets_over_time.columns = ['Date', 'Tweet_Count']"
   ]
  },
  {
   "cell_type": "code",
   "execution_count": 20,
   "id": "4744db95",
   "metadata": {},
   "outputs": [
    {
     "data": {
      "image/png": "[encoded data removed]",
      "text/plain": [
       "<Figure size 1080x504 with 1 Axes>"
      ]
     },
     "metadata": {
      "needs_background": "light"
     },
     "output_type": "display_data"
    }
   ],
   "source": [
    "# Plotting the distribution of tweets over time\n",
    "fig, ax = plt.subplots(figsize=(15, 7))\n",
    "\n",
    "ax.plot(tweets_over_time['Date'], tweets_over_time['Tweet_Count'], marker='o', linestyle='-', label='Tweet Count')\n",
    "ax.set_title('Distribution of Tweets Over Time')\n",
    "ax.set_xlabel('Date')\n",
    "ax.set_ylabel('Number of Tweets')\n",
    "\n",
    "# Highlighting the start and end dates of the dataset\n",
    "start_date = tweets_over_time['Date'].iloc[0]\n",
    "end_date = tweets_over_time['Date'].iloc[-1]\n",
    "\n",
    "ax.annotate(f'Start: {start_date.strftime(\"%Y-%m-%d\")}', \n",
    "             xy=(start_date, tweets_over_time['Tweet_Count'].iloc[0]), \n",
    "             xytext=(start_date, tweets_over_time['Tweet_Count'].iloc[0] + 10000),\n",
    "             arrowprops=dict(facecolor='black', arrowstyle='->'),\n",
    "             horizontalalignment='left')\n",
    "\n",
    "ax.annotate(f'End: {end_date.strftime(\"%Y-%m-%d\")}', \n",
    "             xy=(end_date, tweets_over_time['Tweet_Count'].iloc[-1]), \n",
    "             xytext=(end_date, tweets_over_time['Tweet_Count'].iloc[-1] - 10000),\n",
    "             arrowprops=dict(facecolor='black', arrowstyle='->'),\n",
    "             horizontalalignment='right')\n",
    "\n",
    "# Adjusting grid, legend, and layout\n",
    "ax.grid(True)\n",
    "ax.legend()\n",
    "plt.tight_layout()\n",
    "plt.show()"
   ]
  },
  {
   "cell_type": "markdown",
   "id": "a33c9f3b",
   "metadata": {},
   "source": [
    "## Based on the updated graph \"Distribution of Tweets Over Time,\" I have derived several observations:\n",
    "\n",
    "- **Time Span:** The data spans from April 6, 2009, to June 25, 2009, covering almost three months.\n",
    "\n",
    "- **Variability:** The number of tweets fluctuates significantly throughout the period, indicating an inconsistency in tweet volume over time.\n",
    "\n",
    "- **Initial Low Volume:** At the beginning of the period, around April 6, 2009, there's a noticeable low volume of tweets.\n",
    "\n",
    "- **Significant Peaks:**\n",
    "    - A prominent peak occurs around mid-May, showcasing a substantial increase in tweet volume.\n",
    "    - The highest peak is observed in early June, with the tweet count nearing 100,000.\n",
    "\n",
    "- **Declining Trend Towards the End:** Post the peak in June, there's a sharp decrease in the number of tweets. By the end of the dataset's time range on June 25, 2009, the volume has significantly diminished.\n",
    "\n",
    "- **Final Rise:** Just before the dataset concludes, there's a minor surge in the number of tweets, possibly indicating a renewed interest or activity in the topic."
   ]
  },
  {
   "cell_type": "markdown",
   "id": "37e2a38e",
   "metadata": {},
   "source": [
    "# Identifying Trends Post-Text Preprocessing\n",
    "\n",
    "After preprocessing the text data, I want to inspect the dataset for duplicates to identify if the observed peaks in tweet distribution are related to trends."
   ]
  },
  {
   "cell_type": "code",
   "execution_count": 21,
   "id": "4ad8162a",
   "metadata": {},
   "outputs": [
    {
     "name": "stdout",
     "output_type": "stream",
     "text": [
      "                                                         8707\n",
      "thanks                                                   2775\n",
      "thank                                                    1823\n",
      "get 100 follower day using add everyone train pay vip    1484\n",
      "good morning                                             1177\n",
      "miss                                                     1000\n",
      "work                                                      894\n",
      "love                                                      740\n",
      "know                                                      660\n",
      "yes                                                       621\n",
      "Name: CleanText, dtype: int64\n"
     ]
    }
   ],
   "source": [
    "# Find the distribution of tweets after text preprocessing\n",
    "tweet_distribution = df[\"CleanText\"].value_counts()\n",
    "print(tweet_distribution.head(10))"
   ]
  },
  {
   "cell_type": "markdown",
   "id": "0cbf57ee",
   "metadata": {},
   "source": [
    "## Handling Empty Tweets\n",
    "Post text preprocessing, I have identified a significant number of empty tweets. Before proceeding to remove these, I should verify that no errors occurred during the preprocessing step."
   ]
  },
  {
   "cell_type": "code",
   "execution_count": 22,
   "id": "c916db45",
   "metadata": {},
   "outputs": [
    {
     "name": "stdout",
     "output_type": "stream",
     "text": [
      "                          text CleanText\n",
      "191           @HillyDoP  oH NO          \n",
      "208                 @mandayyy           \n",
      "249               @mandayyy             \n",
      "282      @ITS_NEMESIS -------           \n",
      "398             @danadearmond           \n",
      "...                        ...       ...\n",
      "1598921              If only?           \n",
      "1599494       @Sworn4DaBosses           \n",
      "1599552      @francii_ me too           \n",
      "1599811        to be with you           \n",
      "1599993      @SCOOBY_GRITBOYS           \n",
      "\n",
      "[8707 rows x 2 columns]\n"
     ]
    }
   ],
   "source": [
    "# Identify rows with empty CleanText\n",
    "empty_CleanText = df[df['CleanText'].isna() | (df['CleanText'] == \"\")]\n",
    "\n",
    "# Display the original \"text\" for these rows to confirm that they were indeed empty or non-informative\n",
    "print(empty_CleanText[['text', 'CleanText']])"
   ]
  },
  {
   "cell_type": "markdown",
   "id": "03de92a9",
   "metadata": {},
   "source": [
    "## Cleaning Data\n",
    "Now that I have verified the empty tweets are non-informative, I can safely remove them from our dataset."
   ]
  },
  {
   "cell_type": "code",
   "execution_count": 23,
   "id": "cfccf460",
   "metadata": {},
   "outputs": [
    {
     "data": {
      "text/html": [
       "<div>\n",
       "<style scoped>\n",
       "    .dataframe tbody tr th:only-of-type {\n",
       "        vertical-align: middle;\n",
       "    }\n",
       "\n",
       "    .dataframe tbody tr th {\n",
       "        vertical-align: top;\n",
       "    }\n",
       "\n",
       "    .dataframe thead th {\n",
       "        text-align: right;\n",
       "    }\n",
       "</style>\n",
       "<table border=\"1\" class=\"dataframe\">\n",
       "  <thead>\n",
       "    <tr style=\"text-align: right;\">\n",
       "      <th></th>\n",
       "      <th>Date</th>\n",
       "      <th>text</th>\n",
       "      <th>CleanText</th>\n",
       "    </tr>\n",
       "  </thead>\n",
       "  <tbody>\n",
       "    <tr>\n",
       "      <th>0</th>\n",
       "      <td>2009-04-06</td>\n",
       "      <td>@switchfoot http://twitpic.com/2y1zl - Awww, t...</td>\n",
       "      <td>thats bummer shoulda got david carr third day</td>\n",
       "    </tr>\n",
       "    <tr>\n",
       "      <th>1</th>\n",
       "      <td>2009-04-06</td>\n",
       "      <td>is upset that he can't update his Facebook by ...</td>\n",
       "      <td>upset cant update facebook texting might cry r...</td>\n",
       "    </tr>\n",
       "    <tr>\n",
       "      <th>2</th>\n",
       "      <td>2009-04-06</td>\n",
       "      <td>@Kenichan I dived many times for the ball. Man...</td>\n",
       "      <td>dived many time ball managed save rest bound</td>\n",
       "    </tr>\n",
       "    <tr>\n",
       "      <th>3</th>\n",
       "      <td>2009-04-06</td>\n",
       "      <td>my whole body feels itchy and like its on fire</td>\n",
       "      <td>whole body feel itchy like fire</td>\n",
       "    </tr>\n",
       "    <tr>\n",
       "      <th>4</th>\n",
       "      <td>2009-04-06</td>\n",
       "      <td>@nationwideclass no, it's not behaving at all....</td>\n",
       "      <td>behaving mad cant see</td>\n",
       "    </tr>\n",
       "  </tbody>\n",
       "</table>\n",
       "</div>"
      ],
      "text/plain": [
       "         Date                                               text  \\\n",
       "0  2009-04-06  @switchfoot http://twitpic.com/2y1zl - Awww, t...   \n",
       "1  2009-04-06  is upset that he can't update his Facebook by ...   \n",
       "2  2009-04-06  @Kenichan I dived many times for the ball. Man...   \n",
       "3  2009-04-06    my whole body feels itchy and like its on fire    \n",
       "4  2009-04-06  @nationwideclass no, it's not behaving at all....   \n",
       "\n",
       "                                           CleanText  \n",
       "0      thats bummer shoulda got david carr third day  \n",
       "1  upset cant update facebook texting might cry r...  \n",
       "2       dived many time ball managed save rest bound  \n",
       "3                    whole body feel itchy like fire  \n",
       "4                              behaving mad cant see  "
      ]
     },
     "execution_count": 23,
     "metadata": {},
     "output_type": "execute_result"
    }
   ],
   "source": [
    "# Remove rows with empty CleanText\n",
    "df_cleaned = df[df['CleanText'].notna() & (df['CleanText'] != \"\")]\n",
    "\n",
    "# Reset the index after dropping rows\n",
    "df_cleaned.reset_index(drop=True, inplace=True)\n",
    "\n",
    "# Display the first few rows of the cleaned dataframe\n",
    "df_cleaned.head()"
   ]
  },
  {
   "cell_type": "code",
   "execution_count": 24,
   "id": "a2cb9b98",
   "metadata": {
    "scrolled": true
   },
   "outputs": [
    {
     "name": "stdout",
     "output_type": "stream",
     "text": [
      "thanks                                                   2775\n",
      "thank                                                    1823\n",
      "get 100 follower day using add everyone train pay vip    1484\n",
      "good morning                                             1177\n",
      "miss                                                     1000\n",
      "work                                                      894\n",
      "love                                                      740\n",
      "know                                                      660\n",
      "yes                                                       621\n",
      "headache                                                  565\n",
      "Name: CleanText, dtype: int64\n"
     ]
    }
   ],
   "source": [
    "# After removing empty rows, analyze the top duplicate tweets again\n",
    "tweet_distribution = df_cleaned[\"CleanText\"].value_counts()\n",
    "print(tweet_distribution.head(10))"
   ]
  },
  {
   "cell_type": "markdown",
   "id": "d934a88a",
   "metadata": {},
   "source": [
    "## Analysis of Top Duplicates\n",
    "After inspecting the dataset for duplicates post-text preprocessing, I observed that:\n",
    "\n",
    "- **Nature of duplicates:** There are some common phrases, while others are exact duplicates of tweets. The latter may indicate spam or automated tweets.\n",
    "\n",
    "- **Sentiment ambiguity:** Common phrases like \"miss,\" \"work,\" and \"know\" are sentiment-ambiguous. Without additional context, it's challenging to ascertain their sentiment, making them less informative for sentiment analysis.\n",
    "\n",
    "- **Impact on results:** The dataset is large, so removing a few thousand duplicates may not significantly impact the overall results.\n",
    "\n",
    "Considering these points, I will proceed to remove spam tweets to reduce potential biases, although this may not significantly affect the results."
   ]
  },
  {
   "cell_type": "code",
   "execution_count": 25,
   "id": "2ada1e46",
   "metadata": {},
   "outputs": [],
   "source": [
    "# Drop rows containing spam phrases\n",
    "df_cleaned = df_cleaned[df_cleaned['CleanText'] != \"get 100 followers a day using add everyone train pay vip\"]\n",
    "\n",
    "# Reset the index post-dropping rows\n",
    "df_cleaned.reset_index(drop=True, inplace=True)"
   ]
  },
  {
   "cell_type": "markdown",
   "id": "3a8ee713",
   "metadata": {},
   "source": [
    "## Word Frequency Analysis\n",
    "Analyzing the most common words can provide insights into the main topics or themes prevalent in the tweets.\n"
   ]
  },
  {
   "cell_type": "code",
   "execution_count": 26,
   "id": "72fa42ec",
   "metadata": {
    "scrolled": true
   },
   "outputs": [
    {
     "data": {
      "text/plain": [
       "[('day', 101130),\n",
       " ('good', 89396),\n",
       " ('get', 85691),\n",
       " ('like', 78994),\n",
       " ('love', 66891),\n",
       " ('dont', 66828),\n",
       " ('work', 66348),\n",
       " ('today', 65965),\n",
       " ('going', 64007),\n",
       " ('time', 63663)]"
      ]
     },
     "execution_count": 26,
     "metadata": {},
     "output_type": "execute_result"
    }
   ],
   "source": [
    "# word frequency analysis\n",
    "from collections import Counter\n",
    "\n",
    "all_words = ' '.join(df_cleaned['CleanText'].astype(str)).split()\n",
    "word_freq = Counter(all_words)\n",
    "top_words = word_freq.most_common(10)\n",
    "top_words"
   ]
  },
  {
   "cell_type": "markdown",
   "id": "8a829a8a",
   "metadata": {},
   "source": [
    "## Sentiment Analysis\n",
    "Sentiment analysis will help to comprehend the general emotional tone expressed in the tweets.\n"
   ]
  },
  {
   "cell_type": "code",
   "execution_count": 27,
   "id": "48dc81e0",
   "metadata": {},
   "outputs": [
    {
     "data": {
      "text/html": [
       "<div>\n",
       "<style scoped>\n",
       "    .dataframe tbody tr th:only-of-type {\n",
       "        vertical-align: middle;\n",
       "    }\n",
       "\n",
       "    .dataframe tbody tr th {\n",
       "        vertical-align: top;\n",
       "    }\n",
       "\n",
       "    .dataframe thead th {\n",
       "        text-align: right;\n",
       "    }\n",
       "</style>\n",
       "<table border=\"1\" class=\"dataframe\">\n",
       "  <thead>\n",
       "    <tr style=\"text-align: right;\">\n",
       "      <th></th>\n",
       "      <th>Date</th>\n",
       "      <th>text</th>\n",
       "      <th>CleanText</th>\n",
       "      <th>sentiment_score</th>\n",
       "      <th>sentiment_category</th>\n",
       "    </tr>\n",
       "  </thead>\n",
       "  <tbody>\n",
       "    <tr>\n",
       "      <th>0</th>\n",
       "      <td>2009-04-06</td>\n",
       "      <td>@switchfoot http://twitpic.com/2y1zl - Awww, t...</td>\n",
       "      <td>thats bummer shoulda got david carr third day</td>\n",
       "      <td>0.000</td>\n",
       "      <td>neutral</td>\n",
       "    </tr>\n",
       "    <tr>\n",
       "      <th>1</th>\n",
       "      <td>2009-04-06</td>\n",
       "      <td>is upset that he can't update his Facebook by ...</td>\n",
       "      <td>upset cant update facebook texting might cry r...</td>\n",
       "      <td>0.000</td>\n",
       "      <td>neutral</td>\n",
       "    </tr>\n",
       "    <tr>\n",
       "      <th>2</th>\n",
       "      <td>2009-04-06</td>\n",
       "      <td>@Kenichan I dived many times for the ball. Man...</td>\n",
       "      <td>dived many time ball managed save rest bound</td>\n",
       "      <td>0.500</td>\n",
       "      <td>positive</td>\n",
       "    </tr>\n",
       "    <tr>\n",
       "      <th>3</th>\n",
       "      <td>2009-04-06</td>\n",
       "      <td>my whole body feels itchy and like its on fire</td>\n",
       "      <td>whole body feel itchy like fire</td>\n",
       "      <td>0.200</td>\n",
       "      <td>positive</td>\n",
       "    </tr>\n",
       "    <tr>\n",
       "      <th>4</th>\n",
       "      <td>2009-04-06</td>\n",
       "      <td>@nationwideclass no, it's not behaving at all....</td>\n",
       "      <td>behaving mad cant see</td>\n",
       "      <td>-0.625</td>\n",
       "      <td>negative</td>\n",
       "    </tr>\n",
       "  </tbody>\n",
       "</table>\n",
       "</div>"
      ],
      "text/plain": [
       "         Date                                               text  \\\n",
       "0  2009-04-06  @switchfoot http://twitpic.com/2y1zl - Awww, t...   \n",
       "1  2009-04-06  is upset that he can't update his Facebook by ...   \n",
       "2  2009-04-06  @Kenichan I dived many times for the ball. Man...   \n",
       "3  2009-04-06    my whole body feels itchy and like its on fire    \n",
       "4  2009-04-06  @nationwideclass no, it's not behaving at all....   \n",
       "\n",
       "                                           CleanText  sentiment_score  \\\n",
       "0      thats bummer shoulda got david carr third day            0.000   \n",
       "1  upset cant update facebook texting might cry r...            0.000   \n",
       "2       dived many time ball managed save rest bound            0.500   \n",
       "3                    whole body feel itchy like fire            0.200   \n",
       "4                              behaving mad cant see           -0.625   \n",
       "\n",
       "  sentiment_category  \n",
       "0            neutral  \n",
       "1            neutral  \n",
       "2           positive  \n",
       "3           positive  \n",
       "4           negative  "
      ]
     },
     "execution_count": 27,
     "metadata": {},
     "output_type": "execute_result"
    }
   ],
   "source": [
    "# Perform sentiment analysis\n",
    "from textblob import TextBlob\n",
    "\n",
    "# Define function to calculate sentiment score\n",
    "def get_sentiment_score(text):\n",
    "    analysis = TextBlob(text)\n",
    "    return analysis.sentiment.polarity\n",
    "\n",
    "# Define function to categorize sentiment based on score\n",
    "def get_sentiment_category(score):\n",
    "    if score > 0:\n",
    "        return 'positive'\n",
    "    elif score == 0:\n",
    "        return 'neutral'\n",
    "    else:\n",
    "        return 'negative'\n",
    "\n",
    "# Apply functions to create new columns\n",
    "df_cleaned['sentiment_score'] = df_cleaned['CleanText'].apply(get_sentiment_score)\n",
    "df_cleaned['sentiment_category'] = df_cleaned['sentiment_score'].apply(get_sentiment_category)\n",
    "\n",
    "df_cleaned.head()\n"
   ]
  },
  {
   "cell_type": "markdown",
   "id": "54b2aa34",
   "metadata": {},
   "source": [
    "## Sentiment Distribution Analysis\n",
    "In this section, I will analyze the distribution of sentiments (positive, neutral, negative) across the tweets in the cleaned dataset.\n"
   ]
  },
  {
   "cell_type": "code",
   "execution_count": 28,
   "id": "c300ed17",
   "metadata": {
    "scrolled": true
   },
   "outputs": [
    {
     "data": {
      "image/png": "[encoded data removed]",
      "text/plain": [
       "<Figure size 576x432 with 1 Axes>"
      ]
     },
     "metadata": {
      "needs_background": "light"
     },
     "output_type": "display_data"
    }
   ],
   "source": [
    "# Drop the text column as it is no longer needed\n",
    "df_cleaned = df_cleaned.drop(columns=\"text\")\n",
    "\n",
    "# Calculate the sentiment distribution\n",
    "sentiment_counts = df_cleaned['sentiment_category'].value_counts()\n",
    "\n",
    "# Plotting the sentiment distribution\n",
    "plt.figure(figsize=(8, 6))\n",
    "sentiment_counts.plot(kind='bar', color=['skyblue', 'salmon', 'lightgreen'])\n",
    "plt.title('Sentiment Distribution')\n",
    "plt.xlabel('Sentiment')\n",
    "plt.ylabel('Number of Tweets')\n",
    "plt.xticks(rotation=0)\n",
    "plt.show()"
   ]
  },
  {
   "cell_type": "markdown",
   "id": "9501a5be",
   "metadata": {},
   "source": [
    "### Observations and Conclusion\n",
    "From the bar chart above, I can observe the following:\n",
    "\n",
    "1. **Positive Sentiment:** The majority of tweets in the dataset exhibit a positive sentiment. This indicates that, during the time frame of this dataset, the overall sentiment expressed by users was largely positive.\n",
    "\n",
    "2. **Neutral Sentiment:** The second most frequent category is neutral. This implies that a significant portion of tweets are informational or indifferent in nature, not expressing a strong positive or negative sentiment.\n",
    "\n",
    "3. **Negative Sentiment:** Although less frequent compared to positive and neutral sentiments, there is still a considerable number of tweets that are classified as negative.\n",
    "\n",
    "It is important to note that the prevalence of positive sentiments could potentially introduce a bias towards positive sentiments when I train the machine learning models using this dataset.\n"
   ]
  },
  {
   "cell_type": "code",
   "execution_count": 29,
   "id": "79c27b72",
   "metadata": {
    "scrolled": false
   },
   "outputs": [
    {
     "data": {
      "image/png": "[encoded data removed]",
      "text/plain": [
       "<Figure size 1080x504 with 1 Axes>"
      ]
     },
     "metadata": {
      "needs_background": "light"
     },
     "output_type": "display_data"
    }
   ],
   "source": [
    "# Convert 'Date' column to datetime format\n",
    "df_cleaned['Date'] = pd.to_datetime(df_cleaned['Date'])\n",
    "\n",
    "# Group the data by date and sentiment\n",
    "grouped_df = df_cleaned.groupby([df_cleaned['Date'].dt.date, 'sentiment_category']).size().reset_index(name='count')\n",
    "\n",
    "# Pivot the data for better visualization\n",
    "pivot_df = grouped_df.pivot(index='Date', columns='sentiment_category', values='count').fillna(0)\n",
    "\n",
    "# Plot the data\n",
    "fig, ax = plt.subplots(figsize=(15, 7))\n",
    "pivot_df.plot(kind='line', ax=ax)\n",
    "ax.set_title('Sentiment Distribution Over Time')\n",
    "ax.set_xlabel('Date')\n",
    "ax.set_ylabel('Number of Tweets')\n",
    "ax.grid(True, which='both')\n",
    "plt.tight_layout()\n",
    "plt.show()"
   ]
  },
  {
   "cell_type": "markdown",
   "id": "78d4408b",
   "metadata": {},
   "source": [
    "### Observations and Conclusion\n",
    "Upon analyzing the distribution of sentiments over time, I can draw the following conclusions:\n",
    "\n",
    "- The sentiments tend to follow the same general trend as the overall distribution of tweets over time, suggesting that the proportion of each sentiment category remains relatively constant.\n",
    "\n",
    "- There are no noticeable peaks or declines in any particular sentiment category over time, implying that the relative proportion of positive, neutral, and negative tweets remains stable throughout the dataset's timeframe.\n",
    "\n"
   ]
  },
  {
   "cell_type": "code",
   "execution_count": 30,
   "id": "025728bb",
   "metadata": {},
   "outputs": [
    {
     "data": {
      "image/png": "[encoded data removed]",
      "text/plain": [
       "<Figure size 1080x504 with 1 Axes>"
      ]
     },
     "metadata": {
      "needs_background": "light"
     },
     "output_type": "display_data"
    }
   ],
   "source": [
    "# Convert 'Date' column to datetime format\n",
    "df_cleaned['Date'] = pd.to_datetime(df_cleaned['Date'])\n",
    "\n",
    "# Group the data by date and calculate the average sentiment score for each date\n",
    "grouped_df = df_cleaned.groupby(df_cleaned['Date'].dt.date)['sentiment_score'].mean().reset_index()\n",
    "\n",
    "# Plot the data\n",
    "fig, ax = plt.subplots(figsize=(15, 7))\n",
    "ax.plot(grouped_df['Date'], grouped_df['sentiment_score'], label='Sentiment Score', color='blue')\n",
    "ax.set_title('Sentiment Score Distribution Over Time')\n",
    "ax.set_xlabel('Date')\n",
    "ax.set_ylabel('Average Sentiment Score')\n",
    "ax.grid(True, which='both')\n",
    "plt.tight_layout()\n",
    "plt.legend()\n",
    "plt.show()\n"
   ]
  },
  {
   "cell_type": "code",
   "execution_count": 31,
   "id": "af407a41",
   "metadata": {},
   "outputs": [],
   "source": [
    "from statsmodels.tsa.seasonal import seasonal_decompose"
   ]
  },
  {
   "cell_type": "code",
   "execution_count": 32,
   "id": "0795572c",
   "metadata": {
    "scrolled": false
   },
   "outputs": [
    {
     "data": {
      "text/html": [
       "<div>\n",
       "<style scoped>\n",
       "    .dataframe tbody tr th:only-of-type {\n",
       "        vertical-align: middle;\n",
       "    }\n",
       "\n",
       "    .dataframe tbody tr th {\n",
       "        vertical-align: top;\n",
       "    }\n",
       "\n",
       "    .dataframe thead th {\n",
       "        text-align: right;\n",
       "    }\n",
       "</style>\n",
       "<table border=\"1\" class=\"dataframe\">\n",
       "  <thead>\n",
       "    <tr style=\"text-align: right;\">\n",
       "      <th></th>\n",
       "      <th>Date</th>\n",
       "      <th>CleanText</th>\n",
       "      <th>sentiment_score</th>\n",
       "      <th>sentiment_category</th>\n",
       "    </tr>\n",
       "  </thead>\n",
       "  <tbody>\n",
       "    <tr>\n",
       "      <th>0</th>\n",
       "      <td>2009-04-06</td>\n",
       "      <td>thats bummer shoulda got david carr third day</td>\n",
       "      <td>0.000</td>\n",
       "      <td>neutral</td>\n",
       "    </tr>\n",
       "    <tr>\n",
       "      <th>1</th>\n",
       "      <td>2009-04-06</td>\n",
       "      <td>upset cant update facebook texting might cry r...</td>\n",
       "      <td>0.000</td>\n",
       "      <td>neutral</td>\n",
       "    </tr>\n",
       "    <tr>\n",
       "      <th>2</th>\n",
       "      <td>2009-04-06</td>\n",
       "      <td>dived many time ball managed save rest bound</td>\n",
       "      <td>0.500</td>\n",
       "      <td>positive</td>\n",
       "    </tr>\n",
       "    <tr>\n",
       "      <th>3</th>\n",
       "      <td>2009-04-06</td>\n",
       "      <td>whole body feel itchy like fire</td>\n",
       "      <td>0.200</td>\n",
       "      <td>positive</td>\n",
       "    </tr>\n",
       "    <tr>\n",
       "      <th>4</th>\n",
       "      <td>2009-04-06</td>\n",
       "      <td>behaving mad cant see</td>\n",
       "      <td>-0.625</td>\n",
       "      <td>negative</td>\n",
       "    </tr>\n",
       "  </tbody>\n",
       "</table>\n",
       "</div>"
      ],
      "text/plain": [
       "        Date                                          CleanText  \\\n",
       "0 2009-04-06      thats bummer shoulda got david carr third day   \n",
       "1 2009-04-06  upset cant update facebook texting might cry r...   \n",
       "2 2009-04-06       dived many time ball managed save rest bound   \n",
       "3 2009-04-06                    whole body feel itchy like fire   \n",
       "4 2009-04-06                              behaving mad cant see   \n",
       "\n",
       "   sentiment_score sentiment_category  \n",
       "0            0.000            neutral  \n",
       "1            0.000            neutral  \n",
       "2            0.500           positive  \n",
       "3            0.200           positive  \n",
       "4           -0.625           negative  "
      ]
     },
     "execution_count": 32,
     "metadata": {},
     "output_type": "execute_result"
    }
   ],
   "source": [
    "df_cleaned.head()"
   ]
  },
  {
   "cell_type": "code",
   "execution_count": 35,
   "id": "8e32e5d7",
   "metadata": {
    "scrolled": true
   },
   "outputs": [
    {
     "data": {
      "text/html": [
       "<div>\n",
       "<style scoped>\n",
       "    .dataframe tbody tr th:only-of-type {\n",
       "        vertical-align: middle;\n",
       "    }\n",
       "\n",
       "    .dataframe tbody tr th {\n",
       "        vertical-align: top;\n",
       "    }\n",
       "\n",
       "    .dataframe thead th {\n",
       "        text-align: right;\n",
       "    }\n",
       "</style>\n",
       "<table border=\"1\" class=\"dataframe\">\n",
       "  <thead>\n",
       "    <tr style=\"text-align: right;\">\n",
       "      <th></th>\n",
       "      <th>CleanText</th>\n",
       "      <th>sentiment_score</th>\n",
       "      <th>sentiment_category</th>\n",
       "    </tr>\n",
       "    <tr>\n",
       "      <th>Date</th>\n",
       "      <th></th>\n",
       "      <th></th>\n",
       "      <th></th>\n",
       "    </tr>\n",
       "  </thead>\n",
       "  <tbody>\n",
       "    <tr>\n",
       "      <th>2009-04-06</th>\n",
       "      <td>thats bummer shoulda got david carr third day</td>\n",
       "      <td>0.000</td>\n",
       "      <td>neutral</td>\n",
       "    </tr>\n",
       "    <tr>\n",
       "      <th>2009-04-06</th>\n",
       "      <td>upset cant update facebook texting might cry r...</td>\n",
       "      <td>0.000</td>\n",
       "      <td>neutral</td>\n",
       "    </tr>\n",
       "    <tr>\n",
       "      <th>2009-04-06</th>\n",
       "      <td>dived many time ball managed save rest bound</td>\n",
       "      <td>0.500</td>\n",
       "      <td>positive</td>\n",
       "    </tr>\n",
       "    <tr>\n",
       "      <th>2009-04-06</th>\n",
       "      <td>whole body feel itchy like fire</td>\n",
       "      <td>0.200</td>\n",
       "      <td>positive</td>\n",
       "    </tr>\n",
       "    <tr>\n",
       "      <th>2009-04-06</th>\n",
       "      <td>behaving mad cant see</td>\n",
       "      <td>-0.625</td>\n",
       "      <td>negative</td>\n",
       "    </tr>\n",
       "  </tbody>\n",
       "</table>\n",
       "</div>"
      ],
      "text/plain": [
       "                                                    CleanText  \\\n",
       "Date                                                            \n",
       "2009-04-06      thats bummer shoulda got david carr third day   \n",
       "2009-04-06  upset cant update facebook texting might cry r...   \n",
       "2009-04-06       dived many time ball managed save rest bound   \n",
       "2009-04-06                    whole body feel itchy like fire   \n",
       "2009-04-06                              behaving mad cant see   \n",
       "\n",
       "            sentiment_score sentiment_category  \n",
       "Date                                            \n",
       "2009-04-06            0.000            neutral  \n",
       "2009-04-06            0.000            neutral  \n",
       "2009-04-06            0.500           positive  \n",
       "2009-04-06            0.200           positive  \n",
       "2009-04-06           -0.625           negative  "
      ]
     },
     "execution_count": 35,
     "metadata": {},
     "output_type": "execute_result"
    }
   ],
   "source": [
    "df_cleaned.set_index('Date', inplace=True)\n",
    "df_cleaned.head()"
   ]
  },
  {
   "cell_type": "code",
   "execution_count": 67,
   "id": "cb42bc9a",
   "metadata": {
    "scrolled": true
   },
   "outputs": [
    {
     "data": {
      "text/html": [
       "<div>\n",
       "<style scoped>\n",
       "    .dataframe tbody tr th:only-of-type {\n",
       "        vertical-align: middle;\n",
       "    }\n",
       "\n",
       "    .dataframe tbody tr th {\n",
       "        vertical-align: top;\n",
       "    }\n",
       "\n",
       "    .dataframe thead th {\n",
       "        text-align: right;\n",
       "    }\n",
       "</style>\n",
       "<table border=\"1\" class=\"dataframe\">\n",
       "  <thead>\n",
       "    <tr style=\"text-align: right;\">\n",
       "      <th></th>\n",
       "      <th>sentiment_score</th>\n",
       "    </tr>\n",
       "    <tr>\n",
       "      <th>Date</th>\n",
       "      <th></th>\n",
       "    </tr>\n",
       "  </thead>\n",
       "  <tbody>\n",
       "    <tr>\n",
       "      <th>2009-04-06</th>\n",
       "      <td>0.092126</td>\n",
       "    </tr>\n",
       "    <tr>\n",
       "      <th>2009-04-13</th>\n",
       "      <td>0.097603</td>\n",
       "    </tr>\n",
       "    <tr>\n",
       "      <th>2009-04-20</th>\n",
       "      <td>0.112449</td>\n",
       "    </tr>\n",
       "    <tr>\n",
       "      <th>2009-04-27</th>\n",
       "      <td>0.109580</td>\n",
       "    </tr>\n",
       "    <tr>\n",
       "      <th>2009-05-04</th>\n",
       "      <td>0.110414</td>\n",
       "    </tr>\n",
       "  </tbody>\n",
       "</table>\n",
       "</div>"
      ],
      "text/plain": [
       "            sentiment_score\n",
       "Date                       \n",
       "2009-04-06         0.092126\n",
       "2009-04-13         0.097603\n",
       "2009-04-20         0.112449\n",
       "2009-04-27         0.109580\n",
       "2009-05-04         0.110414"
      ]
     },
     "execution_count": 67,
     "metadata": {},
     "output_type": "execute_result"
    }
   ],
   "source": [
    "df_weekly = df_cleaned.resample('W-MON').mean()\n",
    "df_weekly.head()"
   ]
  },
  {
   "cell_type": "code",
   "execution_count": 68,
   "id": "a0f0eb87",
   "metadata": {},
   "outputs": [
    {
     "name": "stdout",
     "output_type": "stream",
     "text": [
      "Number of rows with missing values: 0.0\n"
     ]
    }
   ],
   "source": [
    "print(f'Number of rows with missing values: {df_weekly.isnull().any(axis=1).mean()}')"
   ]
  },
  {
   "cell_type": "code",
   "execution_count": 69,
   "id": "4adb1961",
   "metadata": {},
   "outputs": [
    {
     "data": {
      "image/png": "[encoded data removed]",
      "text/plain": [
       "<Figure size 432x288 with 1 Axes>"
      ]
     },
     "metadata": {},
     "output_type": "display_data"
    }
   ],
   "source": [
    "sns.set()\n",
    "plt.ylabel('sentiment_score')\n",
    "plt.xlabel('Date')\n",
    "plt.xticks(rotation=45)\n",
    "plt.plot(df_weekly.index, df_weekly['sentiment_score'], )\n",
    "plt.show()"
   ]
  },
  {
   "cell_type": "code",
   "execution_count": 70,
   "id": "2a4ad7df",
   "metadata": {},
   "outputs": [],
   "source": [
    "result = seasonal_decompose(df_weekly['sentiment_score'], model='additive',period=4)"
   ]
  },
  {
   "cell_type": "code",
   "execution_count": 71,
   "id": "a6c9935a",
   "metadata": {
    "scrolled": true
   },
   "outputs": [
    {
     "data": {
      "image/png": "[encoded data removed]",
      "text/plain": [
       "<Figure size 432x288 with 4 Axes>"
      ]
     },
     "metadata": {},
     "output_type": "display_data"
    }
   ],
   "source": [
    "result.plot()\n",
    "plt.show()\n"
   ]
  },
  {
   "cell_type": "code",
   "execution_count": 74,
   "id": "374fb84a",
   "metadata": {},
   "outputs": [],
   "source": [
    "from statsmodels.tsa.holtwinters import SimpleExpSmoothing\n",
    "\n",
    "# Train-test split (e.g., 11 weeks for training)\n",
    "train = df_weekly['sentiment_score'].iloc[:11]\n",
    "test = df_weekly['sentiment_score'].iloc[11:]\n",
    "\n",
    "model = SimpleExpSmoothing(train)\n",
    "model_fit = model.fit()\n",
    "forecast = model_fit.forecast(len(test))\n",
    "\n",
    "# Compare forecast with actual test values"
   ]
  },
  {
   "cell_type": "code",
   "execution_count": 77,
   "id": "08d7eec8",
   "metadata": {
    "scrolled": true
   },
   "outputs": [
    {
     "data": {
      "text/plain": [
       "2009-06-22    0.106387\n",
       "2009-06-29    0.106387\n",
       "Freq: W-MON, dtype: float64"
      ]
     },
     "execution_count": 77,
     "metadata": {},
     "output_type": "execute_result"
    }
   ],
   "source": [
    "forecast"
   ]
  },
  {
   "cell_type": "code",
   "execution_count": 75,
   "id": "6c958ac4",
   "metadata": {},
   "outputs": [],
   "source": [
    "from sklearn.metrics import mean_squared_error\n",
    "rmse = mean_squared_error(test, forecast, squared=False)\n"
   ]
  },
  {
   "cell_type": "code",
   "execution_count": 78,
   "id": "a4d090ae",
   "metadata": {},
   "outputs": [
    {
     "data": {
      "text/plain": [
       "0.11348645177650749"
      ]
     },
     "execution_count": 78,
     "metadata": {},
     "output_type": "execute_result"
    }
   ],
   "source": [
    "rmse"
   ]
  },
  {
   "cell_type": "code",
   "execution_count": 80,
   "id": "dbc8b8d9",
   "metadata": {},
   "outputs": [
    {
     "data": {
      "image/png": "[encoded data removed]",
      "text/plain": [
       "<Figure size 648x288 with 1 Axes>"
      ]
     },
     "metadata": {},
     "output_type": "display_data"
    }
   ],
   "source": [
    "# Plot\n",
    "# ==============================================================================\n",
    "fig, ax = plt.subplots(figsize=(9, 4))\n",
    "train.plot(ax=ax, label='train')\n",
    "test.plot(ax=ax, label='test')\n",
    "forecast.plot(ax=ax, label='predictions')\n",
    "ax.legend();"
   ]
  },
  {
   "cell_type": "code",
   "execution_count": 73,
   "id": "eaebcf32",
   "metadata": {},
   "outputs": [
    {
     "name": "stdout",
     "output_type": "stream",
     "text": [
      "Train dates : 2009-04-06 00:00:00 --- 2009-06-08 00:00:00  (n=10)\n",
      "Test dates  : 2009-06-15 00:00:00 --- 2009-06-29 00:00:00  (n=3)\n"
     ]
    },
    {
     "data": {
      "image/png": "[encoded data removed]",
      "text/plain": [
       "<Figure size 648x288 with 1 Axes>"
      ]
     },
     "metadata": {},
     "output_type": "display_data"
    }
   ],
   "source": [
    "# Split data into train-test\n",
    "# ==============================================================================\n",
    "steps = 3\n",
    "df_weekly_train = df_weekly[:-steps]\n",
    "df_weekly_test  = df_weekly[-steps:]\n",
    "\n",
    "print(f\"Train dates : {df_weekly_train.index.min()} --- {df_weekly_train.index.max()}  (n={len(df_weekly_train)})\")\n",
    "print(f\"Test dates  : {df_weekly_test.index.min()} --- {df_weekly_test.index.max()}  (n={len(df_weekly_test)})\")\n",
    "\n",
    "fig, ax=plt.subplots(figsize=(9, 4))\n",
    "df_weekly_train['sentiment_score'].plot(ax=ax, label='train')\n",
    "df_weekly_test['sentiment_score'].plot(ax=ax, label='test')\n",
    "ax.legend();"
   ]
  },
  {
   "cell_type": "code",
   "execution_count": 63,
   "id": "b4e371f9",
   "metadata": {},
   "outputs": [],
   "source": [
    "df_weekly['detrended'] = df_weekly['sentiment_score'] - result.trend"
   ]
  },
  {
   "cell_type": "code",
   "execution_count": 66,
   "id": "46e63392",
   "metadata": {},
   "outputs": [
    {
     "data": {
      "text/html": [
       "<div>\n",
       "<style scoped>\n",
       "    .dataframe tbody tr th:only-of-type {\n",
       "        vertical-align: middle;\n",
       "    }\n",
       "\n",
       "    .dataframe tbody tr th {\n",
       "        vertical-align: top;\n",
       "    }\n",
       "\n",
       "    .dataframe thead th {\n",
       "        text-align: right;\n",
       "    }\n",
       "</style>\n",
       "<table border=\"1\" class=\"dataframe\">\n",
       "  <thead>\n",
       "    <tr style=\"text-align: right;\">\n",
       "      <th></th>\n",
       "      <th>sentiment_score</th>\n",
       "      <th>detrended</th>\n",
       "    </tr>\n",
       "    <tr>\n",
       "      <th>Date</th>\n",
       "      <th></th>\n",
       "      <th></th>\n",
       "    </tr>\n",
       "  </thead>\n",
       "  <tbody>\n",
       "    <tr>\n",
       "      <th>2009-04-06</th>\n",
       "      <td>0.092126</td>\n",
       "      <td>NaN</td>\n",
       "    </tr>\n",
       "    <tr>\n",
       "      <th>2009-04-13</th>\n",
       "      <td>0.097603</td>\n",
       "      <td>NaN</td>\n",
       "    </tr>\n",
       "    <tr>\n",
       "      <th>2009-04-20</th>\n",
       "      <td>0.112449</td>\n",
       "      <td>0.007224</td>\n",
       "    </tr>\n",
       "    <tr>\n",
       "      <th>2009-04-27</th>\n",
       "      <td>0.109580</td>\n",
       "      <td>-0.003320</td>\n",
       "    </tr>\n",
       "    <tr>\n",
       "      <th>2009-05-04</th>\n",
       "      <td>0.110414</td>\n",
       "      <td>-0.008301</td>\n",
       "    </tr>\n",
       "    <tr>\n",
       "      <th>2009-05-11</th>\n",
       "      <td>0.140711</td>\n",
       "      <td>0.020283</td>\n",
       "    </tr>\n",
       "    <tr>\n",
       "      <th>2009-05-18</th>\n",
       "      <td>0.115864</td>\n",
       "      <td>-0.006449</td>\n",
       "    </tr>\n",
       "    <tr>\n",
       "      <th>2009-05-25</th>\n",
       "      <td>0.119862</td>\n",
       "      <td>0.000830</td>\n",
       "    </tr>\n",
       "    <tr>\n",
       "      <th>2009-06-01</th>\n",
       "      <td>0.115219</td>\n",
       "      <td>0.001645</td>\n",
       "    </tr>\n",
       "    <tr>\n",
       "      <th>2009-06-08</th>\n",
       "      <td>0.109659</td>\n",
       "      <td>0.012247</td>\n",
       "    </tr>\n",
       "    <tr>\n",
       "      <th>2009-06-15</th>\n",
       "      <td>0.103244</td>\n",
       "      <td>0.036884</td>\n",
       "    </tr>\n",
       "    <tr>\n",
       "      <th>2009-06-22</th>\n",
       "      <td>0.003195</td>\n",
       "      <td>NaN</td>\n",
       "    </tr>\n",
       "    <tr>\n",
       "      <th>2009-06-29</th>\n",
       "      <td>-0.016535</td>\n",
       "      <td>NaN</td>\n",
       "    </tr>\n",
       "  </tbody>\n",
       "</table>\n",
       "</div>"
      ],
      "text/plain": [
       "            sentiment_score  detrended\n",
       "Date                                  \n",
       "2009-04-06         0.092126        NaN\n",
       "2009-04-13         0.097603        NaN\n",
       "2009-04-20         0.112449   0.007224\n",
       "2009-04-27         0.109580  -0.003320\n",
       "2009-05-04         0.110414  -0.008301\n",
       "2009-05-11         0.140711   0.020283\n",
       "2009-05-18         0.115864  -0.006449\n",
       "2009-05-25         0.119862   0.000830\n",
       "2009-06-01         0.115219   0.001645\n",
       "2009-06-08         0.109659   0.012247\n",
       "2009-06-15         0.103244   0.036884\n",
       "2009-06-22         0.003195        NaN\n",
       "2009-06-29        -0.016535        NaN"
      ]
     },
     "execution_count": 66,
     "metadata": {},
     "output_type": "execute_result"
    }
   ],
   "source": [
    "df_weekly"
   ]
  },
  {
   "cell_type": "code",
   "execution_count": 64,
   "id": "9f91e85f",
   "metadata": {},
   "outputs": [
    {
     "ename": "KeyError",
     "evalue": "'Date'",
     "output_type": "error",
     "traceback": [
      "\u001b[1;31m---------------------------------------------------------------------------\u001b[0m",
      "\u001b[1;31mKeyError\u001b[0m                                  Traceback (most recent call last)",
      "File \u001b[1;32m~\\anaconda3\\lib\\site-packages\\pandas\\core\\indexes\\base.py:3621\u001b[0m, in \u001b[0;36mIndex.get_loc\u001b[1;34m(self, key, method, tolerance)\u001b[0m\n\u001b[0;32m   3620\u001b[0m \u001b[38;5;28;01mtry\u001b[39;00m:\n\u001b[1;32m-> 3621\u001b[0m     \u001b[38;5;28;01mreturn\u001b[39;00m \u001b[38;5;28;43mself\u001b[39;49m\u001b[38;5;241;43m.\u001b[39;49m\u001b[43m_engine\u001b[49m\u001b[38;5;241;43m.\u001b[39;49m\u001b[43mget_loc\u001b[49m\u001b[43m(\u001b[49m\u001b[43mcasted_key\u001b[49m\u001b[43m)\u001b[49m\n\u001b[0;32m   3622\u001b[0m \u001b[38;5;28;01mexcept\u001b[39;00m \u001b[38;5;167;01mKeyError\u001b[39;00m \u001b[38;5;28;01mas\u001b[39;00m err:\n",
      "File \u001b[1;32m~\\anaconda3\\lib\\site-packages\\pandas\\_libs\\index.pyx:136\u001b[0m, in \u001b[0;36mpandas._libs.index.IndexEngine.get_loc\u001b[1;34m()\u001b[0m\n",
      "File \u001b[1;32m~\\anaconda3\\lib\\site-packages\\pandas\\_libs\\index.pyx:163\u001b[0m, in \u001b[0;36mpandas._libs.index.IndexEngine.get_loc\u001b[1;34m()\u001b[0m\n",
      "File \u001b[1;32mpandas\\_libs\\hashtable_class_helper.pxi:5198\u001b[0m, in \u001b[0;36mpandas._libs.hashtable.PyObjectHashTable.get_item\u001b[1;34m()\u001b[0m\n",
      "File \u001b[1;32mpandas\\_libs\\hashtable_class_helper.pxi:5206\u001b[0m, in \u001b[0;36mpandas._libs.hashtable.PyObjectHashTable.get_item\u001b[1;34m()\u001b[0m\n",
      "\u001b[1;31mKeyError\u001b[0m: 'Date'",
      "\nThe above exception was the direct cause of the following exception:\n",
      "\u001b[1;31mKeyError\u001b[0m                                  Traceback (most recent call last)",
      "Input \u001b[1;32mIn [64]\u001b[0m, in \u001b[0;36m<cell line: 2>\u001b[1;34m()\u001b[0m\n\u001b[0;32m      1\u001b[0m plt\u001b[38;5;241m.\u001b[39mfigure(figsize\u001b[38;5;241m=\u001b[39m(\u001b[38;5;241m12\u001b[39m,\u001b[38;5;241m6\u001b[39m))\n\u001b[1;32m----> 2\u001b[0m plt\u001b[38;5;241m.\u001b[39mplot(\u001b[43mdf_weekly\u001b[49m\u001b[43m[\u001b[49m\u001b[38;5;124;43m'\u001b[39;49m\u001b[38;5;124;43mDate\u001b[39;49m\u001b[38;5;124;43m'\u001b[39;49m\u001b[43m]\u001b[49m, df_weekly[\u001b[38;5;124m'\u001b[39m\u001b[38;5;124mdetrended\u001b[39m\u001b[38;5;124m'\u001b[39m], label\u001b[38;5;241m=\u001b[39m\u001b[38;5;124m'\u001b[39m\u001b[38;5;124mDetrended Data\u001b[39m\u001b[38;5;124m'\u001b[39m)\n\u001b[0;32m      3\u001b[0m plt\u001b[38;5;241m.\u001b[39mlegend(loc\u001b[38;5;241m=\u001b[39m\u001b[38;5;124m'\u001b[39m\u001b[38;5;124mbest\u001b[39m\u001b[38;5;124m'\u001b[39m)\n\u001b[0;32m      4\u001b[0m plt\u001b[38;5;241m.\u001b[39mtitle(\u001b[38;5;124m'\u001b[39m\u001b[38;5;124mDetrended Sentiment Score\u001b[39m\u001b[38;5;124m'\u001b[39m)\n",
      "File \u001b[1;32m~\\anaconda3\\lib\\site-packages\\pandas\\core\\frame.py:3505\u001b[0m, in \u001b[0;36mDataFrame.__getitem__\u001b[1;34m(self, key)\u001b[0m\n\u001b[0;32m   3503\u001b[0m \u001b[38;5;28;01mif\u001b[39;00m \u001b[38;5;28mself\u001b[39m\u001b[38;5;241m.\u001b[39mcolumns\u001b[38;5;241m.\u001b[39mnlevels \u001b[38;5;241m>\u001b[39m \u001b[38;5;241m1\u001b[39m:\n\u001b[0;32m   3504\u001b[0m     \u001b[38;5;28;01mreturn\u001b[39;00m \u001b[38;5;28mself\u001b[39m\u001b[38;5;241m.\u001b[39m_getitem_multilevel(key)\n\u001b[1;32m-> 3505\u001b[0m indexer \u001b[38;5;241m=\u001b[39m \u001b[38;5;28;43mself\u001b[39;49m\u001b[38;5;241;43m.\u001b[39;49m\u001b[43mcolumns\u001b[49m\u001b[38;5;241;43m.\u001b[39;49m\u001b[43mget_loc\u001b[49m\u001b[43m(\u001b[49m\u001b[43mkey\u001b[49m\u001b[43m)\u001b[49m\n\u001b[0;32m   3506\u001b[0m \u001b[38;5;28;01mif\u001b[39;00m is_integer(indexer):\n\u001b[0;32m   3507\u001b[0m     indexer \u001b[38;5;241m=\u001b[39m [indexer]\n",
      "File \u001b[1;32m~\\anaconda3\\lib\\site-packages\\pandas\\core\\indexes\\base.py:3623\u001b[0m, in \u001b[0;36mIndex.get_loc\u001b[1;34m(self, key, method, tolerance)\u001b[0m\n\u001b[0;32m   3621\u001b[0m     \u001b[38;5;28;01mreturn\u001b[39;00m \u001b[38;5;28mself\u001b[39m\u001b[38;5;241m.\u001b[39m_engine\u001b[38;5;241m.\u001b[39mget_loc(casted_key)\n\u001b[0;32m   3622\u001b[0m \u001b[38;5;28;01mexcept\u001b[39;00m \u001b[38;5;167;01mKeyError\u001b[39;00m \u001b[38;5;28;01mas\u001b[39;00m err:\n\u001b[1;32m-> 3623\u001b[0m     \u001b[38;5;28;01mraise\u001b[39;00m \u001b[38;5;167;01mKeyError\u001b[39;00m(key) \u001b[38;5;28;01mfrom\u001b[39;00m \u001b[38;5;21;01merr\u001b[39;00m\n\u001b[0;32m   3624\u001b[0m \u001b[38;5;28;01mexcept\u001b[39;00m \u001b[38;5;167;01mTypeError\u001b[39;00m:\n\u001b[0;32m   3625\u001b[0m     \u001b[38;5;66;03m# If we have a listlike key, _check_indexing_error will raise\u001b[39;00m\n\u001b[0;32m   3626\u001b[0m     \u001b[38;5;66;03m#  InvalidIndexError. Otherwise we fall through and re-raise\u001b[39;00m\n\u001b[0;32m   3627\u001b[0m     \u001b[38;5;66;03m#  the TypeError.\u001b[39;00m\n\u001b[0;32m   3628\u001b[0m     \u001b[38;5;28mself\u001b[39m\u001b[38;5;241m.\u001b[39m_check_indexing_error(key)\n",
      "\u001b[1;31mKeyError\u001b[0m: 'Date'"
     ]
    },
    {
     "data": {
      "text/plain": [
       "<Figure size 864x432 with 0 Axes>"
      ]
     },
     "metadata": {},
     "output_type": "display_data"
    }
   ],
   "source": [
    "plt.figure(figsize=(12,6))\n",
    "plt.plot(df_weekly['Date'], df_weekly['detrended'], label='Detrended Data')\n",
    "plt.legend(loc='best')\n",
    "plt.title('Detrended Sentiment Score')\n",
    "plt.show()"
   ]
  },
  {
   "cell_type": "code",
   "execution_count": 49,
   "id": "d53a62fa",
   "metadata": {},
   "outputs": [
    {
     "data": {
      "text/html": [
       "<div>\n",
       "<style scoped>\n",
       "    .dataframe tbody tr th:only-of-type {\n",
       "        vertical-align: middle;\n",
       "    }\n",
       "\n",
       "    .dataframe tbody tr th {\n",
       "        vertical-align: top;\n",
       "    }\n",
       "\n",
       "    .dataframe thead th {\n",
       "        text-align: right;\n",
       "    }\n",
       "</style>\n",
       "<table border=\"1\" class=\"dataframe\">\n",
       "  <thead>\n",
       "    <tr style=\"text-align: right;\">\n",
       "      <th></th>\n",
       "      <th>sentiment_score</th>\n",
       "    </tr>\n",
       "    <tr>\n",
       "      <th>Date</th>\n",
       "      <th></th>\n",
       "    </tr>\n",
       "  </thead>\n",
       "  <tbody>\n",
       "    <tr>\n",
       "      <th>2009-04-30</th>\n",
       "      <td>0.108954</td>\n",
       "    </tr>\n",
       "    <tr>\n",
       "      <th>2009-05-31</th>\n",
       "      <td>0.118093</td>\n",
       "    </tr>\n",
       "    <tr>\n",
       "      <th>2009-06-30</th>\n",
       "      <td>0.071463</td>\n",
       "    </tr>\n",
       "  </tbody>\n",
       "</table>\n",
       "</div>"
      ],
      "text/plain": [
       "            sentiment_score\n",
       "Date                       \n",
       "2009-04-30         0.108954\n",
       "2009-05-31         0.118093\n",
       "2009-06-30         0.071463"
      ]
     },
     "execution_count": 49,
     "metadata": {},
     "output_type": "execute_result"
    }
   ],
   "source": [
    "df_monthly = df_cleaned.resample('M').mean()\n",
    "df_monthly.head()"
   ]
  },
  {
   "cell_type": "code",
   "execution_count": 51,
   "id": "18bb12da",
   "metadata": {},
   "outputs": [
    {
     "name": "stdout",
     "output_type": "stream",
     "text": [
      "Number of rows with missing values: 0.0\n"
     ]
    }
   ],
   "source": [
    "print(f'Number of rows with missing values: {df_monthly.isnull().any(axis=1).mean()}')"
   ]
  },
  {
   "cell_type": "code",
   "execution_count": 53,
   "id": "3672f314",
   "metadata": {},
   "outputs": [
    {
     "data": {
      "image/png": "[encoded data removed]",
      "text/plain": [
       "<Figure size 432x288 with 1 Axes>"
      ]
     },
     "metadata": {},
     "output_type": "display_data"
    }
   ],
   "source": [
    "sns.set()\n",
    "plt.ylabel('sentiment_score')\n",
    "plt.xlabel('Date')\n",
    "plt.xticks(rotation=45)\n",
    "plt.plot(df_monthly.index, df_monthly['sentiment_score'], )\n",
    "plt.show()"
   ]
  },
  {
   "cell_type": "code",
   "execution_count": 54,
   "id": "697ab067",
   "metadata": {},
   "outputs": [
    {
     "data": {
      "text/html": [
       "<div>\n",
       "<style scoped>\n",
       "    .dataframe tbody tr th:only-of-type {\n",
       "        vertical-align: middle;\n",
       "    }\n",
       "\n",
       "    .dataframe tbody tr th {\n",
       "        vertical-align: top;\n",
       "    }\n",
       "\n",
       "    .dataframe thead th {\n",
       "        text-align: right;\n",
       "    }\n",
       "</style>\n",
       "<table border=\"1\" class=\"dataframe\">\n",
       "  <thead>\n",
       "    <tr style=\"text-align: right;\">\n",
       "      <th></th>\n",
       "      <th>sentiment_score</th>\n",
       "    </tr>\n",
       "    <tr>\n",
       "      <th>Date</th>\n",
       "      <th></th>\n",
       "    </tr>\n",
       "  </thead>\n",
       "  <tbody>\n",
       "    <tr>\n",
       "      <th>2009-06-30</th>\n",
       "      <td>0.090595</td>\n",
       "    </tr>\n",
       "  </tbody>\n",
       "</table>\n",
       "</div>"
      ],
      "text/plain": [
       "            sentiment_score\n",
       "Date                       \n",
       "2009-06-30         0.090595"
      ]
     },
     "execution_count": 54,
     "metadata": {},
     "output_type": "execute_result"
    }
   ],
   "source": [
    "df_quarterly = df_cleaned.resample('Q').mean()\n",
    "df_quarterly.head()"
   ]
  },
  {
   "cell_type": "code",
   "execution_count": null,
   "id": "1e92c924",
   "metadata": {},
   "outputs": [],
   "source": []
  }
 ],
 "metadata": {
  "kernelspec": {
   "display_name": "Python 3 (ipykernel)",
   "language": "python",
   "name": "python3"
  },
  "language_info": {
   "codemirror_mode": {
    "name": "ipython",
    "version": 3
   },
   "file_extension": ".py",
   "mimetype": "text/x-python",
   "name": "python",
   "nbconvert_exporter": "python",
   "pygments_lexer": "ipython3",
   "version": "3.9.12"
  }
 },
 "nbformat": 4,
 "nbformat_minor": 5
}
