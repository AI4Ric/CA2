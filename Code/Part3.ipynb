{
 "cells": [
  {
   "cell_type": "code",
   "execution_count": 60,
   "id": "6186d767",
   "metadata": {},
   "outputs": [
    {
     "name": "stderr",
     "output_type": "stream",
     "text": [
      "[nltk_data] Downloading package punkt to\n",
      "[nltk_data]     C:\\Users\\rmora\\AppData\\Roaming\\nltk_data...\n",
      "[nltk_data]   Package punkt is already up-to-date!\n",
      "[nltk_data] Downloading package stopwords to\n",
      "[nltk_data]     C:\\Users\\rmora\\AppData\\Roaming\\nltk_data...\n",
      "[nltk_data]   Package stopwords is already up-to-date!\n"
     ]
    },
    {
     "data": {
      "text/plain": [
       "True"
      ]
     },
     "execution_count": 60,
     "metadata": {},
     "output_type": "execute_result"
    }
   ],
   "source": [
    "import pandas as pd\n",
    "import matplotlib.pyplot as plt  # plotting and visualization\n",
    "import numpy as np\n",
    "import statsmodels.api as sm\n",
    "from statsmodels.tsa.stattools import adfuller\n",
    "from statsmodels.tsa.stattools import acf, pacf\n",
    "from statsmodels.graphics.tsaplots import plot_acf, plot_pacf\n",
    "from pandas.plotting import lag_plot\n",
    "import seaborn as sns\n",
    "from collections import Counter\n",
    "from nltk.tokenize import word_tokenize\n",
    "from nltk.corpus import stopwords\n",
    "import string\n",
    "from collections import Counter\n",
    "import re\n",
    "import nltk\n",
    "nltk.download('punkt')\n",
    "nltk.download('stopwords')"
   ]
  },
  {
   "cell_type": "code",
   "execution_count": 2,
   "id": "04109b63",
   "metadata": {},
   "outputs": [],
   "source": [
    "df = pd.read_csv(\"cleaned_dataset.csv\")"
   ]
  },
  {
   "cell_type": "code",
   "execution_count": 3,
   "id": "bfe80db3",
   "metadata": {
    "scrolled": true
   },
   "outputs": [
    {
     "data": {
      "text/html": [
       "<div>\n",
       "<style scoped>\n",
       "    .dataframe tbody tr th:only-of-type {\n",
       "        vertical-align: middle;\n",
       "    }\n",
       "\n",
       "    .dataframe tbody tr th {\n",
       "        vertical-align: top;\n",
       "    }\n",
       "\n",
       "    .dataframe thead th {\n",
       "        text-align: right;\n",
       "    }\n",
       "</style>\n",
       "<table border=\"1\" class=\"dataframe\">\n",
       "  <thead>\n",
       "    <tr style=\"text-align: right;\">\n",
       "      <th></th>\n",
       "      <th>Date</th>\n",
       "      <th>user</th>\n",
       "      <th>text</th>\n",
       "      <th>Hashtags</th>\n",
       "      <th>Mentions</th>\n",
       "      <th>pp_text</th>\n",
       "      <th>sentiment_score</th>\n",
       "      <th>sentiment_category</th>\n",
       "    </tr>\n",
       "  </thead>\n",
       "  <tbody>\n",
       "    <tr>\n",
       "      <th>0</th>\n",
       "      <td>2009-04-06</td>\n",
       "      <td>_TheSpecialOne_</td>\n",
       "      <td>@switchfoot http://twitpic.com/2y1zl - Awww, t...</td>\n",
       "      <td>[]</td>\n",
       "      <td>['switchfoot']</td>\n",
       "      <td>thats bummer shoulda got david carr third day</td>\n",
       "      <td>0.000</td>\n",
       "      <td>neutral</td>\n",
       "    </tr>\n",
       "    <tr>\n",
       "      <th>1</th>\n",
       "      <td>2009-04-06</td>\n",
       "      <td>scotthamilton</td>\n",
       "      <td>is upset that he can't update his Facebook by ...</td>\n",
       "      <td>[]</td>\n",
       "      <td>[]</td>\n",
       "      <td>upset cant update facebook texting might cry r...</td>\n",
       "      <td>0.000</td>\n",
       "      <td>neutral</td>\n",
       "    </tr>\n",
       "    <tr>\n",
       "      <th>2</th>\n",
       "      <td>2009-04-06</td>\n",
       "      <td>mattycus</td>\n",
       "      <td>@Kenichan I dived many times for the ball. Man...</td>\n",
       "      <td>[]</td>\n",
       "      <td>['Kenichan']</td>\n",
       "      <td>dived many time ball managed save rest bound</td>\n",
       "      <td>0.500</td>\n",
       "      <td>positive</td>\n",
       "    </tr>\n",
       "    <tr>\n",
       "      <th>3</th>\n",
       "      <td>2009-04-06</td>\n",
       "      <td>ElleCTF</td>\n",
       "      <td>my whole body feels itchy and like its on fire</td>\n",
       "      <td>[]</td>\n",
       "      <td>[]</td>\n",
       "      <td>whole body feel itchy like fire</td>\n",
       "      <td>0.200</td>\n",
       "      <td>positive</td>\n",
       "    </tr>\n",
       "    <tr>\n",
       "      <th>4</th>\n",
       "      <td>2009-04-06</td>\n",
       "      <td>Karoli</td>\n",
       "      <td>@nationwideclass no, it's not behaving at all....</td>\n",
       "      <td>[]</td>\n",
       "      <td>['nationwideclass']</td>\n",
       "      <td>behaving mad cant see</td>\n",
       "      <td>-0.625</td>\n",
       "      <td>negative</td>\n",
       "    </tr>\n",
       "  </tbody>\n",
       "</table>\n",
       "</div>"
      ],
      "text/plain": [
       "         Date             user  \\\n",
       "0  2009-04-06  _TheSpecialOne_   \n",
       "1  2009-04-06    scotthamilton   \n",
       "2  2009-04-06         mattycus   \n",
       "3  2009-04-06          ElleCTF   \n",
       "4  2009-04-06           Karoli   \n",
       "\n",
       "                                                text Hashtags  \\\n",
       "0  @switchfoot http://twitpic.com/2y1zl - Awww, t...       []   \n",
       "1  is upset that he can't update his Facebook by ...       []   \n",
       "2  @Kenichan I dived many times for the ball. Man...       []   \n",
       "3    my whole body feels itchy and like its on fire        []   \n",
       "4  @nationwideclass no, it's not behaving at all....       []   \n",
       "\n",
       "              Mentions                                            pp_text  \\\n",
       "0       ['switchfoot']      thats bummer shoulda got david carr third day   \n",
       "1                   []  upset cant update facebook texting might cry r...   \n",
       "2         ['Kenichan']       dived many time ball managed save rest bound   \n",
       "3                   []                    whole body feel itchy like fire   \n",
       "4  ['nationwideclass']                              behaving mad cant see   \n",
       "\n",
       "   sentiment_score sentiment_category  \n",
       "0            0.000            neutral  \n",
       "1            0.000            neutral  \n",
       "2            0.500           positive  \n",
       "3            0.200           positive  \n",
       "4           -0.625           negative  "
      ]
     },
     "execution_count": 3,
     "metadata": {},
     "output_type": "execute_result"
    }
   ],
   "source": [
    "df.head()"
   ]
  },
  {
   "cell_type": "code",
   "execution_count": 4,
   "id": "7cbc8974",
   "metadata": {},
   "outputs": [],
   "source": [
    "# Convert 'Date' to datetime and sort it\n",
    "df['Date'] = pd.to_datetime(df['Date'])\n",
    "df.sort_values(by='Date', inplace=True)"
   ]
  },
  {
   "cell_type": "code",
   "execution_count": 7,
   "id": "f2f45a5c",
   "metadata": {},
   "outputs": [],
   "source": [
    "# Function to preprocess and tokenize text\n",
    "def preprocess_text(text):\n",
    "    # Tokenize\n",
    "    tokens = word_tokenize(text)\n",
    "    # Convert to lower case\n",
    "    tokens = [w.lower() for w in tokens]\n",
    "    # Remove punctuation\n",
    "    table = str.maketrans('', '', string.punctuation)\n",
    "    stripped = [w.translate(table) for w in tokens]\n",
    "    # Remove non-alphabetic tokens and stop words\n",
    "    stop_words = set(stopwords.words('english'))\n",
    "    words = [word for word in stripped if word.isalpha() and word not in stop_words]\n",
    "    return words\n",
    "\n",
    "# Preprocess text for the entire DataFrame\n",
    "df['processed_text'] = df['text'].apply(preprocess_text)"
   ]
  },
  {
   "cell_type": "code",
   "execution_count": 5,
   "id": "cdb0457b",
   "metadata": {
    "scrolled": false
   },
   "outputs": [
    {
     "data": {
      "text/html": [
       "<div>\n",
       "<style scoped>\n",
       "    .dataframe tbody tr th:only-of-type {\n",
       "        vertical-align: middle;\n",
       "    }\n",
       "\n",
       "    .dataframe tbody tr th {\n",
       "        vertical-align: top;\n",
       "    }\n",
       "\n",
       "    .dataframe thead th {\n",
       "        text-align: right;\n",
       "    }\n",
       "</style>\n",
       "<table border=\"1\" class=\"dataframe\">\n",
       "  <thead>\n",
       "    <tr style=\"text-align: right;\">\n",
       "      <th></th>\n",
       "      <th>Date</th>\n",
       "      <th>user</th>\n",
       "      <th>text</th>\n",
       "      <th>Hashtags</th>\n",
       "      <th>Mentions</th>\n",
       "      <th>pp_text</th>\n",
       "      <th>sentiment_score</th>\n",
       "      <th>sentiment_category</th>\n",
       "    </tr>\n",
       "  </thead>\n",
       "  <tbody>\n",
       "    <tr>\n",
       "      <th>0</th>\n",
       "      <td>2009-04-06</td>\n",
       "      <td>_TheSpecialOne_</td>\n",
       "      <td>@switchfoot http://twitpic.com/2y1zl - Awww, t...</td>\n",
       "      <td>[]</td>\n",
       "      <td>['switchfoot']</td>\n",
       "      <td>thats bummer shoulda got david carr third day</td>\n",
       "      <td>0.0</td>\n",
       "      <td>neutral</td>\n",
       "    </tr>\n",
       "    <tr>\n",
       "      <th>796595</th>\n",
       "      <td>2009-04-06</td>\n",
       "      <td>PrudenceAnn</td>\n",
       "      <td>ready for nice weather, day drinking &amp;amp; not...</td>\n",
       "      <td>[]</td>\n",
       "      <td>[]</td>\n",
       "      <td>ready nice weather day drinking amp ever student</td>\n",
       "      <td>0.4</td>\n",
       "      <td>positive</td>\n",
       "    </tr>\n",
       "    <tr>\n",
       "      <th>796596</th>\n",
       "      <td>2009-04-06</td>\n",
       "      <td>shaketramp</td>\n",
       "      <td>@nick_carter you are my IDOL, i love you!  you...</td>\n",
       "      <td>[]</td>\n",
       "      <td>['nick_carter']</td>\n",
       "      <td>idol love reply lt3</td>\n",
       "      <td>0.5</td>\n",
       "      <td>positive</td>\n",
       "    </tr>\n",
       "    <tr>\n",
       "      <th>796597</th>\n",
       "      <td>2009-04-06</td>\n",
       "      <td>Thomas_h_p</td>\n",
       "      <td>Holy he'll, just had an epic Aporto burger wit...</td>\n",
       "      <td>[]</td>\n",
       "      <td>[]</td>\n",
       "      <td>holy hell epic aporto burger epic amount chill...</td>\n",
       "      <td>0.1</td>\n",
       "      <td>positive</td>\n",
       "    </tr>\n",
       "    <tr>\n",
       "      <th>796598</th>\n",
       "      <td>2009-04-06</td>\n",
       "      <td>emdanyell</td>\n",
       "      <td>Going mimis with thoughts of Shick and Gavin D...</td>\n",
       "      <td>[]</td>\n",
       "      <td>[]</td>\n",
       "      <td>going mimis thought shick gavin degraw song da...</td>\n",
       "      <td>0.0</td>\n",
       "      <td>neutral</td>\n",
       "    </tr>\n",
       "  </tbody>\n",
       "</table>\n",
       "</div>"
      ],
      "text/plain": [
       "             Date             user  \\\n",
       "0      2009-04-06  _TheSpecialOne_   \n",
       "796595 2009-04-06      PrudenceAnn   \n",
       "796596 2009-04-06       shaketramp   \n",
       "796597 2009-04-06       Thomas_h_p   \n",
       "796598 2009-04-06        emdanyell   \n",
       "\n",
       "                                                     text Hashtags  \\\n",
       "0       @switchfoot http://twitpic.com/2y1zl - Awww, t...       []   \n",
       "796595  ready for nice weather, day drinking &amp; not...       []   \n",
       "796596  @nick_carter you are my IDOL, i love you!  you...       []   \n",
       "796597  Holy he'll, just had an epic Aporto burger wit...       []   \n",
       "796598  Going mimis with thoughts of Shick and Gavin D...       []   \n",
       "\n",
       "               Mentions                                            pp_text  \\\n",
       "0        ['switchfoot']      thats bummer shoulda got david carr third day   \n",
       "796595               []   ready nice weather day drinking amp ever student   \n",
       "796596  ['nick_carter']                                idol love reply lt3   \n",
       "796597               []  holy hell epic aporto burger epic amount chill...   \n",
       "796598               []  going mimis thought shick gavin degraw song da...   \n",
       "\n",
       "        sentiment_score sentiment_category  \n",
       "0                   0.0            neutral  \n",
       "796595              0.4           positive  \n",
       "796596              0.5           positive  \n",
       "796597              0.1           positive  \n",
       "796598              0.0            neutral  "
      ]
     },
     "execution_count": 5,
     "metadata": {},
     "output_type": "execute_result"
    }
   ],
   "source": [
    "df.head()"
   ]
  },
  {
   "cell_type": "code",
   "execution_count": 6,
   "id": "e89b106b",
   "metadata": {
    "scrolled": true
   },
   "outputs": [
    {
     "data": {
      "text/plain": [
       "array(['2009-04-06T00:00:00.000000000', '2009-04-07T00:00:00.000000000',\n",
       "       '2009-04-17T00:00:00.000000000', '2009-04-18T00:00:00.000000000',\n",
       "       '2009-04-19T00:00:00.000000000', '2009-04-20T00:00:00.000000000',\n",
       "       '2009-04-21T00:00:00.000000000', '2009-05-01T00:00:00.000000000',\n",
       "       '2009-05-02T00:00:00.000000000', '2009-05-03T00:00:00.000000000',\n",
       "       '2009-05-04T00:00:00.000000000', '2009-05-09T00:00:00.000000000',\n",
       "       '2009-05-10T00:00:00.000000000', '2009-05-11T00:00:00.000000000',\n",
       "       '2009-05-13T00:00:00.000000000', '2009-05-14T00:00:00.000000000',\n",
       "       '2009-05-16T00:00:00.000000000', '2009-05-17T00:00:00.000000000',\n",
       "       '2009-05-18T00:00:00.000000000', '2009-05-21T00:00:00.000000000',\n",
       "       '2009-05-22T00:00:00.000000000', '2009-05-23T00:00:00.000000000',\n",
       "       '2009-05-25T00:00:00.000000000', '2009-05-26T00:00:00.000000000',\n",
       "       '2009-05-27T00:00:00.000000000', '2009-05-28T00:00:00.000000000',\n",
       "       '2009-05-29T00:00:00.000000000', '2009-05-30T00:00:00.000000000',\n",
       "       '2009-05-31T00:00:00.000000000', '2009-06-01T00:00:00.000000000',\n",
       "       '2009-06-02T00:00:00.000000000', '2009-06-03T00:00:00.000000000',\n",
       "       '2009-06-04T00:00:00.000000000', '2009-06-05T00:00:00.000000000',\n",
       "       '2009-06-06T00:00:00.000000000', '2009-06-07T00:00:00.000000000',\n",
       "       '2009-06-14T00:00:00.000000000', '2009-06-15T00:00:00.000000000',\n",
       "       '2009-06-16T00:00:00.000000000', '2009-06-17T00:00:00.000000000',\n",
       "       '2009-06-18T00:00:00.000000000', '2009-06-19T00:00:00.000000000',\n",
       "       '2009-06-20T00:00:00.000000000', '2009-06-21T00:00:00.000000000',\n",
       "       '2009-06-22T00:00:00.000000000', '2009-06-23T00:00:00.000000000',\n",
       "       '2009-06-24T00:00:00.000000000', '2009-06-25T00:00:00.000000000'],\n",
       "      dtype='datetime64[ns]')"
      ]
     },
     "execution_count": 6,
     "metadata": {},
     "output_type": "execute_result"
    }
   ],
   "source": [
    "df['Date'].unique()"
   ]
  },
  {
   "cell_type": "code",
   "execution_count": 81,
   "id": "4d484e76",
   "metadata": {},
   "outputs": [
    {
     "data": {
      "text/html": [
       "<div>\n",
       "<style scoped>\n",
       "    .dataframe tbody tr th:only-of-type {\n",
       "        vertical-align: middle;\n",
       "    }\n",
       "\n",
       "    .dataframe tbody tr th {\n",
       "        vertical-align: top;\n",
       "    }\n",
       "\n",
       "    .dataframe thead th {\n",
       "        text-align: right;\n",
       "    }\n",
       "</style>\n",
       "<table border=\"1\" class=\"dataframe\">\n",
       "  <thead>\n",
       "    <tr style=\"text-align: right;\">\n",
       "      <th></th>\n",
       "      <th>Date</th>\n",
       "      <th>user</th>\n",
       "      <th>text</th>\n",
       "      <th>Hashtags</th>\n",
       "      <th>Mentions</th>\n",
       "      <th>pp_text</th>\n",
       "      <th>sentiment_score</th>\n",
       "      <th>sentiment_category</th>\n",
       "    </tr>\n",
       "  </thead>\n",
       "  <tbody>\n",
       "    <tr>\n",
       "      <th>294403</th>\n",
       "      <td>2009-06-01</td>\n",
       "      <td>MJBx</td>\n",
       "      <td>ugh so sick yet again</td>\n",
       "      <td>[]</td>\n",
       "      <td>[]</td>\n",
       "      <td>ugh sick yet</td>\n",
       "      <td>-0.714286</td>\n",
       "      <td>negative</td>\n",
       "    </tr>\n",
       "    <tr>\n",
       "      <th>294404</th>\n",
       "      <td>2009-06-01</td>\n",
       "      <td>TyJennings</td>\n",
       "      <td>Has a nasty head cold.</td>\n",
       "      <td>[]</td>\n",
       "      <td>[]</td>\n",
       "      <td>nasty head cold</td>\n",
       "      <td>-0.800000</td>\n",
       "      <td>negative</td>\n",
       "    </tr>\n",
       "    <tr>\n",
       "      <th>294405</th>\n",
       "      <td>2009-06-01</td>\n",
       "      <td>tnnkotbgirl</td>\n",
       "      <td>going to workout!! Left my ipod at work</td>\n",
       "      <td>[]</td>\n",
       "      <td>[]</td>\n",
       "      <td>going workout left ipod work</td>\n",
       "      <td>0.000000</td>\n",
       "      <td>neutral</td>\n",
       "    </tr>\n",
       "    <tr>\n",
       "      <th>294406</th>\n",
       "      <td>2009-06-01</td>\n",
       "      <td>xxCP</td>\n",
       "      <td>it's been 4 days since be last updated! is he ...</td>\n",
       "      <td>[]</td>\n",
       "      <td>[]</td>\n",
       "      <td>day since last updated still alive xxx</td>\n",
       "      <td>0.050000</td>\n",
       "      <td>positive</td>\n",
       "    </tr>\n",
       "    <tr>\n",
       "      <th>294407</th>\n",
       "      <td>2009-06-01</td>\n",
       "      <td>ACRead</td>\n",
       "      <td>I'm getting a headache.</td>\n",
       "      <td>[]</td>\n",
       "      <td>[]</td>\n",
       "      <td>getting headache</td>\n",
       "      <td>0.000000</td>\n",
       "      <td>neutral</td>\n",
       "    </tr>\n",
       "  </tbody>\n",
       "</table>\n",
       "</div>"
      ],
      "text/plain": [
       "             Date         user  \\\n",
       "294403 2009-06-01         MJBx   \n",
       "294404 2009-06-01   TyJennings   \n",
       "294405 2009-06-01  tnnkotbgirl   \n",
       "294406 2009-06-01         xxCP   \n",
       "294407 2009-06-01       ACRead   \n",
       "\n",
       "                                                     text Hashtags Mentions  \\\n",
       "294403                             ugh so sick yet again        []       []   \n",
       "294404                           Has a nasty head cold.         []       []   \n",
       "294405           going to workout!! Left my ipod at work        []       []   \n",
       "294406  it's been 4 days since be last updated! is he ...       []       []   \n",
       "294407                           I'm getting a headache.        []       []   \n",
       "\n",
       "                                       pp_text  sentiment_score  \\\n",
       "294403                            ugh sick yet        -0.714286   \n",
       "294404                         nasty head cold        -0.800000   \n",
       "294405            going workout left ipod work         0.000000   \n",
       "294406  day since last updated still alive xxx         0.050000   \n",
       "294407                        getting headache         0.000000   \n",
       "\n",
       "       sentiment_category  \n",
       "294403           negative  \n",
       "294404           negative  \n",
       "294405            neutral  \n",
       "294406           positive  \n",
       "294407            neutral  "
      ]
     },
     "execution_count": 81,
     "metadata": {},
     "output_type": "execute_result"
    }
   ],
   "source": [
    "specific_date = '2009-06-01'\n",
    "mask = df['Date'] == pd.to_datetime(specific_date)\n",
    "filtered_df = df[mask]\n",
    "filtered_df.head()"
   ]
  },
  {
   "cell_type": "code",
   "execution_count": 106,
   "id": "224dbeec",
   "metadata": {},
   "outputs": [
    {
     "name": "stdout",
     "output_type": "stream",
     "text": [
      "Top 10 Hashtags:\n",
      "[]                      6180\n",
      "['BSB']                    9\n",
      "['fb']                     5\n",
      "['IranElection']           3\n",
      "['2']                      2\n",
      "['nmd']                    1\n",
      "['Portland']               1\n",
      "['infsum']                 1\n",
      "['carelessmistakeI']       1\n",
      "['squarespace']            1\n",
      "Name: Hashtags, dtype: int64\n"
     ]
    }
   ],
   "source": [
    "specific_date = '2009-06-24'\n",
    "mask = df['Date'] == pd.to_datetime(specific_date)\n",
    "filtered_df = df[mask]\n",
    "# Explode Hashtags column and get top 10 hashtags\n",
    "top_hashtags = filtered_df['Hashtags'].explode().value_counts().head(10)\n",
    "print('Top 10 Hashtags:')\n",
    "print(top_hashtags)"
   ]
  },
  {
   "cell_type": "code",
   "execution_count": 107,
   "id": "e7e2540e",
   "metadata": {},
   "outputs": [
    {
     "data": {
      "text/plain": [
       "[('cant', 389),\n",
       " ('dont', 380),\n",
       " ('get', 379),\n",
       " ('miss', 359),\n",
       " ('like', 331),\n",
       " ('day', 327),\n",
       " ('want', 287),\n",
       " ('really', 282),\n",
       " ('work', 269),\n",
       " ('going', 267)]"
      ]
     },
     "execution_count": 107,
     "metadata": {},
     "output_type": "execute_result"
    }
   ],
   "source": [
    "# Step 1: Concatenate all the tweets into a single string\n",
    "all_tweets = ' '.join(filtered_df['pp_text'])\n",
    "\n",
    "# Step 2: Tokenize the string into words\n",
    "# Remove punctuation and numbers, and split into words\n",
    "words = re.findall(r'\\b\\w+\\b', all_tweets.lower())\n",
    "\n",
    "# Step 3: Count the frequency of each word\n",
    "word_counts = Counter(words)\n",
    "\n",
    "# Step 4: Identify the most common word\n",
    "most_common_word = word_counts.most_common(10)\n",
    "most_common_word"
   ]
  },
  {
   "cell_type": "code",
   "execution_count": null,
   "id": "30bb1eb5",
   "metadata": {},
   "outputs": [],
   "source": [
    "# Create a list to store each day's trends\n",
    "trends_data = []\n",
    "\n",
    "# Aggregate information by date\n",
    "for date, group in df.groupby(df['Date'].dt.date):\n",
    "    # Get the most common hashtag\n",
    "    all_hashtags = sum(group['Hashtags'].dropna().apply(lambda x: x.split()).tolist(), [])\n",
    "    common_hashtag = Counter(all_hashtags).most_common(1)\n",
    "    popular_hashtag = common_hashtag[0][0] if common_hashtag else None\n",
    "\n",
    "    # Get the most common word\n",
    "    all_words = sum(group['processed_text'].tolist(), [])\n",
    "    common_word = Counter(all_words).most_common(1)\n",
    "    popular_word = common_word[0][0] if common_word else None\n",
    "\n",
    "    # Calculate mean sentiment score\n",
    "    mean_score = group['sentiment_score'].mean()\n",
    "\n",
    "    # Count the number of tweets\n",
    "    tweet_count = group.shape[0]\n",
    "\n",
    "    # Append to the list\n",
    "    trends_data.append({\n",
    "        'Date': date,\n",
    "        'Hashtag': popular_hashtag,\n",
    "        'Popular_Word': popular_word,\n",
    "        'Mean_Score': mean_score,\n",
    "        'Count': tweet_count\n",
    "    })"
   ]
  },
  {
   "cell_type": "code",
   "execution_count": null,
   "id": "d1b25400",
   "metadata": {},
   "outputs": [],
   "source": [
    "# Create a DataFrame from the list\n",
    "trends_df = pd.DataFrame(trends_data)\n",
    "\n",
    "# Display the DataFrame\n",
    "print(trends_df.head())"
   ]
  },
  {
   "cell_type": "code",
   "execution_count": 4,
   "id": "0c9e4f46",
   "metadata": {},
   "outputs": [
    {
     "data": {
      "text/html": [
       "<div>\n",
       "<style scoped>\n",
       "    .dataframe tbody tr th:only-of-type {\n",
       "        vertical-align: middle;\n",
       "    }\n",
       "\n",
       "    .dataframe tbody tr th {\n",
       "        vertical-align: top;\n",
       "    }\n",
       "\n",
       "    .dataframe thead th {\n",
       "        text-align: right;\n",
       "    }\n",
       "</style>\n",
       "<table border=\"1\" class=\"dataframe\">\n",
       "  <thead>\n",
       "    <tr style=\"text-align: right;\">\n",
       "      <th></th>\n",
       "      <th>Date</th>\n",
       "      <th>sentiment_score</th>\n",
       "    </tr>\n",
       "  </thead>\n",
       "  <tbody>\n",
       "    <tr>\n",
       "      <th>0</th>\n",
       "      <td>2009-04-06</td>\n",
       "      <td>0.000</td>\n",
       "    </tr>\n",
       "    <tr>\n",
       "      <th>1</th>\n",
       "      <td>2009-04-06</td>\n",
       "      <td>0.000</td>\n",
       "    </tr>\n",
       "    <tr>\n",
       "      <th>2</th>\n",
       "      <td>2009-04-06</td>\n",
       "      <td>0.500</td>\n",
       "    </tr>\n",
       "    <tr>\n",
       "      <th>3</th>\n",
       "      <td>2009-04-06</td>\n",
       "      <td>0.200</td>\n",
       "    </tr>\n",
       "    <tr>\n",
       "      <th>4</th>\n",
       "      <td>2009-04-06</td>\n",
       "      <td>-0.625</td>\n",
       "    </tr>\n",
       "  </tbody>\n",
       "</table>\n",
       "</div>"
      ],
      "text/plain": [
       "         Date  sentiment_score\n",
       "0  2009-04-06            0.000\n",
       "1  2009-04-06            0.000\n",
       "2  2009-04-06            0.500\n",
       "3  2009-04-06            0.200\n",
       "4  2009-04-06           -0.625"
      ]
     },
     "execution_count": 4,
     "metadata": {},
     "output_type": "execute_result"
    }
   ],
   "source": [
    "df = df[[\"Date\",\"sentiment_score\"]]\n",
    "df.head()"
   ]
  },
  {
   "cell_type": "code",
   "execution_count": 10,
   "id": "f7eeb796",
   "metadata": {},
   "outputs": [
    {
     "data": {
      "image/png": "[encoded data removed]",
      "text/plain": [
       "<Figure size 720x360 with 1 Axes>"
      ]
     },
     "metadata": {
      "needs_background": "light"
     },
     "output_type": "display_data"
    }
   ],
   "source": [
    "plt.figure(figsize=(10,5))\n",
    "sns.boxplot(data=df, x=df.index.date, y='sentiment_score')\n",
    "plt.xticks(rotation=90)  # Rotate the x labels if there are many dates\n",
    "plt.title('Daily Sentiment Score Distribution')\n",
    "plt.xlabel('Date')\n",
    "plt.ylabel('Sentiment Score')\n",
    "plt.show()"
   ]
  },
  {
   "cell_type": "code",
   "execution_count": 14,
   "id": "7c99927d",
   "metadata": {},
   "outputs": [],
   "source": [
    "# Assuming `df` is your DataFrame with the 'sentiment_score' column\n",
    "Q1 = df['sentiment_score'].quantile(0.25)\n",
    "Q3 = df['sentiment_score'].quantile(0.75)\n",
    "IQR = Q3 - Q1\n",
    "lower_bound = Q1 - 1.5 * IQR\n",
    "upper_bound = Q3 + 1.5 * IQR\n",
    "\n",
    "# Select outliers\n",
    "outliers_df = df2[(df2['sentiment_score'] < lower_bound) | (df2['sentiment_score'] > upper_bound)]"
   ]
  },
  {
   "cell_type": "code",
   "execution_count": 16,
   "id": "79572684",
   "metadata": {},
   "outputs": [
    {
     "name": "stdout",
     "output_type": "stream",
     "text": [
      "<class 'pandas.core.frame.DataFrame'>\n",
      "Int64Index: 222767 entries, 4 to 1588123\n",
      "Data columns (total 8 columns):\n",
      " #   Column              Non-Null Count   Dtype  \n",
      "---  ------              --------------   -----  \n",
      " 0   Date                222767 non-null  object \n",
      " 1   user                222767 non-null  object \n",
      " 2   text                222767 non-null  object \n",
      " 3   Hashtags            222767 non-null  object \n",
      " 4   Mentions            222767 non-null  object \n",
      " 5   pp_text             222767 non-null  object \n",
      " 6   sentiment_score     222767 non-null  float64\n",
      " 7   sentiment_category  222767 non-null  object \n",
      "dtypes: float64(1), object(7)\n",
      "memory usage: 15.3+ MB\n"
     ]
    }
   ],
   "source": [
    "outliers_df.info()"
   ]
  },
  {
   "cell_type": "code",
   "execution_count": 17,
   "id": "0cb503cb",
   "metadata": {},
   "outputs": [
    {
     "name": "stdout",
     "output_type": "stream",
     "text": [
      "<class 'pandas.core.frame.DataFrame'>\n",
      "RangeIndex: 1588124 entries, 0 to 1588123\n",
      "Data columns (total 8 columns):\n",
      " #   Column              Non-Null Count    Dtype  \n",
      "---  ------              --------------    -----  \n",
      " 0   Date                1588124 non-null  object \n",
      " 1   user                1588124 non-null  object \n",
      " 2   text                1588124 non-null  object \n",
      " 3   Hashtags            1588124 non-null  object \n",
      " 4   Mentions            1588124 non-null  object \n",
      " 5   pp_text             1588124 non-null  object \n",
      " 6   sentiment_score     1588124 non-null  float64\n",
      " 7   sentiment_category  1588124 non-null  object \n",
      "dtypes: float64(1), object(7)\n",
      "memory usage: 96.9+ MB\n"
     ]
    }
   ],
   "source": [
    "df2.info()"
   ]
  },
  {
   "cell_type": "code",
   "execution_count": 22,
   "id": "9d4f220e",
   "metadata": {},
   "outputs": [],
   "source": [
    "df2['Date'] = pd.to_datetime(df2['Date'])\n",
    "\n",
    "# Group by date and aggregate the hashtags\n",
    "trends_daily = df2.groupby('Date')['Hashtags'].agg(lambda x: ' '.join(x.dropna())).str.split().value_counts()"
   ]
  },
  {
   "cell_type": "code",
   "execution_count": 23,
   "id": "ba863230",
   "metadata": {},
   "outputs": [
    {
     "data": {
      "text/plain": [
       "[[], [], [], [], [], [], [], [], [], [], [], [], [], [], [], [], [], [], [], [], [], [], [], [], [], [], [], [], [], [], [], [], [], [], [], [], [], [], [], [], [], [], [], [], [], [], [], [], [], [], [], [], [], [], [], [], [], [], [], [], [], [], [], [], [], [], [], [], [], [], [], [], [], [], [], [], [], [], [], [], [], [], [], ['itm'], [], [], [], [], [], [], [], [], [], [], [], [], [], [], [], [], ...]                                                              1\n",
       "[[], [], [], [], [], [], [], [], [], [], [], ['24',, 'the'], [], [], [], [], [], [], ['twitter',, 'fail'], [], [], [], [], [], [], [], [], [], [], [], [], [], [], [], [], [], [], [], [], [], [], [], [], [], [], [], [], [], [], [], [], [], [], [], [], [], [], [], [], [], [], [], [], [], [], [], [], [], [], [], [], [], [], [], [], [], [], [], [], [], [], [], [], [], [], [], [], [], [], [], [], [], [], [], [], [], [], [], ...]                                             1\n",
       "[[], [], [], [], [], [], [], [], [], [], [], [], [], [], [], [], [], [], [], [], [], [], [], [], [], [], [], [], [], [], [], [], [], [], [], [], [], [], [], [], [], [], [], [], [], [], [], [], [], [], [], [], [], [], [], [], [], [], [], [], [], [], [], ['DSAA09'], [], [], [], [], [], [], [], [], [], [], [], [], [], [], [], [], [], [], [], [], [], [], [], [], [], [], [], [], [], [], [], [], [], [], [], [], ...]                                                           1\n",
       "[[], [], [], [], [], [], [], [], [], [], [], [], [], [], [], [], [], [], [], [], [], [], [], [], [], [], [], [], [], [], [], [], [], [], [], [], [], [], [], [], [], [], [], [], [], [], [], [], [], [], [], [], [], [], [], [], [], [], [], [], [], [], [], [], [], [], [], [], ['twpp'], [], [], [], [], [], [], [], [], [], [], [], [], [], [], [], [], [], [], [], [], [], [], [], [], [], [], [], [], [], [], [], ...]                                                             1\n",
       "[[], [], [], [], [], [], [], [], [], [], [], [], [], [], [], [], [], [], [], [], [], [], [], [], [], [], [], [], [], [], [], [], [], [], [], [], [], [], [], [], [], [], [], [], [], [], [], [], [], [], [], [], [], [], [], [], [], [], [], [], [], [], ['twtrcon'], [], [], [], [], [], [], [], [], [], [], [], [], [], [], [], [], [], [], [], [], [], [], [], [], [], [], [], [], [], [], [], [], [], [], [], [], [], ...]                                                          1\n",
       "[[], [], [], [], [], [], [], [], [], [], [], [], [], [], [], [], [], [], [], [], [], [], [], [], [], [], [], [], [], [], [], [], [], [], [], [], [], [], [], [], [], [], [], [], [], [], [], [], [], [], [], [], [], [], [], [], [], [], [], [], [], [], [], [], [], [], [], [], [], [], [], [], [], [], [], [], [], [], [], [], [], [], [], [], [], [], [], [], [], [], [], [], [], [], [], [], [], [], [], [], ...]                                                                   1\n",
       "[[], [], [], [], [], [], [], [], [], [], [], [], [], [], [], [], [], [], [], [], [], [], [], [], [], [], [], [], [], [], [], [], [], [], [], [], [], [], [], [], [], [], [], [], [], [], [], [], [], [], [], [], [], [], [], [], [], [], [], [], [], [], [], [], [], ['caus'], [], [], [], [], [], [], [], [], [], [], [], [], [], [], [], [], [], [], [], [], [], [], [], [], [], [], [], [], [], [], [], [], [], [], ...]                                                             1\n",
       "[[], [], [], [], [], [], [], [], [], [], [], [], [], [], [], [], [], [], [], [], [], [], [], [], [], [], [], [], [], [], [], [], [], [], [], [], [], [], [], [], [], [], [], [], [], [], [], [], [], [], [], [], [], [], [], [], [], [], [], [], [], [], [], [], [], [], [], [], [], [], [], [], [], [], [], [], [], [], [], [], [], [], [], [], [], [], [], [], [], [], [], [], [], ['2'], [], [], [], [], [], [], ...]                                                                1\n",
       "[[], [], [], [], [], [], [], [], [], [], [], ['ovistore',, 'ovi',, 'nokia'], [], [], [], [], [], [], [], [], [], [], [], [], [], [], [], [], [], [], [], [], [], [], [], [], [], [], [], [], [], [], [], [], [], [], [], [], [], [], [], [], [], [], [], [], [], [], [], [], [], [], [], [], [], [], [], [], [], [], [], [], [], [], [], [], [], [], [], [], [], [], [], [], [], [], [], [], [], [], [], [], [], [], [], [], [], [], ...]                                               1\n",
       "[[], [], [], [], [], [], [], [], [], [], [], [], [], [], [], [], [], [], [], [], [], [], [], [], [], [], [], [], [], [], [], [], [], [], [], [], [], [], [], [], [], [], [], [], [], [], [], [], ['NASA',, 'climate'], [], [], [], [], [], [], [], [], [], [], [], [], [], [], [], [], [], [], [], [], [], [], [], [], [], [], [], [], [], [], [], [], [], [], [], [], [], [], [], [], [], [], [], [], [], [], [], [], [], [], ...]                                                     1\n",
       "[[], [], [], [], [], [], [], [], [], [], [], [], [], [], [], [], [], [], [], [], [], [], [], [], [], [], [], [], [], [], [], [], [], [], [], [], [], [], [], [], [], [], [], [], [], [], [], [], [], [], [], [], [], [], [], ['Royals'], [], [], [], [], [], [], [], [], [], [], [], [], [], [], [], [], [], [], [], [], [], [], [], [], [], [], [], [], [], [], [], [], [], [], ['robotpickuplines'], [], [], [], [], [], [], [], [], [], ...]                                         1\n",
       "[[], [], [], [], [], [], [], [], [], [], [], [], [], [], [], [], [], [], ['skyfire'], [], [], [], [], [], [], [], [], [], [], [], [], [], [], [], [], [], [], [], [], [], [], [], [], [], [], [], [], [], [], [], [], [], [], [], [], [], [], [], [], [], [], [], ['saveheidi'], [], [], [], [], [], [], [], [], [], [], [], [], [], [], ['drupal',, 'sea',, 'socialmedia'], [], [], ['emer'], [], [], [], [], [], [], [], [], [], [], [], [], [], [], [], [], [], ...]                 1\n",
       "[[], [], [], [], [], [], [], [], [], [], [], [], [], [], [], [], [], [], [], [], [], [], [], [], [], [], [], [], [], [], [], [], [], [], [], [], [], [], [], [], [], [], [], [], [], [], [], [], [], [], [], [], [], [], [], [], [], [], [], [], [], [], [], [], [], [], [], [], [], [], [], [], [], ['PhD'], [], [], [], [], [], [], [], [], [], ['EpicFail'], [], [], [], [], [], [], [], [], [], [], [], [], [], [], [], [], ...]                                                    1\n",
       "[[], [], [], [], [], [], [], [], [], [], [], [], [], [], [], [], [], [], [], [], [], [], [], ['iremember'], [], [], [], [], [], [], [], [], [], [], [], [], [], [], [], [], [], [], [], [], [], [], [], [], [], [], [], [], ['dontyouhateitwhen'], [], [], [], [], [], [], [], [], [], [], [], [], [], [], [], [], [], [], [], [], ['dontyouhateitwhen'], [], [], [], [], [], [], [], [], [], [], [], [], [], [], [], [], [], [], [], ['iranElection'], [], [], [], [], [], [], ...]    1\n",
       "[[], [], [], [], [], [], [], [], [], [], [], [], [], [], [], [], [], [], [], [], [], [], [], [], [], [], [], [], [], [], [], [], [], [], ['Nokia'], [], [], [], [], [], [], [], [], [], [], [], [], [], [], [], [], [], [], [], [], [], [], [], [], [], [], [], [], [], [], [], [], [], [], [], [], [], [], [], [], [], [], [], [], [], [], [], [], [], [], [], [], [], [], [], [], [], [], [], [], [], [], [], [], [], ...]                                                            1\n",
       "[[], [], [], [], [], [], [], [], [], [], [], ['AC'], [], [], [], [], [], [], [], [], [], [], [], [], [], [], [], [], [], [], [], [], [], [], [], [], [], [], [], [], [], [], [], [], [], [], [], [], [], [], [], [], [], [], [], [], [], [], ['fb'], [], [], [], ['iphone'], [], [], [], [], [], [], [], [], [], [], [], [], [], [], [], [], [], [], [], [], [], [], [], [], [], [], [], [], [], [], [], [], [], [], [], ['ffxi'], [], ...]                                             1\n",
       "[[], ['dublinbus'], [], [], [], [], [], [], [], [], [], [], [], [], [], [], [], [], [], [], [], [], [], [], [], [], [], [], [], [], [], [], [], [], [], [], [], [], [], [], [], [], [], [], [], [], [], [], [], [], [], [], [], [], [], [], [], [], [], [], [], [], [], [], [], [], [], [], [], [], [], [], [], [], [], [], [], [], [], [], [], [], [], [], [], [], [], [], [], [], [], [], [], [], [], [], [], [], [], [], ...]                                                        1\n",
       "[[], [], [], [], [], [], [], [], [], [], [], [], [], [], [], [], [], [], [], [], [], [], ['fanofrugby'], [], [], [], [], [], [], [], [], [], [], [], [], [], [], [], [], [], [], [], [], [], [], [], [], [], [], [], [], [], [], [], [], [], [], [], [], [], [], [], [], [], [], [], [], [], ['madrugadores'], [], [], [], [], [], [], [], [], [], [], [], [], [], [], [], [], [], [], [], [], [], [], [], [], [], [], [], [], [], [], [], ...]                                         1\n",
       "[[], [], [], [], [], [], [], [], [], [], [], [], [], [], ['fail'], [], [], [], [], [], [], [], [], [], [], [], [], [], ['lofnotc'], [], [], [], ['Tweetdeck'], [], [], [], ['localgovcamp'], [], [], [], [], [], [], [], [], [], [], [], [], [], ['fb'], [], [], [], [], [], [], [], [], [], [], [], [], [], [], [], [], [], [], [], [], [], [], [], [], [], [], [], [], [], [], [], [], [], [], [], [], [], [], [], [], [], [], [], [], [], [], [], [], [], ...]                       1\n",
       "[[], [], [], [], [], [], [], [], [], [], [], [], [], [], [], [], [], [], [], [], [], ['fb'], [], [], [], [], [], [], [], [], [], [], [], [], [], [], [], [], [], [], [], [], [], [], [], [], [], [], [], [], [], [], [], [], [], [], [], [], [], [], [], [], [], [], [], [], [], [], [], [], [], [], [], [], [], [], [], [], [], ['squarespace'], [], [], [], [], [], [], [], [], [], [], [], [], [], ['ffxi'], [], [], [], [], [], [], ...]                                            1\n",
       "[[], [], [], ['cpsia'], [], [], [], [], [], [], [], [], [], [], [], [], [], [], [], [], [], [], [], [], [], [], [], [], [], [], [], [], [], [], [], [], [], [], [], [], [], [], [], [], [], [], [], [], [], [], [], [], [], [], [], [], [], [], [], [], [], [], [], [], [], [], [], [], [], [], [], [], [], [], [], [], [], [], [], [], [], [], [], [], [], [], [], [], [], [], [], [], [], [], [], [], [], [], [], [], ...]                                                            1\n",
       "[[], [], [], [], [], [], [], [], [], [], [], [], [], [], [], [], [], [], [], [], [], [], [], [], [], [], [], [], [], [], [], [], [], [], [], [], [], [], [], [], [], [], [], [], [], [], [], [], [], [], ['DQ'], [], [], [], [], [], [], [], [], ['otters',, 'baconcascade',, 'otters'], [], [], [], [], [], [], [], [], [], [], [], [], [], [], [], [], [], [], [], [], [], [], [], [], [], ['squarespace'], [], [], [], [], [], [], [], [], [], [], [], [], ...]                      1\n",
       "[[], [], [], ['infsum'], [], [], [], [], [], [], [], [], [], [], [], [], [], [], [], [], [], [], [], [], [], [], [], [], [], [], [], [], [], [], [], [], [], [], [], [], [], [], [], [], [], [], [], [], [], [], [], [], [], ['fb'], [], [], [], [], [], [], [], [], [], [], [], [], [], [], [], [], [], [], [], [], [], [], [], [], [], [], [], [], [], [], [], [], [], [], [], [], [], [], [], [], [], [], [], [], [], [], ...]                                                       1\n",
       "[[], [], [], [], [], [], [], [], [], [], [], [], [], [], [], [], [], [], [], [], [], [], [], [], [], [], [], [], [], [], [], [], [], [], [], [], [], [], [], [], [], [], [], [], [], [], [], [], [], [], [], [], [], [], [], [], [], [], ['NBA'], [], [], [], [], [], [], [], [], [], [], [], [], [], [], [], [], [], [], [], [], [], [], [], [], [], [], [], [], [], [], [], [], [], [], [], [], [], [], [], [], [], ...]                                                              1\n",
       "[[], [], ['hungee',, 'hungee'], [], [], [], [], [], [], [], [], [], [], [], [], [], [], [], [], [], [], [], [], [], [], [], [], [], [], [], [], [], [], [], [], [], [], [], [], [], [], [], [], [], [], [], [], [], [], [], [], [], [], [], [], [], [], [], [], [], [], [], [], [], [], [], [], [], [], [], [], [], [], [], [], [], [], [], [], [], [], [], [], [], [], ['mw2'], [], [], [], [], [], [], [], [], [], [], [], [], [], ...]                                               1\n",
       "[[], [], [], [], [], [], [], [], [], [], [], [], [], [], [], [], [], [], [], [], [], [], [], [], [], [], [], [], [], [], [], [], [], [], [], [], [], [], [], [], [], [], [], [], [], [], [], [], [], [], [], [], [], [], [], [], [], [], [], [], [], [], [], [], [], [], [], [], [], [], [], [], [], [], [], [], [], [], [], [], [], [], [], [], [], [], [], [], [], [], [], [], [], [], [], [], [], [], [], [], ...]                                                                   1\n",
       "[[], [], [], [], [], [], [], [], [], [], [], [], [], [], [], [], [], [], [], [], [], [], [], [], [], [], [], [], [], [], [], [], [], [], [], [], [], [], [], [], [], [], [], [], [], [], [], [], [], [], [], [], [], [], [], [], [], [], [], [], [], [], [], [], [], [], [], [], [], [], [], [], [], [], [], [], [], [], [], [], [], [], [], [], [], [], [], [], [], [], [], [], ['fail'], [], [], [], [], [], [], [], ...]                                                             1\n",
       "[[], [], [], [], [], [], [], [], [], [], [], [], [], [], [], [], [], [], [], [], [], [], [], [], [], [], [], [], [], [], [], [], [], [], [], [], [], [], [], [], [], [], [], [], [], [], [], [], [], [], [], [], [], [], [], [], [], [], [], [], [], [], [], [], [], [], [], [], [], [], [], [], [], [], [], [], [], [], [], [], [], [], [], [], [], [], [], [], [], [], [], [], [], [], [], [], [], [], [], [], ...]                                                                   1\n",
       "[['ipl'], [], [], [], [], ['squirrel'], [], [], [], [], [], [], [], [], [], [], ['Joomla'], [], [], [], [], [], [], [], [], [], [], [], [], [], [], [], [], [], [], [], [], [], [], [], [], [], [], [], [], [], [], [], [], [], [], [], [], [], [], [], [], [], [], [], ['painbuddies'], [], [], [], [], [], [], [], [], [], [], [], [], [], [], ['macbook',, 'bremen'], [], [], [], [], [], [], [], [], [], [], [], [], [], [], [], [], [], [], [], [], [], [], [], ...]               1\n",
       "[[], [], [], [], [], [], [], [], [], [], [], [], [], [], [], [], [], [], [], [], ['F1'], [], [], [], [], [], [], [], [], [], [], [], [], [], [], [], [], [], [], [], [], [], [], [], [], [], [], [], [], [], [], [], [], [], [], [], [], [], [], [], [], [], [], [], [], [], [], [], [], [], [], [], [], [], [], [], [], [], [], [], ['F1'], [], [], [], [], [], [], [], [], [], [], [], [], [], [], [], [], [], [], [], ...]                                                           1\n",
       "[[], [], [], [], [], [], [], [], [], [], [], [], [], [], [], [], [], [], [], [], [], [], [], [], [], [], [], [], [], [], [], [], [], [], [], [], ['summer09'], [], [], ['spam'], [], [], [], [], [], [], [], [], [], [], [], [], [], [], [], [], [], [], [], [], [], [], [], [], [], [], [], [], [], [], [], [], [], [], [], [], [], [], [], [], [], [], [], [], [], [], [], [], [], [], [], [], [], [], [], [], [], [], [], [], ...]                                                   1\n",
       "[[], [], [], [], [], [], [], [], [], [], [], [], [], [], [], [], [], [], [], [], [], [], [], [], [], [], ['fail'], [], [], [], [], [], [], [], [], [], [], [], [], [], [], [], [], [], [], [], [], [], [], [], [], [], [], [], [], [], [], [], [], [], [], [], [], [], [], [], [], [], [], [], [], [], [], [], [], [], [], [], [], [], ['laserdisc'], [], [], [], [], [], [], [], [], [], [], [], [], [], [], [], [], [], [], [], ...]                                                  1\n",
       "[[], [], [], [], [], [], [], [], [], [], [], [], [], [], [], [], [], [], [], [], [], [], [], [], [], [], [], [], [], [], [], [], [], [], [], [], [], [], [], [], [], [], [], [], [], [], [], [], [], [], [], [], [], [], [], [], [], [], [], [], [], [], [], [], [], [], [], [], [], [], [], [], [], [], [], [], [], [], [], [], [], [], [], [], [], [], [], [], [], [], [], [], [], [], [], [], [], [], [], [], ...]                                                                   1\n",
       "[[], ['geodefence',, 'iPhone'], [], [], [], [], [], [], [], [], [], [], [], [], [], [], [], [], [], [], [], [], [], [], [], [], [], [], [], [], [], [], [], [], [], [], [], [], [], [], [], [], [], [], [], [], [], [], [], [], [], [], [], [], [], [], [], [], [], [], [], [], [], [], [], [], [], [], [], [], [], [], [], [], [], [], [], [], [], [], [], [], [], [], [], [], [], [], [], [], [], [], [], [], [], [], [], [], [], ...]                                                1\n",
       "[[], [], [], [], [], [], [], [], [], [], [], [], [], [], [], [], [], [], [], [], [], [], [], [], [], [], [], [], [], [], [], [], [], [], [], [], [], [], [], [], [], [], [], [], [], [], [], [], [], [], [], [], [], [], [], [], [], [], [], [], [], [], [], [], [], [], [], [], ['bck5'], [], [], [], [], [], [], [], [], [], [], [], [], [], [], ['pawpawty'], [], [], [], [], [], [], [], ['TYGaman'], [], [], [], [], [], [], [], [], ...]                                          1\n",
       "[[], [], [], [], [], [], [], [], [], [], [], [], [], [], [], [], [], [], [], [], [], [], [], [], [], [], [], [], [], [], [], [], [], [], [], [], [], [], [], [], [], [], [], [], [], [], [], [], [], [], [], [], [], [], [], [], [], [], [], [], [], [], [], [], [], [], [], [], [], [], [], [], [], [], [], [], [], [], [], [], [], [], [], [], [], [], [], [], [], [], [], [], [], [], [], [], [], [], [], [], ...]                                                                   1\n",
       "[[], [], [], [], [], [], [], [], [], [], [], [], [], [], [], [], [], [], [], [], [], [], [], [], [], [], [], [], [], [], [], [], [], [], [], [], [], [], [], [], [], [], [], [], [], [], [], [], [], [], [], [], [], [], [], [], [], [], [], [], [], [], [], [], [], [], [], [], [], [], [], [], [], [], [], [], [], [], [], [], [], [], [], [], [], [], [], [], [], [], [], [], [], [], [], [], [], [], [], [], ...]                                                                   1\n",
       "[[], [], [], [], [], [], [], [], [], [], [], [], [], [], [], [], [], [], [], [], [], [], [], [], [], [], [], [], ['fb'], [], [], [], [], [], [], [], [], [], [], [], [], [], [], [], [], [], [], [], [], [], [], [], [], [], [], [], [], [], [], [], [], [], [], [], [], [], [], [], [], [], [], [], [], [], [], [], [], [], [], [], [], [], [], [], [], [], [], [], [], [], [], [], [], [], [], [], [], [], [], [], ...]                                                               1\n",
       "[[], [], [], [], [], [], [], [], [], [], [], [], [], [], [], [], [], [], [], [], [], [], [], [], [], [], [], [], ['LSOW'], [], [], [], [], [], [], [], [], [], [], [], [], [], [], [], [], [], [], [], [], [], [], [], [], [], [], [], ['3'], [], [], [], [], [], [], [], [], [], [], [], [], [], [], [], [], [], [], [], [], [], [], [], [], [], [], [], [], [], [], [], [], [], [], [], [], [], [], [], [], [], [], [], ...]                                                          1\n",
       "[[], [], [], [], [], [], [], [], [], [], [], [], [], [], [], [], [], ['fb'], [], [], [], [], [], [], [], [], [], [], [], [], [], [], [], [], [], [], [], [], [], [], [], [], [], [], [], ['lost'], [], [], [], [], [], [], [], [], [], [], [], [], ['twiparty',, 'rpattz'], [], [], [], [], [], [], [], [], [], [], [], [], [], [], [], [], [], [], [], [], [], [], [], [], ['fixreplies'], [], [], [], [], [], [], [], [], [], [], [], [], ['cusswords'], [], [], ...]                 1\n",
       "[[], [], [], [], [], [], [], [], [], [], [], [], [], [], [], ['shame',, 'fail',, 'fail'], [], [], [], [], [], [], [], [], [], [], [], [], [], [], [], [], [], [], [], [], [], [], [], [], [], [], [], [], [], [], [], [], [], [], [], [], [], [], [], [], [], [], [], [], [], [], [], [], [], [], [], [], [], [], [], [], [], [], [], [], [], [], [], [], [], ['ihaterotoscoping4eva'], [], [], [], [], [], [], [], [], [], [], [], [], [], [], [], [], ...]                            1\n",
       "[[], [], [], [], [], [], [], [], [], [], [], [], [], [], [], [], [], [], [], [], [], [], [], [], [], [], [], [], [], [], [], [], [], [], [], [], [], [], [], [], [], [], [], [], [], [], [], [], [], [], [], [], [], [], [], [], [], [], [], [], [], [], [], [], [], [], [], [], [], [], [], [], [], [], [], [], [], ['mac',, 'tweetdeck',, 'tweetie'], [], [], [], [], [], [], [], [], [], [], [], ['fixreplies'], [], [], [], [], [], [], [], [], ...]                                1\n",
       "[[], [], [], [], ['Eurovision'], [], [], [], [], [], [], [], [], [], [], [], [], [], [], [], [], [], [], [], [], [], [], [], [], [], [], [], [], [], [], [], [], [], [], [], [], [], [], [], [], [], [], [], ['3turnoffwords'], [], [], [], [], [], [], [], [], [], [], [], [], [], [], [], [], [], [], [], [], [], [], [], [], [], [], [], [], [], [], [], [], [], [], [], [], [], [], [], [], [], [], [], [], [], [], [], ['snl'], [], [], [], ...]                                   1\n",
       "[[], [], [], [], [], [], [], [], [], [], [], [], [], [], [], [], [], [], [], [], [], [], [], [], [], [], [], [], [], [], [], [], [], [], [], [], [], [], [], [], [], [], [], [], [], [], [], [], [], [], [], [], [], [], [], [], [], [], [], [], [], [], [], [], [], [], [], [], [], [], [], [], [], [], [], [], [], [], [], [], [], [], [], [], [], [], [], [], [], [], [], [], [], [], [], [], [], [], [], [], ...]                                                                   1\n",
       "[[], [], [], [], [], [], [], [], [], [], [], [], [], [], [], [], [], [], [], [], [], [], [], [], [], [], [], [], [], [], [], [], [], [], [], [], [], [], [], [], [], [], [], [], [], [], [], [], [], ['fb'], [], [], [], [], [], [], [], [], [], [], [], [], [], [], ['rugby',, 'Leinster'], [], [], [], [], [], [], [], ['SaveEarl'], [], [], [], [], [], [], [], [], [], [], [], [], [], [], [], [], [], [], [], [], [], [], [], [], [], [], ...]                                     1\n",
       "[[], [], [], [], [], [], [], [], [], [], [], [], [], [], [], [], [], [], [], [], [], [], [], [], [], [], [], [], [], [], ['613'], [], [], [], [], [], [], [], [], [], [], [], [], ['wossybookclub'], [], [], [], [], [], [], [], [], [], ['followfriday'], [], [], [], [], [], [], [], [], [], [], [], [], [], [], [], [], [], [], [], [], [], [], [], [], [], [], [], [], [], [], [], [], [], [], [], [], [], [], [], [], [], [], [], [], ['auremix'], [], ...]                        1\n",
       "[[], [], [], [], [], [], [], [], [], [], [], [], [], [], [], [], [], [], [], [], [], [], [], [], [], [], [], [], [], [], [], [], [], [], [], [], [], [], [], [], [], [], [], [], [], [], [], [], [], [], [], [], [], [], [], [], [], [], [], [], [], [], [], [], [], [], [], [], [], [], [], [], [], [], [], [], [], [], [], [], [], [], [], [], [], [], [], [], [], [], [], [], [], [], [], [], [], [], [], [], ...]                                                                   1\n",
       "[[], [], [], [], [], [], [], [], [], [], [], [], [], [], [], [], [], [], [], [], [], [], [], [], [], [], [], [], [], [], [], ['cubs'], [], [], [], ['iran',, 'iranelection'], [], [], [], [], [], [], [], [], [], [], [], [], [], [], [], [], [], [], [], [], [], [], [], [], [], ['tweetcamp'], [], [], [], [], [], [], [], [], [], [], [], [], [], [], [], [], [], [], [], [], [], ['Transformers'], [], [], [], [], [], [], [], [], [], [], [], [], [], [], [], ...]                 1\n",
       "Name: Hashtags, dtype: int64"
      ]
     },
     "execution_count": 23,
     "metadata": {},
     "output_type": "execute_result"
    }
   ],
   "source": [
    "trends_daily"
   ]
  },
  {
   "cell_type": "code",
   "execution_count": null,
   "id": "745b6c03",
   "metadata": {},
   "outputs": [],
   "source": []
  }
 ],
 "metadata": {
  "kernelspec": {
   "display_name": "Python 3 (ipykernel)",
   "language": "python",
   "name": "python3"
  },
  "language_info": {
   "codemirror_mode": {
    "name": "ipython",
    "version": 3
   },
   "file_extension": ".py",
   "mimetype": "text/x-python",
   "name": "python",
   "nbconvert_exporter": "python",
   "pygments_lexer": "ipython3",
   "version": "3.9.12"
  }
 },
 "nbformat": 4,
 "nbformat_minor": 5
}
