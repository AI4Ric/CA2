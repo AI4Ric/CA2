{
 "cells": [
  {
   "cell_type": "code",
   "execution_count": 1,
   "id": "620905bc",
   "metadata": {},
   "outputs": [
    {
     "name": "stderr",
     "output_type": "stream",
     "text": [
      "[nltk_data] Downloading package stopwords to\n",
      "[nltk_data]     C:\\Users\\rmora\\AppData\\Roaming\\nltk_data...\n",
      "[nltk_data]   Package stopwords is already up-to-date!\n",
      "[nltk_data] Downloading package wordnet to\n",
      "[nltk_data]     C:\\Users\\rmora\\AppData\\Roaming\\nltk_data...\n",
      "[nltk_data]   Package wordnet is already up-to-date!\n"
     ]
    },
    {
     "data": {
      "text/plain": [
       "True"
      ]
     },
     "execution_count": 1,
     "metadata": {},
     "output_type": "execute_result"
    }
   ],
   "source": [
    "# Importing necessary libraries\n",
    "import pandas as pd  # data manipulation and analysis\n",
    "import matplotlib.pyplot as plt  # plotting and visualization\n",
    "import re  # regular expressions\n",
    "import string  # string manipulation\n",
    "from nltk import download  # for downloading nltk data\n",
    "from nltk.corpus import stopwords  # for stopwords\n",
    "from nltk.stem import WordNetLemmatizer  # for word lemmatization\n",
    "import seaborn as sns  # statistical data visualization\n",
    "import contractions\n",
    "from nltk.tokenize import word_tokenize\n",
    "\n",
    "# Downloading required nltk data\n",
    "download('stopwords')\n",
    "download('wordnet')"
   ]
  },
  {
   "cell_type": "code",
   "execution_count": 2,
   "id": "121756f4",
   "metadata": {},
   "outputs": [
    {
     "data": {
      "text/html": [
       "<div>\n",
       "<style scoped>\n",
       "    .dataframe tbody tr th:only-of-type {\n",
       "        vertical-align: middle;\n",
       "    }\n",
       "\n",
       "    .dataframe tbody tr th {\n",
       "        vertical-align: top;\n",
       "    }\n",
       "\n",
       "    .dataframe thead th {\n",
       "        text-align: right;\n",
       "    }\n",
       "</style>\n",
       "<table border=\"1\" class=\"dataframe\">\n",
       "  <thead>\n",
       "    <tr style=\"text-align: right;\">\n",
       "      <th></th>\n",
       "      <th>0</th>\n",
       "      <th>1</th>\n",
       "      <th>2</th>\n",
       "      <th>3</th>\n",
       "      <th>4</th>\n",
       "      <th>5</th>\n",
       "    </tr>\n",
       "  </thead>\n",
       "  <tbody>\n",
       "    <tr>\n",
       "      <th>0</th>\n",
       "      <td>0</td>\n",
       "      <td>1467810369</td>\n",
       "      <td>Mon Apr 06 22:19:45 PDT 2009</td>\n",
       "      <td>NO_QUERY</td>\n",
       "      <td>_TheSpecialOne_</td>\n",
       "      <td>@switchfoot http://twitpic.com/2y1zl - Awww, t...</td>\n",
       "    </tr>\n",
       "    <tr>\n",
       "      <th>1</th>\n",
       "      <td>1</td>\n",
       "      <td>1467810672</td>\n",
       "      <td>Mon Apr 06 22:19:49 PDT 2009</td>\n",
       "      <td>NO_QUERY</td>\n",
       "      <td>scotthamilton</td>\n",
       "      <td>is upset that he can't update his Facebook by ...</td>\n",
       "    </tr>\n",
       "    <tr>\n",
       "      <th>2</th>\n",
       "      <td>2</td>\n",
       "      <td>1467810917</td>\n",
       "      <td>Mon Apr 06 22:19:53 PDT 2009</td>\n",
       "      <td>NO_QUERY</td>\n",
       "      <td>mattycus</td>\n",
       "      <td>@Kenichan I dived many times for the ball. Man...</td>\n",
       "    </tr>\n",
       "    <tr>\n",
       "      <th>3</th>\n",
       "      <td>3</td>\n",
       "      <td>1467811184</td>\n",
       "      <td>Mon Apr 06 22:19:57 PDT 2009</td>\n",
       "      <td>NO_QUERY</td>\n",
       "      <td>ElleCTF</td>\n",
       "      <td>my whole body feels itchy and like its on fire</td>\n",
       "    </tr>\n",
       "    <tr>\n",
       "      <th>4</th>\n",
       "      <td>4</td>\n",
       "      <td>1467811193</td>\n",
       "      <td>Mon Apr 06 22:19:57 PDT 2009</td>\n",
       "      <td>NO_QUERY</td>\n",
       "      <td>Karoli</td>\n",
       "      <td>@nationwideclass no, it's not behaving at all....</td>\n",
       "    </tr>\n",
       "  </tbody>\n",
       "</table>\n",
       "</div>"
      ],
      "text/plain": [
       "   0           1                             2         3                4  \\\n",
       "0  0  1467810369  Mon Apr 06 22:19:45 PDT 2009  NO_QUERY  _TheSpecialOne_   \n",
       "1  1  1467810672  Mon Apr 06 22:19:49 PDT 2009  NO_QUERY    scotthamilton   \n",
       "2  2  1467810917  Mon Apr 06 22:19:53 PDT 2009  NO_QUERY         mattycus   \n",
       "3  3  1467811184  Mon Apr 06 22:19:57 PDT 2009  NO_QUERY          ElleCTF   \n",
       "4  4  1467811193  Mon Apr 06 22:19:57 PDT 2009  NO_QUERY           Karoli   \n",
       "\n",
       "                                                   5  \n",
       "0  @switchfoot http://twitpic.com/2y1zl - Awww, t...  \n",
       "1  is upset that he can't update his Facebook by ...  \n",
       "2  @Kenichan I dived many times for the ball. Man...  \n",
       "3    my whole body feels itchy and like its on fire   \n",
       "4  @nationwideclass no, it's not behaving at all....  "
      ]
     },
     "metadata": {},
     "output_type": "display_data"
    }
   ],
   "source": [
    "# Loading the dataset\n",
    "df = pd.read_csv(\"../Data/ProjectTweets.csv\", header=None)\n",
    "\n",
    "# Display the first 5 rows of the dataset for a quick initial exploration\n",
    "display(df.head())"
   ]
  },
  {
   "cell_type": "code",
   "execution_count": 3,
   "id": "ac8d1bee",
   "metadata": {},
   "outputs": [
    {
     "name": "stdout",
     "output_type": "stream",
     "text": [
      "<class 'pandas.core.frame.DataFrame'>\n",
      "RangeIndex: 1600000 entries, 0 to 1599999\n",
      "Data columns (total 6 columns):\n",
      " #   Column  Non-Null Count    Dtype \n",
      "---  ------  --------------    ----- \n",
      " 0   0       1600000 non-null  int64 \n",
      " 1   1       1600000 non-null  int64 \n",
      " 2   2       1600000 non-null  object\n",
      " 3   3       1600000 non-null  object\n",
      " 4   4       1600000 non-null  object\n",
      " 5   5       1600000 non-null  object\n",
      "dtypes: int64(2), object(4)\n",
      "memory usage: 73.2+ MB\n"
     ]
    },
    {
     "data": {
      "text/plain": [
       "None"
      ]
     },
     "metadata": {},
     "output_type": "display_data"
    }
   ],
   "source": [
    "# Display information about the dataset (data types, number of non-null values, etc.)\n",
    "display(df.info())"
   ]
  },
  {
   "cell_type": "markdown",
   "id": "b0dd525a",
   "metadata": {},
   "source": [
    "### Note: \n",
    "It seems like there are no missing values in the dataset.  \n",
    "I will add headers to the columns for a better understanding of the data."
   ]
  },
  {
   "cell_type": "markdown",
   "id": "8c988026",
   "metadata": {},
   "source": [
    "### Dataset Columns:\n",
    "- `IDs`: The id of the tweet (e.g., 4587)\n",
    "- `Date`: The date of the tweet (e.g., Sat May 16 23:58:44 UTC 2009)\n",
    "- `Flag`: The query (e.g., lyx). If there is no query, then this value is NO_QUERY.\n",
    "- `user`: The user that tweeted (e.g., bobthebuilder)\n",
    "- `text`: The text of the tweet (e.g., Lyx is cool)"
   ]
  },
  {
   "cell_type": "code",
   "execution_count": 4,
   "id": "9625ecba",
   "metadata": {},
   "outputs": [
    {
     "data": {
      "text/html": [
       "<div>\n",
       "<style scoped>\n",
       "    .dataframe tbody tr th:only-of-type {\n",
       "        vertical-align: middle;\n",
       "    }\n",
       "\n",
       "    .dataframe tbody tr th {\n",
       "        vertical-align: top;\n",
       "    }\n",
       "\n",
       "    .dataframe thead th {\n",
       "        text-align: right;\n",
       "    }\n",
       "</style>\n",
       "<table border=\"1\" class=\"dataframe\">\n",
       "  <thead>\n",
       "    <tr style=\"text-align: right;\">\n",
       "      <th></th>\n",
       "      <th>Index</th>\n",
       "      <th>IDs</th>\n",
       "      <th>Date</th>\n",
       "      <th>Flag</th>\n",
       "      <th>user</th>\n",
       "      <th>text</th>\n",
       "    </tr>\n",
       "  </thead>\n",
       "  <tbody>\n",
       "    <tr>\n",
       "      <th>0</th>\n",
       "      <td>0</td>\n",
       "      <td>1467810369</td>\n",
       "      <td>Mon Apr 06 22:19:45 PDT 2009</td>\n",
       "      <td>NO_QUERY</td>\n",
       "      <td>_TheSpecialOne_</td>\n",
       "      <td>@switchfoot http://twitpic.com/2y1zl - Awww, t...</td>\n",
       "    </tr>\n",
       "    <tr>\n",
       "      <th>1</th>\n",
       "      <td>1</td>\n",
       "      <td>1467810672</td>\n",
       "      <td>Mon Apr 06 22:19:49 PDT 2009</td>\n",
       "      <td>NO_QUERY</td>\n",
       "      <td>scotthamilton</td>\n",
       "      <td>is upset that he can't update his Facebook by ...</td>\n",
       "    </tr>\n",
       "    <tr>\n",
       "      <th>2</th>\n",
       "      <td>2</td>\n",
       "      <td>1467810917</td>\n",
       "      <td>Mon Apr 06 22:19:53 PDT 2009</td>\n",
       "      <td>NO_QUERY</td>\n",
       "      <td>mattycus</td>\n",
       "      <td>@Kenichan I dived many times for the ball. Man...</td>\n",
       "    </tr>\n",
       "    <tr>\n",
       "      <th>3</th>\n",
       "      <td>3</td>\n",
       "      <td>1467811184</td>\n",
       "      <td>Mon Apr 06 22:19:57 PDT 2009</td>\n",
       "      <td>NO_QUERY</td>\n",
       "      <td>ElleCTF</td>\n",
       "      <td>my whole body feels itchy and like its on fire</td>\n",
       "    </tr>\n",
       "    <tr>\n",
       "      <th>4</th>\n",
       "      <td>4</td>\n",
       "      <td>1467811193</td>\n",
       "      <td>Mon Apr 06 22:19:57 PDT 2009</td>\n",
       "      <td>NO_QUERY</td>\n",
       "      <td>Karoli</td>\n",
       "      <td>@nationwideclass no, it's not behaving at all....</td>\n",
       "    </tr>\n",
       "  </tbody>\n",
       "</table>\n",
       "</div>"
      ],
      "text/plain": [
       "   Index         IDs                          Date      Flag             user  \\\n",
       "0      0  1467810369  Mon Apr 06 22:19:45 PDT 2009  NO_QUERY  _TheSpecialOne_   \n",
       "1      1  1467810672  Mon Apr 06 22:19:49 PDT 2009  NO_QUERY    scotthamilton   \n",
       "2      2  1467810917  Mon Apr 06 22:19:53 PDT 2009  NO_QUERY         mattycus   \n",
       "3      3  1467811184  Mon Apr 06 22:19:57 PDT 2009  NO_QUERY          ElleCTF   \n",
       "4      4  1467811193  Mon Apr 06 22:19:57 PDT 2009  NO_QUERY           Karoli   \n",
       "\n",
       "                                                text  \n",
       "0  @switchfoot http://twitpic.com/2y1zl - Awww, t...  \n",
       "1  is upset that he can't update his Facebook by ...  \n",
       "2  @Kenichan I dived many times for the ball. Man...  \n",
       "3    my whole body feels itchy and like its on fire   \n",
       "4  @nationwideclass no, it's not behaving at all....  "
      ]
     },
     "metadata": {},
     "output_type": "display_data"
    }
   ],
   "source": [
    "# Define column names for the dataset\n",
    "column_names = [\"Index\", \"IDs\", \"Date\", \"Flag\", \"user\", \"text\"]\n",
    "\n",
    "# Reload the dataset with column names\n",
    "df = pd.read_csv(\"../Data/ProjectTweets.csv\", header=None, names=column_names)\n",
    "\n",
    "# Display the first 5 rows of the dataset with column names\n",
    "display(df.head())"
   ]
  },
  {
   "cell_type": "code",
   "execution_count": 5,
   "id": "e7136165",
   "metadata": {},
   "outputs": [
    {
     "data": {
      "text/plain": [
       "\"Number of unique values in 'Index': 1600000\""
      ]
     },
     "metadata": {},
     "output_type": "display_data"
    },
    {
     "data": {
      "text/plain": [
       "\"Number of unique values in 'IDs': 1598315\""
      ]
     },
     "metadata": {},
     "output_type": "display_data"
    }
   ],
   "source": [
    "# Checking the number of unique values in 'Index' and 'IDs' columns\n",
    "unique_index = df[\"Index\"].nunique()\n",
    "unique_ids = df[\"IDs\"].nunique()\n",
    "\n",
    "# Displaying the number of unique values\n",
    "print(f\"Number of unique values in 'Index': {unique_index}\")\n",
    "print(f\"Number of unique values in 'IDs': {unique_ids}\")"
   ]
  },
  {
   "cell_type": "markdown",
   "id": "a58ebf43",
   "metadata": {},
   "source": [
    "### Notes on Unique Values:\n",
    "- The first column, 'Index', seems to be just an index and therefore is not needed.\n",
    "- The second column, 'IDs', appears to have a few duplicates. As I assumed that 'IDs' should be unique, I will check for and remove any duplicate rows."
   ]
  },
  {
   "cell_type": "code",
   "execution_count": 6,
   "id": "a1880f18",
   "metadata": {},
   "outputs": [],
   "source": [
    "# Dropping the 'Index' column\n",
    "df = df.drop(columns=\"Index\")"
   ]
  },
  {
   "cell_type": "code",
   "execution_count": 7,
   "id": "a1d52038",
   "metadata": {},
   "outputs": [
    {
     "data": {
      "text/plain": [
       "'Number of duplicate rows: 1685'"
      ]
     },
     "metadata": {},
     "output_type": "display_data"
    }
   ],
   "source": [
    "# Checking for duplicates in the dataset\n",
    "duplicates = df.duplicated().sum()\n",
    "\n",
    "# Displaying the number of duplicate rows\n",
    "display(f\"Number of duplicate rows: {duplicates}\")"
   ]
  },
  {
   "cell_type": "markdown",
   "id": "a19d1b97",
   "metadata": {},
   "source": [
    "### Notes on Duplicates:\n",
    "- As assumed, 'IDs' is a unique value for each tweet. Therefore, I can drop the 'IDs' column and remove any duplicate tweets to ensure data consistency."
   ]
  },
  {
   "cell_type": "code",
   "execution_count": 8,
   "id": "2a778e42",
   "metadata": {},
   "outputs": [
    {
     "name": "stdout",
     "output_type": "stream",
     "text": [
      "<class 'pandas.core.frame.DataFrame'>\n",
      "Int64Index: 1598315 entries, 0 to 1599999\n",
      "Data columns (total 4 columns):\n",
      " #   Column  Non-Null Count    Dtype \n",
      "---  ------  --------------    ----- \n",
      " 0   Date    1598315 non-null  object\n",
      " 1   Flag    1598315 non-null  object\n",
      " 2   user    1598315 non-null  object\n",
      " 3   text    1598315 non-null  object\n",
      "dtypes: object(4)\n",
      "memory usage: 61.0+ MB\n"
     ]
    },
    {
     "data": {
      "text/plain": [
       "None"
      ]
     },
     "metadata": {},
     "output_type": "display_data"
    }
   ],
   "source": [
    "# Dropping duplicate rows\n",
    "df = df.drop_duplicates()\n",
    "\n",
    "# Dropping the 'IDs' column\n",
    "df = df.drop(columns=\"IDs\")\n",
    "\n",
    "# Displaying the dataset information after dropping duplicates\n",
    "display(df.info())"
   ]
  },
  {
   "cell_type": "code",
   "execution_count": 9,
   "id": "46f79a55",
   "metadata": {},
   "outputs": [
    {
     "data": {
      "text/plain": [
       "\"Unique values in 'Flag': ['NO_QUERY']\""
      ]
     },
     "metadata": {},
     "output_type": "display_data"
    }
   ],
   "source": [
    "# Checking unique values in 'Flag' column\n",
    "unique_flags = df[\"Flag\"].unique()\n",
    "\n",
    "# Displaying unique values in 'Flag'\n",
    "display(f\"Unique values in 'Flag': {unique_flags}\")"
   ]
  },
  {
   "cell_type": "markdown",
   "id": "28a6b2cc",
   "metadata": {},
   "source": [
    "### Notes on 'Flag' Column:\n",
    "- The 'Flag' column will be dropped as it contains only one unique value, which is not relevant for this analysis."
   ]
  },
  {
   "cell_type": "code",
   "execution_count": 10,
   "id": "6a3fa5f7",
   "metadata": {},
   "outputs": [],
   "source": [
    "# Dropping the 'Flag' column\n",
    "df = df.drop(columns=\"Flag\")"
   ]
  },
  {
   "cell_type": "markdown",
   "id": "b01734f4",
   "metadata": {},
   "source": [
    "Now before drop any other column will be useful to identify the time frame of the dataset"
   ]
  },
  {
   "cell_type": "markdown",
   "id": "6f82cb4f",
   "metadata": {},
   "source": [
    "### Notes on Date Transformation:\n",
    "- The 'Date' column is transformed to a more appropriate format for this analysis. The analysis will be performed by week, month, and trimester, which requires the date to be in the correct format."
   ]
  },
  {
   "cell_type": "code",
   "execution_count": 11,
   "id": "3947fe10",
   "metadata": {},
   "outputs": [
    {
     "data": {
      "text/html": [
       "<div>\n",
       "<style scoped>\n",
       "    .dataframe tbody tr th:only-of-type {\n",
       "        vertical-align: middle;\n",
       "    }\n",
       "\n",
       "    .dataframe tbody tr th {\n",
       "        vertical-align: top;\n",
       "    }\n",
       "\n",
       "    .dataframe thead th {\n",
       "        text-align: right;\n",
       "    }\n",
       "</style>\n",
       "<table border=\"1\" class=\"dataframe\">\n",
       "  <thead>\n",
       "    <tr style=\"text-align: right;\">\n",
       "      <th></th>\n",
       "      <th>Date</th>\n",
       "      <th>user</th>\n",
       "      <th>text</th>\n",
       "    </tr>\n",
       "  </thead>\n",
       "  <tbody>\n",
       "    <tr>\n",
       "      <th>0</th>\n",
       "      <td>2009-04-06</td>\n",
       "      <td>_TheSpecialOne_</td>\n",
       "      <td>@switchfoot http://twitpic.com/2y1zl - Awww, t...</td>\n",
       "    </tr>\n",
       "    <tr>\n",
       "      <th>1</th>\n",
       "      <td>2009-04-06</td>\n",
       "      <td>scotthamilton</td>\n",
       "      <td>is upset that he can't update his Facebook by ...</td>\n",
       "    </tr>\n",
       "    <tr>\n",
       "      <th>2</th>\n",
       "      <td>2009-04-06</td>\n",
       "      <td>mattycus</td>\n",
       "      <td>@Kenichan I dived many times for the ball. Man...</td>\n",
       "    </tr>\n",
       "    <tr>\n",
       "      <th>3</th>\n",
       "      <td>2009-04-06</td>\n",
       "      <td>ElleCTF</td>\n",
       "      <td>my whole body feels itchy and like its on fire</td>\n",
       "    </tr>\n",
       "    <tr>\n",
       "      <th>4</th>\n",
       "      <td>2009-04-06</td>\n",
       "      <td>Karoli</td>\n",
       "      <td>@nationwideclass no, it's not behaving at all....</td>\n",
       "    </tr>\n",
       "  </tbody>\n",
       "</table>\n",
       "</div>"
      ],
      "text/plain": [
       "         Date             user  \\\n",
       "0  2009-04-06  _TheSpecialOne_   \n",
       "1  2009-04-06    scotthamilton   \n",
       "2  2009-04-06         mattycus   \n",
       "3  2009-04-06          ElleCTF   \n",
       "4  2009-04-06           Karoli   \n",
       "\n",
       "                                                text  \n",
       "0  @switchfoot http://twitpic.com/2y1zl - Awww, t...  \n",
       "1  is upset that he can't update his Facebook by ...  \n",
       "2  @Kenichan I dived many times for the ball. Man...  \n",
       "3    my whole body feels itchy and like its on fire   \n",
       "4  @nationwideclass no, it's not behaving at all....  "
      ]
     },
     "metadata": {},
     "output_type": "display_data"
    }
   ],
   "source": [
    "# Converting 'Date' column to datetime format and extracting the date\n",
    "df['Date'] = pd.to_datetime(df['Date'], errors='coerce', format='%a %b %d %H:%M:%S PDT %Y').dt.strftime('%Y-%m-%d')\n",
    "\n",
    "# Displaying the first few rows of the dataframe after the date transformation\n",
    "display(df.head())"
   ]
  },
  {
   "cell_type": "code",
   "execution_count": 12,
   "id": "df51764e",
   "metadata": {},
   "outputs": [
    {
     "name": "stdout",
     "output_type": "stream",
     "text": [
      "<class 'pandas.core.frame.DataFrame'>\n",
      "Int64Index: 1598315 entries, 0 to 1599999\n",
      "Data columns (total 3 columns):\n",
      " #   Column  Non-Null Count    Dtype \n",
      "---  ------  --------------    ----- \n",
      " 0   Date    1598315 non-null  object\n",
      " 1   user    1598315 non-null  object\n",
      " 2   text    1598315 non-null  object\n",
      "dtypes: object(3)\n",
      "memory usage: 48.8+ MB\n"
     ]
    }
   ],
   "source": [
    "df.info()"
   ]
  },
  {
   "cell_type": "code",
   "execution_count": 13,
   "id": "353510c8",
   "metadata": {},
   "outputs": [
    {
     "data": {
      "text/plain": [
       "'2009-04-06'"
      ]
     },
     "execution_count": 13,
     "metadata": {},
     "output_type": "execute_result"
    }
   ],
   "source": [
    "df['Date'].min()"
   ]
  },
  {
   "cell_type": "code",
   "execution_count": 14,
   "id": "7cefb50b",
   "metadata": {},
   "outputs": [
    {
     "data": {
      "text/plain": [
       "'2009-06-25'"
      ]
     },
     "execution_count": 14,
     "metadata": {},
     "output_type": "execute_result"
    }
   ],
   "source": [
    "df['Date'].max()"
   ]
  },
  {
   "cell_type": "markdown",
   "id": "7e09c1eb",
   "metadata": {},
   "source": [
    "### Notes on 'User' Column:\n",
    "- Although the 'user' column will be deleted to focus solely on the content of the tweets, I will first analyze the distribution of tweets among users. \n",
    "- This will help to identify any potential biases in the dataset before proceeding with further analysis."
   ]
  },
  {
   "cell_type": "code",
   "execution_count": 15,
   "id": "848ab701",
   "metadata": {},
   "outputs": [
    {
     "data": {
      "text/plain": [
       "lost_dog           549\n",
       "webwoke            345\n",
       "tweetpet           310\n",
       "SallytheShizzle    281\n",
       "VioletsCRUK        279\n",
       "                  ... \n",
       "sleeping_gypsy       1\n",
       "alannamalyn          1\n",
       "robertreset          1\n",
       "juicybabyyy          1\n",
       "bpbabe               1\n",
       "Name: user, Length: 659775, dtype: int64"
      ]
     },
     "metadata": {},
     "output_type": "display_data"
    }
   ],
   "source": [
    "# Checking the distribution of tweets among users\n",
    "user_distribution = df[\"user\"].value_counts()\n",
    "\n",
    "# Displaying the distribution of tweets among users\n",
    "display(user_distribution)"
   ]
  },
  {
   "cell_type": "code",
   "execution_count": 16,
   "id": "80386201",
   "metadata": {},
   "outputs": [
    {
     "data": {
      "image/png": "[encoded data removed]",
      "text/plain": [
       "<Figure size 576x864 with 3 Axes>"
      ]
     },
     "metadata": {
      "needs_background": "light"
     },
     "output_type": "display_data"
    }
   ],
   "source": [
    "# Count the number of tweets\n",
    "num_tweets = len(df)\n",
    "\n",
    "# Count the number of unique users\n",
    "num_users = df[\"user\"].nunique()\n",
    "\n",
    "# Count tweets per user\n",
    "tweets_per_user = df['user'].value_counts()\n",
    "\n",
    "# Set up a 3x1 grid of subplots\n",
    "fig, axs = plt.subplots(nrows=3, ncols=1, figsize=(8, 12))\n",
    "\n",
    "# Plot bar chart in the first subplot\n",
    "bars = axs[0].bar([\"Tweets\", \"Users\"], [num_tweets, num_users], color=['blue', 'orange'])\n",
    "axs[0].bar_label(bars)\n",
    "axs[0].set_title('Number of Tweets and Users')\n",
    "\n",
    "# Plot histogram in the second subplot\n",
    "axs[1].hist(tweets_per_user, bins=range(1, 21), edgecolor='black', align='left')\n",
    "axs[1].set_title('Distribution of Tweets per User')\n",
    "axs[1].set_xlabel('Number of Tweets')\n",
    "axs[1].set_ylabel('Number of Users')\n",
    "axs[1].set_xticks(range(1, 21))\n",
    "axs[1].set_xlim(0, 20)\n",
    "\n",
    "# Plot boxplot in the third subplot\n",
    "axs[2].boxplot(tweets_per_user)\n",
    "axs[2].set_title('Boxplot of Tweets per User')\n",
    "axs[2].set_ylabel('Number of Tweets')\n",
    "axs[2].set_xticklabels(['Users'])\n",
    "\n",
    "# Adjust the spacing between plots\n",
    "plt.tight_layout()\n",
    "\n",
    "# Display the charts\n",
    "plt.show()"
   ]
  },
  {
   "cell_type": "markdown",
   "id": "15d3951e",
   "metadata": {},
   "source": [
    "### Insights from the Graphs:\n",
    "\n",
    "1. **Tweet-to-User Ratio:**\n",
    "   - There are approximately 1.598 million tweets in the dataset from about 659,775 unique users.\n",
    "   - On average, each user has contributed slightly more than 2 tweets. This suggests a mix of users - some tweeted once, while others tweeted multiple times.\n",
    "\n",
    "2. **Skewness:**\n",
    "   - The distribution of tweets per user is heavily right-skewed, meaning most users have tweeted a few times, but a few have tweeted many more times than the average.\n",
    "\n",
    "3. **Boxplot Insights:**\n",
    "   - The boxplot shows the median and interquartile range is clustered at low tweet counts, while the long whisker and points above demonstrate the outliers in the dataset.\n",
    "\n",
    "4. **Outliers:**\n",
    "   - The top 5 users with the most tweets are clear outliers in the distribution. For instance, the user \"lost_dog\" has tweeted 549 times, which is significantly higher than the typical user in the dataset.\n",
    "\n",
    "5. **Potential Bias:**\n",
    "   - While there is some repetition in users, the diverse range of users minimizes bias from repeated users.\n",
    "\n",
    "6. **Generalization:**\n",
    "   - The dataset is likely a good representation for sentiment analysis, not heavily influenced by a small group of vocal users.\n",
    "\n",
    "7. **Impact on Analysis:**\n",
    "   - The dataset's size means outliers have minimal impact on aggregate metrics, with the median and other percentiles remaining largely unaffected.\n",
    "\n",
    "In conclusion, this dataset, with its diversity in user representation, is beneficial for sentiment analysis. The potential bias from users tweeting multiple times is present, but it is not significant enough to skew the overall results dramatically."
   ]
  },
  {
   "cell_type": "code",
   "execution_count": 17,
   "id": "3d5bcfd6",
   "metadata": {},
   "outputs": [],
   "source": [
    "# Convert 'Date' column to datetime\n",
    "df['Date'] = pd.to_datetime(df['Date'])"
   ]
  },
  {
   "cell_type": "markdown",
   "id": "2628d83a",
   "metadata": {},
   "source": [
    "# Text Preprocessing"
   ]
  },
  {
   "cell_type": "code",
   "execution_count": 19,
   "id": "99a946f8",
   "metadata": {
    "scrolled": false
   },
   "outputs": [
    {
     "data": {
      "text/html": [
       "<div>\n",
       "<style scoped>\n",
       "    .dataframe tbody tr th:only-of-type {\n",
       "        vertical-align: middle;\n",
       "    }\n",
       "\n",
       "    .dataframe tbody tr th {\n",
       "        vertical-align: top;\n",
       "    }\n",
       "\n",
       "    .dataframe thead th {\n",
       "        text-align: right;\n",
       "    }\n",
       "</style>\n",
       "<table border=\"1\" class=\"dataframe\">\n",
       "  <thead>\n",
       "    <tr style=\"text-align: right;\">\n",
       "      <th></th>\n",
       "      <th>Date</th>\n",
       "      <th>user</th>\n",
       "      <th>text</th>\n",
       "      <th>Hashtags</th>\n",
       "    </tr>\n",
       "  </thead>\n",
       "  <tbody>\n",
       "    <tr>\n",
       "      <th>0</th>\n",
       "      <td>2009-04-06</td>\n",
       "      <td>_TheSpecialOne_</td>\n",
       "      <td>@switchfoot http://twitpic.com/2y1zl - Awww, t...</td>\n",
       "      <td>[]</td>\n",
       "    </tr>\n",
       "    <tr>\n",
       "      <th>1</th>\n",
       "      <td>2009-04-06</td>\n",
       "      <td>scotthamilton</td>\n",
       "      <td>is upset that he can't update his Facebook by ...</td>\n",
       "      <td>[]</td>\n",
       "    </tr>\n",
       "    <tr>\n",
       "      <th>2</th>\n",
       "      <td>2009-04-06</td>\n",
       "      <td>mattycus</td>\n",
       "      <td>@Kenichan I dived many times for the ball. Man...</td>\n",
       "      <td>[]</td>\n",
       "    </tr>\n",
       "    <tr>\n",
       "      <th>3</th>\n",
       "      <td>2009-04-06</td>\n",
       "      <td>ElleCTF</td>\n",
       "      <td>my whole body feels itchy and like its on fire</td>\n",
       "      <td>[]</td>\n",
       "    </tr>\n",
       "    <tr>\n",
       "      <th>4</th>\n",
       "      <td>2009-04-06</td>\n",
       "      <td>Karoli</td>\n",
       "      <td>@nationwideclass no, it's not behaving at all....</td>\n",
       "      <td>[]</td>\n",
       "    </tr>\n",
       "  </tbody>\n",
       "</table>\n",
       "</div>"
      ],
      "text/plain": [
       "        Date             user  \\\n",
       "0 2009-04-06  _TheSpecialOne_   \n",
       "1 2009-04-06    scotthamilton   \n",
       "2 2009-04-06         mattycus   \n",
       "3 2009-04-06          ElleCTF   \n",
       "4 2009-04-06           Karoli   \n",
       "\n",
       "                                                text Hashtags  \n",
       "0  @switchfoot http://twitpic.com/2y1zl - Awww, t...       []  \n",
       "1  is upset that he can't update his Facebook by ...       []  \n",
       "2  @Kenichan I dived many times for the ball. Man...       []  \n",
       "3    my whole body feels itchy and like its on fire        []  \n",
       "4  @nationwideclass no, it's not behaving at all....       []  "
      ]
     },
     "execution_count": 19,
     "metadata": {},
     "output_type": "execute_result"
    }
   ],
   "source": [
    "hashtag_pattern = r'#(\\w+)'\n",
    "# Extract hashtags and add to new column\n",
    "df['Hashtags'] = df['text'].apply(lambda x: re.findall(hashtag_pattern, x))\n",
    "df.head()"
   ]
  },
  {
   "cell_type": "code",
   "execution_count": 20,
   "id": "9b016dd8",
   "metadata": {
    "scrolled": false
   },
   "outputs": [
    {
     "data": {
      "text/html": [
       "<div>\n",
       "<style scoped>\n",
       "    .dataframe tbody tr th:only-of-type {\n",
       "        vertical-align: middle;\n",
       "    }\n",
       "\n",
       "    .dataframe tbody tr th {\n",
       "        vertical-align: top;\n",
       "    }\n",
       "\n",
       "    .dataframe thead th {\n",
       "        text-align: right;\n",
       "    }\n",
       "</style>\n",
       "<table border=\"1\" class=\"dataframe\">\n",
       "  <thead>\n",
       "    <tr style=\"text-align: right;\">\n",
       "      <th></th>\n",
       "      <th>Date</th>\n",
       "      <th>user</th>\n",
       "      <th>text</th>\n",
       "      <th>Hashtags</th>\n",
       "      <th>Mentions</th>\n",
       "    </tr>\n",
       "  </thead>\n",
       "  <tbody>\n",
       "    <tr>\n",
       "      <th>0</th>\n",
       "      <td>2009-04-06</td>\n",
       "      <td>_TheSpecialOne_</td>\n",
       "      <td>@switchfoot http://twitpic.com/2y1zl - Awww, t...</td>\n",
       "      <td>[]</td>\n",
       "      <td>[switchfoot]</td>\n",
       "    </tr>\n",
       "    <tr>\n",
       "      <th>1</th>\n",
       "      <td>2009-04-06</td>\n",
       "      <td>scotthamilton</td>\n",
       "      <td>is upset that he can't update his Facebook by ...</td>\n",
       "      <td>[]</td>\n",
       "      <td>[]</td>\n",
       "    </tr>\n",
       "    <tr>\n",
       "      <th>2</th>\n",
       "      <td>2009-04-06</td>\n",
       "      <td>mattycus</td>\n",
       "      <td>@Kenichan I dived many times for the ball. Man...</td>\n",
       "      <td>[]</td>\n",
       "      <td>[Kenichan]</td>\n",
       "    </tr>\n",
       "    <tr>\n",
       "      <th>3</th>\n",
       "      <td>2009-04-06</td>\n",
       "      <td>ElleCTF</td>\n",
       "      <td>my whole body feels itchy and like its on fire</td>\n",
       "      <td>[]</td>\n",
       "      <td>[]</td>\n",
       "    </tr>\n",
       "    <tr>\n",
       "      <th>4</th>\n",
       "      <td>2009-04-06</td>\n",
       "      <td>Karoli</td>\n",
       "      <td>@nationwideclass no, it's not behaving at all....</td>\n",
       "      <td>[]</td>\n",
       "      <td>[nationwideclass]</td>\n",
       "    </tr>\n",
       "  </tbody>\n",
       "</table>\n",
       "</div>"
      ],
      "text/plain": [
       "        Date             user  \\\n",
       "0 2009-04-06  _TheSpecialOne_   \n",
       "1 2009-04-06    scotthamilton   \n",
       "2 2009-04-06         mattycus   \n",
       "3 2009-04-06          ElleCTF   \n",
       "4 2009-04-06           Karoli   \n",
       "\n",
       "                                                text Hashtags  \\\n",
       "0  @switchfoot http://twitpic.com/2y1zl - Awww, t...       []   \n",
       "1  is upset that he can't update his Facebook by ...       []   \n",
       "2  @Kenichan I dived many times for the ball. Man...       []   \n",
       "3    my whole body feels itchy and like its on fire        []   \n",
       "4  @nationwideclass no, it's not behaving at all....       []   \n",
       "\n",
       "            Mentions  \n",
       "0       [switchfoot]  \n",
       "1                 []  \n",
       "2         [Kenichan]  \n",
       "3                 []  \n",
       "4  [nationwideclass]  "
      ]
     },
     "execution_count": 20,
     "metadata": {},
     "output_type": "execute_result"
    }
   ],
   "source": [
    "mention_pattern = r'@(\\w+)'\n",
    "# Extract mentions and add to new column\n",
    "df['Mentions'] = df['text'].apply(lambda x: re.findall(mention_pattern, x))\n",
    "df.head()"
   ]
  },
  {
   "cell_type": "code",
   "execution_count": 27,
   "id": "fd7b98ba",
   "metadata": {},
   "outputs": [],
   "source": [
    "# Initialize the WordNet lemmatizer and set of English stopwords\n",
    "lemmatizer = WordNetLemmatizer()\n",
    "stop_words = set(stopwords.words('english'))"
   ]
  },
  {
   "cell_type": "code",
   "execution_count": 28,
   "id": "794685d3",
   "metadata": {},
   "outputs": [],
   "source": [
    "def preprocess_text(text):\n",
    "   \n",
    "    # Convert text to lowercase\n",
    "    text = text.lower()\n",
    "    \n",
    "    # Remove URLs\n",
    "    text = re.sub(r\"http\\S+|www\\S+|https\\S+\", '', text, flags=re.MULTILINE)\n",
    "    \n",
    "    # Remove user mentions and hashtags\n",
    "    text = re.sub(r'\\@\\w+|\\#','', text)\n",
    "    \n",
    "    # Remove punctuation\n",
    "    no_punctuation = [char for char in text if char not in string.punctuation]\n",
    "    text = ''.join(no_punctuation)\n",
    "    \n",
    "    # Remove stopwords and lemmatize\n",
    "    text = ' '.join([lemmatizer.lemmatize(word) for word in text.split() if word.lower() not in stop_words and len(word) > 2])\n",
    "    \n",
    "    return text"
   ]
  },
  {
   "cell_type": "code",
   "execution_count": 29,
   "id": "a4201850",
   "metadata": {},
   "outputs": [],
   "source": [
    "# Apply the 'preprocess_text' function to the 'text' column and store the result in a new column\n",
    "df['pp_text'] = df['text'].apply(preprocess_text)"
   ]
  },
  {
   "cell_type": "code",
   "execution_count": 30,
   "id": "34950d1b",
   "metadata": {},
   "outputs": [],
   "source": [
    "# Grouping tweets by date and counting the number of tweets on each date\n",
    "tweets_over_time = df.groupby('Date').size().reset_index()\n",
    "tweets_over_time.columns = ['Date', 'Tweet_Count']"
   ]
  },
  {
   "cell_type": "code",
   "execution_count": 31,
   "id": "8501c124",
   "metadata": {},
   "outputs": [
    {
     "data": {
      "image/png": "[encoded data removed]",
      "text/plain": [
       "<Figure size 1080x504 with 1 Axes>"
      ]
     },
     "metadata": {
      "needs_background": "light"
     },
     "output_type": "display_data"
    }
   ],
   "source": [
    "# Plotting the distribution of tweets over time\n",
    "fig, ax = plt.subplots(figsize=(15, 7))\n",
    "\n",
    "ax.plot(tweets_over_time['Date'], tweets_over_time['Tweet_Count'], marker='o', linestyle='-', label='Tweet Count')\n",
    "ax.set_title('Distribution of Tweets Over Time')\n",
    "ax.set_xlabel('Date')\n",
    "ax.set_ylabel('Number of Tweets')\n",
    "\n",
    "# Highlighting the start and end dates of the dataset\n",
    "start_date = tweets_over_time['Date'].iloc[0]\n",
    "end_date = tweets_over_time['Date'].iloc[-1]\n",
    "\n",
    "ax.annotate(f'Start: {start_date.strftime(\"%Y-%m-%d\")}', \n",
    "             xy=(start_date, tweets_over_time['Tweet_Count'].iloc[0]), \n",
    "             xytext=(start_date, tweets_over_time['Tweet_Count'].iloc[0] + 10000),\n",
    "             arrowprops=dict(facecolor='black', arrowstyle='->'),\n",
    "             horizontalalignment='left')\n",
    "\n",
    "ax.annotate(f'End: {end_date.strftime(\"%Y-%m-%d\")}', \n",
    "             xy=(end_date, tweets_over_time['Tweet_Count'].iloc[-1]), \n",
    "             xytext=(end_date, tweets_over_time['Tweet_Count'].iloc[-1] - 10000),\n",
    "             arrowprops=dict(facecolor='black', arrowstyle='->'),\n",
    "             horizontalalignment='right')\n",
    "\n",
    "# Adjusting grid, legend, and layout\n",
    "ax.grid(True)\n",
    "ax.legend()\n",
    "plt.tight_layout()\n",
    "plt.show()"
   ]
  },
  {
   "cell_type": "markdown",
   "id": "dee70b40",
   "metadata": {},
   "source": [
    "We can notice that there are day without data"
   ]
  },
  {
   "cell_type": "markdown",
   "id": "b380edac",
   "metadata": {},
   "source": [
    "## Based on the updated graph \"Distribution of Tweets Over Time,\" I have derived several observations:\n",
    "\n",
    "- **Time Span:** The data spans from April 6, 2009, to June 25, 2009, covering almost three months.\n",
    "\n",
    "- **Variability:** The number of tweets fluctuates significantly throughout the period, indicating an inconsistency in tweet volume over time.\n",
    "\n",
    "- **Initial Low Volume:** At the beginning of the period, around April 6, 2009, there's a noticeable low volume of tweets.\n",
    "\n",
    "- **Significant Peaks:**\n",
    "    - A prominent peak occurs around mid-May, showcasing a substantial increase in tweet volume.\n",
    "    - The highest peak is observed in early June, with the tweet count nearing 100,000.\n",
    "\n",
    "- **Declining Trend Towards the End:** Post the peak in June, there's a sharp decrease in the number of tweets. By the end of the dataset's time range on June 25, 2009, the volume has significantly diminished.\n",
    "\n",
    "- **Final Rise:** Just before the dataset concludes, there's a minor surge in the number of tweets, possibly indicating a renewed interest or activity in the topic."
   ]
  },
  {
   "cell_type": "markdown",
   "id": "379944e7",
   "metadata": {},
   "source": [
    "# Identifying Trends Post-Text Preprocessing\n",
    "\n",
    "After preprocessing the text data, I want to inspect the dataset for duplicates to identify if the observed peaks in tweet distribution are related to trends."
   ]
  },
  {
   "cell_type": "code",
   "execution_count": 34,
   "id": "8c7ecd53",
   "metadata": {},
   "outputs": [
    {
     "data": {
      "text/html": [
       "<div>\n",
       "<style scoped>\n",
       "    .dataframe tbody tr th:only-of-type {\n",
       "        vertical-align: middle;\n",
       "    }\n",
       "\n",
       "    .dataframe tbody tr th {\n",
       "        vertical-align: top;\n",
       "    }\n",
       "\n",
       "    .dataframe thead th {\n",
       "        text-align: right;\n",
       "    }\n",
       "</style>\n",
       "<table border=\"1\" class=\"dataframe\">\n",
       "  <thead>\n",
       "    <tr style=\"text-align: right;\">\n",
       "      <th></th>\n",
       "      <th>Date</th>\n",
       "      <th>user</th>\n",
       "      <th>text</th>\n",
       "      <th>Hashtags</th>\n",
       "      <th>Mentions</th>\n",
       "      <th>pp_text</th>\n",
       "    </tr>\n",
       "  </thead>\n",
       "  <tbody>\n",
       "    <tr>\n",
       "      <th>0</th>\n",
       "      <td>2009-04-06</td>\n",
       "      <td>_TheSpecialOne_</td>\n",
       "      <td>@switchfoot http://twitpic.com/2y1zl - Awww, t...</td>\n",
       "      <td>[]</td>\n",
       "      <td>[switchfoot]</td>\n",
       "      <td>thats bummer shoulda got david carr third day</td>\n",
       "    </tr>\n",
       "    <tr>\n",
       "      <th>1</th>\n",
       "      <td>2009-04-06</td>\n",
       "      <td>scotthamilton</td>\n",
       "      <td>is upset that he can't update his Facebook by ...</td>\n",
       "      <td>[]</td>\n",
       "      <td>[]</td>\n",
       "      <td>upset cant update facebook texting might cry r...</td>\n",
       "    </tr>\n",
       "    <tr>\n",
       "      <th>2</th>\n",
       "      <td>2009-04-06</td>\n",
       "      <td>mattycus</td>\n",
       "      <td>@Kenichan I dived many times for the ball. Man...</td>\n",
       "      <td>[]</td>\n",
       "      <td>[Kenichan]</td>\n",
       "      <td>dived many time ball managed save rest bound</td>\n",
       "    </tr>\n",
       "    <tr>\n",
       "      <th>3</th>\n",
       "      <td>2009-04-06</td>\n",
       "      <td>ElleCTF</td>\n",
       "      <td>my whole body feels itchy and like its on fire</td>\n",
       "      <td>[]</td>\n",
       "      <td>[]</td>\n",
       "      <td>whole body feel itchy like fire</td>\n",
       "    </tr>\n",
       "    <tr>\n",
       "      <th>4</th>\n",
       "      <td>2009-04-06</td>\n",
       "      <td>Karoli</td>\n",
       "      <td>@nationwideclass no, it's not behaving at all....</td>\n",
       "      <td>[]</td>\n",
       "      <td>[nationwideclass]</td>\n",
       "      <td>behaving mad cant see</td>\n",
       "    </tr>\n",
       "  </tbody>\n",
       "</table>\n",
       "</div>"
      ],
      "text/plain": [
       "        Date             user  \\\n",
       "0 2009-04-06  _TheSpecialOne_   \n",
       "1 2009-04-06    scotthamilton   \n",
       "2 2009-04-06         mattycus   \n",
       "3 2009-04-06          ElleCTF   \n",
       "4 2009-04-06           Karoli   \n",
       "\n",
       "                                                text Hashtags  \\\n",
       "0  @switchfoot http://twitpic.com/2y1zl - Awww, t...       []   \n",
       "1  is upset that he can't update his Facebook by ...       []   \n",
       "2  @Kenichan I dived many times for the ball. Man...       []   \n",
       "3    my whole body feels itchy and like its on fire        []   \n",
       "4  @nationwideclass no, it's not behaving at all....       []   \n",
       "\n",
       "            Mentions                                            pp_text  \n",
       "0       [switchfoot]      thats bummer shoulda got david carr third day  \n",
       "1                 []  upset cant update facebook texting might cry r...  \n",
       "2         [Kenichan]       dived many time ball managed save rest bound  \n",
       "3                 []                    whole body feel itchy like fire  \n",
       "4  [nationwideclass]                              behaving mad cant see  "
      ]
     },
     "execution_count": 34,
     "metadata": {},
     "output_type": "execute_result"
    }
   ],
   "source": [
    "df.head()"
   ]
  },
  {
   "cell_type": "code",
   "execution_count": 37,
   "id": "60fb4a30",
   "metadata": {
    "scrolled": true
   },
   "outputs": [
    {
     "name": "stdout",
     "output_type": "stream",
     "text": [
      "Date           0\n",
      "user           0\n",
      "text           0\n",
      "Hashtags       0\n",
      "Mentions       0\n",
      "pp_text     8707\n",
      "dtype: int64\n"
     ]
    }
   ],
   "source": [
    "import numpy as np\n",
    "# Replace empty strings with NaN\n",
    "df.replace('', np.nan, inplace=True)\n",
    "\n",
    "# Check for missing values\n",
    "missing_values = df.isnull().sum()\n",
    "print(missing_values)"
   ]
  },
  {
   "cell_type": "code",
   "execution_count": 39,
   "id": "5f42bf87",
   "metadata": {},
   "outputs": [],
   "source": [
    "# Drop rows with NaN values in pp_text column\n",
    "df.dropna(subset=['pp_text'], inplace=True)"
   ]
  },
  {
   "cell_type": "code",
   "execution_count": 40,
   "id": "13705d19",
   "metadata": {},
   "outputs": [
    {
     "name": "stdout",
     "output_type": "stream",
     "text": [
      "Date        0\n",
      "user        0\n",
      "text        0\n",
      "Hashtags    0\n",
      "Mentions    0\n",
      "pp_text     0\n",
      "dtype: int64\n"
     ]
    }
   ],
   "source": [
    "# Check for missing values\n",
    "missing_values = df.isnull().sum()\n",
    "print(missing_values)"
   ]
  },
  {
   "cell_type": "code",
   "execution_count": 38,
   "id": "2a223140",
   "metadata": {
    "scrolled": true
   },
   "outputs": [
    {
     "data": {
      "text/plain": [
       "thanks                                                   2775\n",
       "thank                                                    1823\n",
       "get 100 follower day using add everyone train pay vip    1484\n",
       "good morning                                             1177\n",
       "miss                                                     1000\n",
       "work                                                      894\n",
       "love                                                      740\n",
       "know                                                      660\n",
       "yes                                                       621\n",
       "headache                                                  565\n",
       "Name: pp_text, dtype: int64"
      ]
     },
     "execution_count": 38,
     "metadata": {},
     "output_type": "execute_result"
    }
   ],
   "source": [
    "# Find the distribution of tweets after text preprocessing\n",
    "tweet_distribution = df[\"pp_text\"].value_counts()\n",
    "tweet_distribution.head(10)"
   ]
  },
  {
   "cell_type": "markdown",
   "id": "d6c887ed",
   "metadata": {},
   "source": [
    "## Analysis of Top Duplicates\n",
    "After inspecting the dataset for duplicates post-text preprocessing, I observed that:\n",
    "\n",
    "- **Nature of duplicates:** There are some common phrases, while others are exact duplicates of tweets. The latter may indicate spam or automated tweets.\n",
    "\n",
    "- **Sentiment ambiguity:** Common phrases like \"miss,\" \"work,\" and \"know\" are sentiment-ambiguous. Without additional context, it's challenging to ascertain their sentiment, making them less informative for sentiment analysis.\n",
    "\n",
    "- **Impact on results:** The dataset is large, so removing a few thousand duplicates may not significantly impact the overall results."
   ]
  },
  {
   "cell_type": "code",
   "execution_count": 41,
   "id": "5d1779c5",
   "metadata": {},
   "outputs": [],
   "source": [
    "# Filter DataFrame by specific tweet\n",
    "filtered_df = df.loc[df['pp_text'] == 'get 100 follower day using add everyone train pay vip']"
   ]
  },
  {
   "cell_type": "code",
   "execution_count": 43,
   "id": "91c69944",
   "metadata": {},
   "outputs": [
    {
     "data": {
      "text/plain": [
       "array(['tweeteradder1', 'tweeteradder2', 'tweeteradder3', 'tweeteradder6',\n",
       "       'tweeteradder7', 'tweeteradder8', 'tweeteradder9', 'tweeteradder4',\n",
       "       'tweeteradder5', 'tweeteradder10', 'tweeteradder11',\n",
       "       'tweeteradder12', 'tweeteradder13', 'tweeteradder14',\n",
       "       'tweeteradder15', 'tweeteradder16', 'tweeteradder17',\n",
       "       'tweeteradder18', 'tweeteradder20', 'tweeteradder31',\n",
       "       'tweetfollow3', 'tweetfollow4', 'tweetfollow6', 'tweetfollow7'],\n",
       "      dtype=object)"
      ]
     },
     "execution_count": 43,
     "metadata": {},
     "output_type": "execute_result"
    }
   ],
   "source": [
    "# Get unique usernames for filtered DataFrame\n",
    "unique_usernames = filtered_df['user'].unique()\n",
    "unique_usernames"
   ]
  },
  {
   "cell_type": "code",
   "execution_count": 45,
   "id": "ad5ac223",
   "metadata": {},
   "outputs": [
    {
     "data": {
      "text/html": [
       "<div>\n",
       "<style scoped>\n",
       "    .dataframe tbody tr th:only-of-type {\n",
       "        vertical-align: middle;\n",
       "    }\n",
       "\n",
       "    .dataframe tbody tr th {\n",
       "        vertical-align: top;\n",
       "    }\n",
       "\n",
       "    .dataframe thead th {\n",
       "        text-align: right;\n",
       "    }\n",
       "</style>\n",
       "<table border=\"1\" class=\"dataframe\">\n",
       "  <thead>\n",
       "    <tr style=\"text-align: right;\">\n",
       "      <th></th>\n",
       "      <th>Date</th>\n",
       "      <th>user</th>\n",
       "      <th>text</th>\n",
       "      <th>Hashtags</th>\n",
       "      <th>Mentions</th>\n",
       "      <th>pp_text</th>\n",
       "    </tr>\n",
       "  </thead>\n",
       "  <tbody>\n",
       "    <tr>\n",
       "      <th>1374654</th>\n",
       "      <td>2009-06-05</td>\n",
       "      <td>tweeteradder1</td>\n",
       "      <td>@feiyie Get 100 followers a day using www.twee...</td>\n",
       "      <td>[]</td>\n",
       "      <td>[feiyie]</td>\n",
       "      <td>get 100 follower day using add everyone train ...</td>\n",
       "    </tr>\n",
       "    <tr>\n",
       "      <th>1374667</th>\n",
       "      <td>2009-06-05</td>\n",
       "      <td>tweeteradder1</td>\n",
       "      <td>@karl09 Get 100 followers a day using www.twee...</td>\n",
       "      <td>[]</td>\n",
       "      <td>[karl09]</td>\n",
       "      <td>get 100 follower day using add everyone train ...</td>\n",
       "    </tr>\n",
       "    <tr>\n",
       "      <th>1374673</th>\n",
       "      <td>2009-06-05</td>\n",
       "      <td>tweeteradder1</td>\n",
       "      <td>@bflint Get 100 followers a day using www.twee...</td>\n",
       "      <td>[]</td>\n",
       "      <td>[bflint]</td>\n",
       "      <td>get 100 follower day using add everyone train ...</td>\n",
       "    </tr>\n",
       "    <tr>\n",
       "      <th>1374680</th>\n",
       "      <td>2009-06-05</td>\n",
       "      <td>tweeteradder1</td>\n",
       "      <td>@natallon Get 100 followers a day using www.tw...</td>\n",
       "      <td>[]</td>\n",
       "      <td>[natallon]</td>\n",
       "      <td>get 100 follower day using add everyone train ...</td>\n",
       "    </tr>\n",
       "    <tr>\n",
       "      <th>1374691</th>\n",
       "      <td>2009-06-05</td>\n",
       "      <td>tweeteradder1</td>\n",
       "      <td>@blakmanpromo Get 100 followers a day using ww...</td>\n",
       "      <td>[]</td>\n",
       "      <td>[blakmanpromo]</td>\n",
       "      <td>get 100 follower day using add everyone train ...</td>\n",
       "    </tr>\n",
       "    <tr>\n",
       "      <th>...</th>\n",
       "      <td>...</td>\n",
       "      <td>...</td>\n",
       "      <td>...</td>\n",
       "      <td>...</td>\n",
       "      <td>...</td>\n",
       "      <td>...</td>\n",
       "    </tr>\n",
       "    <tr>\n",
       "      <th>1569619</th>\n",
       "      <td>2009-06-15</td>\n",
       "      <td>tweetfollow7</td>\n",
       "      <td>@helldognj Get 100 followers a day using www.t...</td>\n",
       "      <td>[]</td>\n",
       "      <td>[helldognj]</td>\n",
       "      <td>get 100 follower day using add everyone train ...</td>\n",
       "    </tr>\n",
       "    <tr>\n",
       "      <th>1569629</th>\n",
       "      <td>2009-06-15</td>\n",
       "      <td>tweetfollow7</td>\n",
       "      <td>@ceciandlace82 Get 100 followers a day using w...</td>\n",
       "      <td>[]</td>\n",
       "      <td>[ceciandlace82]</td>\n",
       "      <td>get 100 follower day using add everyone train ...</td>\n",
       "    </tr>\n",
       "    <tr>\n",
       "      <th>1569637</th>\n",
       "      <td>2009-06-15</td>\n",
       "      <td>tweetfollow7</td>\n",
       "      <td>@richj4you Get 100 followers a day using www.t...</td>\n",
       "      <td>[]</td>\n",
       "      <td>[richj4you]</td>\n",
       "      <td>get 100 follower day using add everyone train ...</td>\n",
       "    </tr>\n",
       "    <tr>\n",
       "      <th>1569645</th>\n",
       "      <td>2009-06-15</td>\n",
       "      <td>tweetfollow7</td>\n",
       "      <td>@offcialxmshae Get 100 followers a day using w...</td>\n",
       "      <td>[]</td>\n",
       "      <td>[offcialxmshae]</td>\n",
       "      <td>get 100 follower day using add everyone train ...</td>\n",
       "    </tr>\n",
       "    <tr>\n",
       "      <th>1569652</th>\n",
       "      <td>2009-06-15</td>\n",
       "      <td>tweetfollow7</td>\n",
       "      <td>@lexx4410 Get 100 followers a day using www.tw...</td>\n",
       "      <td>[]</td>\n",
       "      <td>[lexx4410]</td>\n",
       "      <td>get 100 follower day using add everyone train ...</td>\n",
       "    </tr>\n",
       "  </tbody>\n",
       "</table>\n",
       "<p>1484 rows × 6 columns</p>\n",
       "</div>"
      ],
      "text/plain": [
       "              Date           user  \\\n",
       "1374654 2009-06-05  tweeteradder1   \n",
       "1374667 2009-06-05  tweeteradder1   \n",
       "1374673 2009-06-05  tweeteradder1   \n",
       "1374680 2009-06-05  tweeteradder1   \n",
       "1374691 2009-06-05  tweeteradder1   \n",
       "...            ...            ...   \n",
       "1569619 2009-06-15   tweetfollow7   \n",
       "1569629 2009-06-15   tweetfollow7   \n",
       "1569637 2009-06-15   tweetfollow7   \n",
       "1569645 2009-06-15   tweetfollow7   \n",
       "1569652 2009-06-15   tweetfollow7   \n",
       "\n",
       "                                                      text Hashtags  \\\n",
       "1374654  @feiyie Get 100 followers a day using www.twee...       []   \n",
       "1374667  @karl09 Get 100 followers a day using www.twee...       []   \n",
       "1374673  @bflint Get 100 followers a day using www.twee...       []   \n",
       "1374680  @natallon Get 100 followers a day using www.tw...       []   \n",
       "1374691  @blakmanpromo Get 100 followers a day using ww...       []   \n",
       "...                                                    ...      ...   \n",
       "1569619  @helldognj Get 100 followers a day using www.t...       []   \n",
       "1569629  @ceciandlace82 Get 100 followers a day using w...       []   \n",
       "1569637  @richj4you Get 100 followers a day using www.t...       []   \n",
       "1569645  @offcialxmshae Get 100 followers a day using w...       []   \n",
       "1569652  @lexx4410 Get 100 followers a day using www.tw...       []   \n",
       "\n",
       "                Mentions                                            pp_text  \n",
       "1374654         [feiyie]  get 100 follower day using add everyone train ...  \n",
       "1374667         [karl09]  get 100 follower day using add everyone train ...  \n",
       "1374673         [bflint]  get 100 follower day using add everyone train ...  \n",
       "1374680       [natallon]  get 100 follower day using add everyone train ...  \n",
       "1374691   [blakmanpromo]  get 100 follower day using add everyone train ...  \n",
       "...                  ...                                                ...  \n",
       "1569619      [helldognj]  get 100 follower day using add everyone train ...  \n",
       "1569629  [ceciandlace82]  get 100 follower day using add everyone train ...  \n",
       "1569637      [richj4you]  get 100 follower day using add everyone train ...  \n",
       "1569645  [offcialxmshae]  get 100 follower day using add everyone train ...  \n",
       "1569652       [lexx4410]  get 100 follower day using add everyone train ...  \n",
       "\n",
       "[1484 rows x 6 columns]"
      ]
     },
     "execution_count": 45,
     "metadata": {},
     "output_type": "execute_result"
    }
   ],
   "source": [
    "# Filter DataFrame by spam usernames\n",
    "spam_df = df[df['user'].isin(unique_usernames)]\n",
    "spam_df"
   ]
  },
  {
   "cell_type": "markdown",
   "id": "87100c4f",
   "metadata": {},
   "source": [
    "I will proceed to remove spam tweets to reduce potential biases, although this may not significantly affect the results."
   ]
  },
  {
   "cell_type": "code",
   "execution_count": 47,
   "id": "70bb4cfa",
   "metadata": {},
   "outputs": [],
   "source": [
    "# Drop rows containing spam phrases\n",
    "df = df[df['pp_text'] != \"get 100 follower day using add everyone train pay vip\"]\n",
    "\n",
    "# Reset the index post-dropping rows\n",
    "df.reset_index(drop=True, inplace=True)"
   ]
  },
  {
   "cell_type": "code",
   "execution_count": 48,
   "id": "0d0c9f7d",
   "metadata": {},
   "outputs": [
    {
     "name": "stdout",
     "output_type": "stream",
     "text": [
      "Top 10 Hashtags:\n",
      "followfriday    2112\n",
      "fb              1743\n",
      "squarespace      887\n",
      "FF               572\n",
      "1                519\n",
      "seb              499\n",
      "FollowFriday     463\n",
      "musicmonday      404\n",
      "ff               395\n",
      "iranelection     359\n",
      "Name: Hashtags, dtype: int64\n",
      "Top 10 Mentions:\n",
      "mileycyrus         4458\n",
      "tommcfly           3854\n",
      "ddlovato           3457\n",
      "DavidArchie        1295\n",
      "Jonasbrothers      1280\n",
      "jordanknight       1126\n",
      "DonnieWahlberg     1103\n",
      "mitchelmusso       1066\n",
      "JonathanRKnight    1060\n",
      "taylorswift13      1008\n",
      "Name: Mentions, dtype: int64\n"
     ]
    }
   ],
   "source": [
    "# Explode Hashtags column and get top 10 hashtags\n",
    "top_hashtags = df['Hashtags'].explode().value_counts().head(10)\n",
    "print('Top 10 Hashtags:')\n",
    "print(top_hashtags)\n",
    "\n",
    "# Explode Mentions column and get top 10 mentions\n",
    "top_mentions = df['Mentions'].explode().value_counts().head(10)\n",
    "print('Top 10 Mentions:')\n",
    "print(top_mentions)"
   ]
  },
  {
   "cell_type": "code",
   "execution_count": 53,
   "id": "897f375f",
   "metadata": {},
   "outputs": [
    {
     "data": {
      "text/html": [
       "<div>\n",
       "<style scoped>\n",
       "    .dataframe tbody tr th:only-of-type {\n",
       "        vertical-align: middle;\n",
       "    }\n",
       "\n",
       "    .dataframe tbody tr th {\n",
       "        vertical-align: top;\n",
       "    }\n",
       "\n",
       "    .dataframe thead th {\n",
       "        text-align: right;\n",
       "    }\n",
       "</style>\n",
       "<table border=\"1\" class=\"dataframe\">\n",
       "  <thead>\n",
       "    <tr style=\"text-align: right;\">\n",
       "      <th></th>\n",
       "      <th>Date</th>\n",
       "      <th>user</th>\n",
       "      <th>text</th>\n",
       "      <th>Hashtags</th>\n",
       "      <th>Mentions</th>\n",
       "      <th>pp_text</th>\n",
       "    </tr>\n",
       "  </thead>\n",
       "  <tbody>\n",
       "    <tr>\n",
       "      <th>10054</th>\n",
       "      <td>2009-04-18</td>\n",
       "      <td>jessc098</td>\n",
       "      <td>So many new followers from #followfriday! Welc...</td>\n",
       "      <td>followfriday</td>\n",
       "      <td>[]</td>\n",
       "      <td>many new follower followfriday welcome everyon...</td>\n",
       "    </tr>\n",
       "    <tr>\n",
       "      <th>43136</th>\n",
       "      <td>2009-05-01</td>\n",
       "      <td>eadnams</td>\n",
       "      <td>@dirklancer I dont normally partake in #follow...</td>\n",
       "      <td>followfriday</td>\n",
       "      <td>[dirklancer]</td>\n",
       "      <td>dont normally partake followfriday follower</td>\n",
       "    </tr>\n",
       "    <tr>\n",
       "      <th>45636</th>\n",
       "      <td>2009-05-02</td>\n",
       "      <td>NixyValentine</td>\n",
       "      <td>Thank you @dpbkmb and @inkgypsy for the #follo...</td>\n",
       "      <td>followfriday</td>\n",
       "      <td>[dpbkmb, inkgypsy]</td>\n",
       "      <td>thank followfriday wasnt day didnt get make list</td>\n",
       "    </tr>\n",
       "    <tr>\n",
       "      <th>47553</th>\n",
       "      <td>2009-05-02</td>\n",
       "      <td>kovshenin</td>\n",
       "      <td>@webdesign_news @MATT_369 @baires @doktorbuzzo...</td>\n",
       "      <td>followfriday</td>\n",
       "      <td>[webdesign_news, MATT_369, baires, doktorbuzzo...</td>\n",
       "      <td>thx followfriday bad missed</td>\n",
       "    </tr>\n",
       "    <tr>\n",
       "      <th>52830</th>\n",
       "      <td>2009-05-02</td>\n",
       "      <td>TimmyPlanetM</td>\n",
       "      <td>@Barron00 @grouchypuppy @hanseebundee Thank yo...</td>\n",
       "      <td>followfriday</td>\n",
       "      <td>[Barron00, grouchypuppy, hanseebundee]</td>\n",
       "      <td>thank followfriday good friend mom didnt let c...</td>\n",
       "    </tr>\n",
       "    <tr>\n",
       "      <th>...</th>\n",
       "      <td>...</td>\n",
       "      <td>...</td>\n",
       "      <td>...</td>\n",
       "      <td>...</td>\n",
       "      <td>...</td>\n",
       "      <td>...</td>\n",
       "    </tr>\n",
       "    <tr>\n",
       "      <th>1553630</th>\n",
       "      <td>2009-06-15</td>\n",
       "      <td>PaulTTran</td>\n",
       "      <td>@katiebcosmetics Hehe, don't worry about it. I...</td>\n",
       "      <td>followfriday</td>\n",
       "      <td>[katiebcosmetics]</td>\n",
       "      <td>hehe dont worry still owe followfriday amp des...</td>\n",
       "    </tr>\n",
       "    <tr>\n",
       "      <th>1559998</th>\n",
       "      <td>2009-06-15</td>\n",
       "      <td>laramarco</td>\n",
       "      <td>@NaturesDecor you are welcome  #FF</td>\n",
       "      <td>FF</td>\n",
       "      <td>[NaturesDecor]</td>\n",
       "      <td>welcome</td>\n",
       "    </tr>\n",
       "    <tr>\n",
       "      <th>1579786</th>\n",
       "      <td>2009-06-16</td>\n",
       "      <td>PRNicoleV</td>\n",
       "      <td>@mikeschaffer @PressControls @GeoffHampton @Te...</td>\n",
       "      <td>followfriday</td>\n",
       "      <td>[mikeschaffer, PressControls, GeoffHampton, Te...</td>\n",
       "      <td>thanks followfridays last week</td>\n",
       "    </tr>\n",
       "    <tr>\n",
       "      <th>1581778</th>\n",
       "      <td>2009-06-16</td>\n",
       "      <td>WRPaintball</td>\n",
       "      <td>@pbgossip thanks for the #followfriday  ...bee...</td>\n",
       "      <td>followfriday</td>\n",
       "      <td>[pbgossip]</td>\n",
       "      <td>thanks followfriday bit busy past day</td>\n",
       "    </tr>\n",
       "    <tr>\n",
       "      <th>1585753</th>\n",
       "      <td>2009-06-16</td>\n",
       "      <td>TheFringeThing</td>\n",
       "      <td>A very belated apology is in order to all my f...</td>\n",
       "      <td>followfriday</td>\n",
       "      <td>[]</td>\n",
       "      <td>belated apology order fine twitter friend foll...</td>\n",
       "    </tr>\n",
       "  </tbody>\n",
       "</table>\n",
       "<p>3542 rows × 6 columns</p>\n",
       "</div>"
      ],
      "text/plain": [
       "              Date            user  \\\n",
       "10054   2009-04-18        jessc098   \n",
       "43136   2009-05-01         eadnams   \n",
       "45636   2009-05-02   NixyValentine   \n",
       "47553   2009-05-02       kovshenin   \n",
       "52830   2009-05-02    TimmyPlanetM   \n",
       "...            ...             ...   \n",
       "1553630 2009-06-15       PaulTTran   \n",
       "1559998 2009-06-15       laramarco   \n",
       "1579786 2009-06-16       PRNicoleV   \n",
       "1581778 2009-06-16     WRPaintball   \n",
       "1585753 2009-06-16  TheFringeThing   \n",
       "\n",
       "                                                      text      Hashtags  \\\n",
       "10054    So many new followers from #followfriday! Welc...  followfriday   \n",
       "43136    @dirklancer I dont normally partake in #follow...  followfriday   \n",
       "45636    Thank you @dpbkmb and @inkgypsy for the #follo...  followfriday   \n",
       "47553    @webdesign_news @MATT_369 @baires @doktorbuzzo...  followfriday   \n",
       "52830    @Barron00 @grouchypuppy @hanseebundee Thank yo...  followfriday   \n",
       "...                                                    ...           ...   \n",
       "1553630  @katiebcosmetics Hehe, don't worry about it. I...  followfriday   \n",
       "1559998                 @NaturesDecor you are welcome  #FF            FF   \n",
       "1579786  @mikeschaffer @PressControls @GeoffHampton @Te...  followfriday   \n",
       "1581778  @pbgossip thanks for the #followfriday  ...bee...  followfriday   \n",
       "1585753  A very belated apology is in order to all my f...  followfriday   \n",
       "\n",
       "                                                  Mentions  \\\n",
       "10054                                                   []   \n",
       "43136                                         [dirklancer]   \n",
       "45636                                   [dpbkmb, inkgypsy]   \n",
       "47553    [webdesign_news, MATT_369, baires, doktorbuzzo...   \n",
       "52830               [Barron00, grouchypuppy, hanseebundee]   \n",
       "...                                                    ...   \n",
       "1553630                                  [katiebcosmetics]   \n",
       "1559998                                     [NaturesDecor]   \n",
       "1579786  [mikeschaffer, PressControls, GeoffHampton, Te...   \n",
       "1581778                                         [pbgossip]   \n",
       "1585753                                                 []   \n",
       "\n",
       "                                                   pp_text  \n",
       "10054    many new follower followfriday welcome everyon...  \n",
       "43136          dont normally partake followfriday follower  \n",
       "45636     thank followfriday wasnt day didnt get make list  \n",
       "47553                          thx followfriday bad missed  \n",
       "52830    thank followfriday good friend mom didnt let c...  \n",
       "...                                                    ...  \n",
       "1553630  hehe dont worry still owe followfriday amp des...  \n",
       "1559998                                            welcome  \n",
       "1579786                     thanks followfridays last week  \n",
       "1581778              thanks followfriday bit busy past day  \n",
       "1585753  belated apology order fine twitter friend foll...  \n",
       "\n",
       "[3542 rows x 6 columns]"
      ]
     },
     "execution_count": 53,
     "metadata": {},
     "output_type": "execute_result"
    }
   ],
   "source": [
    "# List of hashtags to filter by\n",
    "hashtags = ['followfriday', 'FollowFriday', 'ff', 'FF']\n",
    "\n",
    "# Explode Hashtags column\n",
    "exploded_df = df.explode('Hashtags')\n",
    "\n",
    "# Filter DataFrame by rows that contain any of the hashtags\n",
    "filtered_df = exploded_df[exploded_df['Hashtags'].isin(hashtags)]\n",
    "filtered_df"
   ]
  },
  {
   "cell_type": "markdown",
   "id": "e87b7cfc",
   "metadata": {},
   "source": [
    "## Sentiment Analysis\n",
    "Sentiment analysis will help to comprehend the general emotional tone expressed in the tweets."
   ]
  },
  {
   "cell_type": "code",
   "execution_count": 54,
   "id": "405b96b1",
   "metadata": {},
   "outputs": [
    {
     "name": "stderr",
     "output_type": "stream",
     "text": [
      "C:\\Users\\rmora\\AppData\\Local\\Temp\\ipykernel_7068\\4093719164.py:19: SettingWithCopyWarning: \n",
      "A value is trying to be set on a copy of a slice from a DataFrame.\n",
      "Try using .loc[row_indexer,col_indexer] = value instead\n",
      "\n",
      "See the caveats in the documentation: https://pandas.pydata.org/pandas-docs/stable/user_guide/indexing.html#returning-a-view-versus-a-copy\n",
      "  df['sentiment_score'] = df['pp_text'].apply(get_sentiment_score)\n",
      "C:\\Users\\rmora\\AppData\\Local\\Temp\\ipykernel_7068\\4093719164.py:20: SettingWithCopyWarning: \n",
      "A value is trying to be set on a copy of a slice from a DataFrame.\n",
      "Try using .loc[row_indexer,col_indexer] = value instead\n",
      "\n",
      "See the caveats in the documentation: https://pandas.pydata.org/pandas-docs/stable/user_guide/indexing.html#returning-a-view-versus-a-copy\n",
      "  df['sentiment_category'] = df['sentiment_score'].apply(get_sentiment_category)\n"
     ]
    },
    {
     "data": {
      "text/html": [
       "<div>\n",
       "<style scoped>\n",
       "    .dataframe tbody tr th:only-of-type {\n",
       "        vertical-align: middle;\n",
       "    }\n",
       "\n",
       "    .dataframe tbody tr th {\n",
       "        vertical-align: top;\n",
       "    }\n",
       "\n",
       "    .dataframe thead th {\n",
       "        text-align: right;\n",
       "    }\n",
       "</style>\n",
       "<table border=\"1\" class=\"dataframe\">\n",
       "  <thead>\n",
       "    <tr style=\"text-align: right;\">\n",
       "      <th></th>\n",
       "      <th>Date</th>\n",
       "      <th>user</th>\n",
       "      <th>text</th>\n",
       "      <th>Hashtags</th>\n",
       "      <th>Mentions</th>\n",
       "      <th>pp_text</th>\n",
       "      <th>sentiment_score</th>\n",
       "      <th>sentiment_category</th>\n",
       "    </tr>\n",
       "  </thead>\n",
       "  <tbody>\n",
       "    <tr>\n",
       "      <th>0</th>\n",
       "      <td>2009-04-06</td>\n",
       "      <td>_TheSpecialOne_</td>\n",
       "      <td>@switchfoot http://twitpic.com/2y1zl - Awww, t...</td>\n",
       "      <td>[]</td>\n",
       "      <td>[switchfoot]</td>\n",
       "      <td>thats bummer shoulda got david carr third day</td>\n",
       "      <td>0.000</td>\n",
       "      <td>neutral</td>\n",
       "    </tr>\n",
       "    <tr>\n",
       "      <th>1</th>\n",
       "      <td>2009-04-06</td>\n",
       "      <td>scotthamilton</td>\n",
       "      <td>is upset that he can't update his Facebook by ...</td>\n",
       "      <td>[]</td>\n",
       "      <td>[]</td>\n",
       "      <td>upset cant update facebook texting might cry r...</td>\n",
       "      <td>0.000</td>\n",
       "      <td>neutral</td>\n",
       "    </tr>\n",
       "    <tr>\n",
       "      <th>2</th>\n",
       "      <td>2009-04-06</td>\n",
       "      <td>mattycus</td>\n",
       "      <td>@Kenichan I dived many times for the ball. Man...</td>\n",
       "      <td>[]</td>\n",
       "      <td>[Kenichan]</td>\n",
       "      <td>dived many time ball managed save rest bound</td>\n",
       "      <td>0.500</td>\n",
       "      <td>positive</td>\n",
       "    </tr>\n",
       "    <tr>\n",
       "      <th>3</th>\n",
       "      <td>2009-04-06</td>\n",
       "      <td>ElleCTF</td>\n",
       "      <td>my whole body feels itchy and like its on fire</td>\n",
       "      <td>[]</td>\n",
       "      <td>[]</td>\n",
       "      <td>whole body feel itchy like fire</td>\n",
       "      <td>0.200</td>\n",
       "      <td>positive</td>\n",
       "    </tr>\n",
       "    <tr>\n",
       "      <th>4</th>\n",
       "      <td>2009-04-06</td>\n",
       "      <td>Karoli</td>\n",
       "      <td>@nationwideclass no, it's not behaving at all....</td>\n",
       "      <td>[]</td>\n",
       "      <td>[nationwideclass]</td>\n",
       "      <td>behaving mad cant see</td>\n",
       "      <td>-0.625</td>\n",
       "      <td>negative</td>\n",
       "    </tr>\n",
       "  </tbody>\n",
       "</table>\n",
       "</div>"
      ],
      "text/plain": [
       "        Date             user  \\\n",
       "0 2009-04-06  _TheSpecialOne_   \n",
       "1 2009-04-06    scotthamilton   \n",
       "2 2009-04-06         mattycus   \n",
       "3 2009-04-06          ElleCTF   \n",
       "4 2009-04-06           Karoli   \n",
       "\n",
       "                                                text Hashtags  \\\n",
       "0  @switchfoot http://twitpic.com/2y1zl - Awww, t...       []   \n",
       "1  is upset that he can't update his Facebook by ...       []   \n",
       "2  @Kenichan I dived many times for the ball. Man...       []   \n",
       "3    my whole body feels itchy and like its on fire        []   \n",
       "4  @nationwideclass no, it's not behaving at all....       []   \n",
       "\n",
       "            Mentions                                            pp_text  \\\n",
       "0       [switchfoot]      thats bummer shoulda got david carr third day   \n",
       "1                 []  upset cant update facebook texting might cry r...   \n",
       "2         [Kenichan]       dived many time ball managed save rest bound   \n",
       "3                 []                    whole body feel itchy like fire   \n",
       "4  [nationwideclass]                              behaving mad cant see   \n",
       "\n",
       "   sentiment_score sentiment_category  \n",
       "0            0.000            neutral  \n",
       "1            0.000            neutral  \n",
       "2            0.500           positive  \n",
       "3            0.200           positive  \n",
       "4           -0.625           negative  "
      ]
     },
     "execution_count": 54,
     "metadata": {},
     "output_type": "execute_result"
    }
   ],
   "source": [
    "# Perform sentiment analysis\n",
    "from textblob import TextBlob\n",
    "\n",
    "# Define function to calculate sentiment score\n",
    "def get_sentiment_score(text):\n",
    "    analysis = TextBlob(text)\n",
    "    return analysis.sentiment.polarity\n",
    "\n",
    "# Define function to categorize sentiment based on score\n",
    "def get_sentiment_category(score):\n",
    "    if score > 0:\n",
    "        return 'positive'\n",
    "    elif score == 0:\n",
    "        return 'neutral'\n",
    "    else:\n",
    "        return 'negative'\n",
    "\n",
    "# Apply functions to create new columns\n",
    "df['sentiment_score'] = df['pp_text'].apply(get_sentiment_score)\n",
    "df['sentiment_category'] = df['sentiment_score'].apply(get_sentiment_category)\n",
    "\n",
    "df.head()"
   ]
  },
  {
   "cell_type": "code",
   "execution_count": 55,
   "id": "cf67bb2c",
   "metadata": {},
   "outputs": [
    {
     "data": {
      "text/html": [
       "<div>\n",
       "<style scoped>\n",
       "    .dataframe tbody tr th:only-of-type {\n",
       "        vertical-align: middle;\n",
       "    }\n",
       "\n",
       "    .dataframe tbody tr th {\n",
       "        vertical-align: top;\n",
       "    }\n",
       "\n",
       "    .dataframe thead th {\n",
       "        text-align: right;\n",
       "    }\n",
       "</style>\n",
       "<table border=\"1\" class=\"dataframe\">\n",
       "  <thead>\n",
       "    <tr style=\"text-align: right;\">\n",
       "      <th></th>\n",
       "      <th>Date</th>\n",
       "      <th>user</th>\n",
       "      <th>text</th>\n",
       "      <th>Hashtags</th>\n",
       "      <th>Mentions</th>\n",
       "      <th>pp_text</th>\n",
       "      <th>sentiment_score</th>\n",
       "      <th>sentiment_category</th>\n",
       "    </tr>\n",
       "  </thead>\n",
       "  <tbody>\n",
       "    <tr>\n",
       "      <th>10054</th>\n",
       "      <td>2009-04-18</td>\n",
       "      <td>jessc098</td>\n",
       "      <td>So many new followers from #followfriday! Welc...</td>\n",
       "      <td>followfriday</td>\n",
       "      <td>[]</td>\n",
       "      <td>many new follower followfriday welcome everyon...</td>\n",
       "      <td>0.296591</td>\n",
       "      <td>positive</td>\n",
       "    </tr>\n",
       "    <tr>\n",
       "      <th>43136</th>\n",
       "      <td>2009-05-01</td>\n",
       "      <td>eadnams</td>\n",
       "      <td>@dirklancer I dont normally partake in #follow...</td>\n",
       "      <td>followfriday</td>\n",
       "      <td>[dirklancer]</td>\n",
       "      <td>dont normally partake followfriday follower</td>\n",
       "      <td>0.150000</td>\n",
       "      <td>positive</td>\n",
       "    </tr>\n",
       "    <tr>\n",
       "      <th>45636</th>\n",
       "      <td>2009-05-02</td>\n",
       "      <td>NixyValentine</td>\n",
       "      <td>Thank you @dpbkmb and @inkgypsy for the #follo...</td>\n",
       "      <td>followfriday</td>\n",
       "      <td>[dpbkmb, inkgypsy]</td>\n",
       "      <td>thank followfriday wasnt day didnt get make list</td>\n",
       "      <td>0.000000</td>\n",
       "      <td>neutral</td>\n",
       "    </tr>\n",
       "    <tr>\n",
       "      <th>47553</th>\n",
       "      <td>2009-05-02</td>\n",
       "      <td>kovshenin</td>\n",
       "      <td>@webdesign_news @MATT_369 @baires @doktorbuzzo...</td>\n",
       "      <td>followfriday</td>\n",
       "      <td>[webdesign_news, MATT_369, baires, doktorbuzzo...</td>\n",
       "      <td>thx followfriday bad missed</td>\n",
       "      <td>-0.700000</td>\n",
       "      <td>negative</td>\n",
       "    </tr>\n",
       "    <tr>\n",
       "      <th>52830</th>\n",
       "      <td>2009-05-02</td>\n",
       "      <td>TimmyPlanetM</td>\n",
       "      <td>@Barron00 @grouchypuppy @hanseebundee Thank yo...</td>\n",
       "      <td>followfriday</td>\n",
       "      <td>[Barron00, grouchypuppy, hanseebundee]</td>\n",
       "      <td>thank followfriday good friend mom didnt let c...</td>\n",
       "      <td>0.700000</td>\n",
       "      <td>positive</td>\n",
       "    </tr>\n",
       "    <tr>\n",
       "      <th>...</th>\n",
       "      <td>...</td>\n",
       "      <td>...</td>\n",
       "      <td>...</td>\n",
       "      <td>...</td>\n",
       "      <td>...</td>\n",
       "      <td>...</td>\n",
       "      <td>...</td>\n",
       "      <td>...</td>\n",
       "    </tr>\n",
       "    <tr>\n",
       "      <th>1553630</th>\n",
       "      <td>2009-06-15</td>\n",
       "      <td>PaulTTran</td>\n",
       "      <td>@katiebcosmetics Hehe, don't worry about it. I...</td>\n",
       "      <td>followfriday</td>\n",
       "      <td>[katiebcosmetics]</td>\n",
       "      <td>hehe dont worry still owe followfriday amp des...</td>\n",
       "      <td>0.333333</td>\n",
       "      <td>positive</td>\n",
       "    </tr>\n",
       "    <tr>\n",
       "      <th>1559998</th>\n",
       "      <td>2009-06-15</td>\n",
       "      <td>laramarco</td>\n",
       "      <td>@NaturesDecor you are welcome  #FF</td>\n",
       "      <td>FF</td>\n",
       "      <td>[NaturesDecor]</td>\n",
       "      <td>welcome</td>\n",
       "      <td>0.800000</td>\n",
       "      <td>positive</td>\n",
       "    </tr>\n",
       "    <tr>\n",
       "      <th>1579786</th>\n",
       "      <td>2009-06-16</td>\n",
       "      <td>PRNicoleV</td>\n",
       "      <td>@mikeschaffer @PressControls @GeoffHampton @Te...</td>\n",
       "      <td>followfriday</td>\n",
       "      <td>[mikeschaffer, PressControls, GeoffHampton, Te...</td>\n",
       "      <td>thanks followfridays last week</td>\n",
       "      <td>0.100000</td>\n",
       "      <td>positive</td>\n",
       "    </tr>\n",
       "    <tr>\n",
       "      <th>1581778</th>\n",
       "      <td>2009-06-16</td>\n",
       "      <td>WRPaintball</td>\n",
       "      <td>@pbgossip thanks for the #followfriday  ...bee...</td>\n",
       "      <td>followfriday</td>\n",
       "      <td>[pbgossip]</td>\n",
       "      <td>thanks followfriday bit busy past day</td>\n",
       "      <td>0.016667</td>\n",
       "      <td>positive</td>\n",
       "    </tr>\n",
       "    <tr>\n",
       "      <th>1585753</th>\n",
       "      <td>2009-06-16</td>\n",
       "      <td>TheFringeThing</td>\n",
       "      <td>A very belated apology is in order to all my f...</td>\n",
       "      <td>followfriday</td>\n",
       "      <td>[]</td>\n",
       "      <td>belated apology order fine twitter friend foll...</td>\n",
       "      <td>0.416667</td>\n",
       "      <td>positive</td>\n",
       "    </tr>\n",
       "  </tbody>\n",
       "</table>\n",
       "<p>3542 rows × 8 columns</p>\n",
       "</div>"
      ],
      "text/plain": [
       "              Date            user  \\\n",
       "10054   2009-04-18        jessc098   \n",
       "43136   2009-05-01         eadnams   \n",
       "45636   2009-05-02   NixyValentine   \n",
       "47553   2009-05-02       kovshenin   \n",
       "52830   2009-05-02    TimmyPlanetM   \n",
       "...            ...             ...   \n",
       "1553630 2009-06-15       PaulTTran   \n",
       "1559998 2009-06-15       laramarco   \n",
       "1579786 2009-06-16       PRNicoleV   \n",
       "1581778 2009-06-16     WRPaintball   \n",
       "1585753 2009-06-16  TheFringeThing   \n",
       "\n",
       "                                                      text      Hashtags  \\\n",
       "10054    So many new followers from #followfriday! Welc...  followfriday   \n",
       "43136    @dirklancer I dont normally partake in #follow...  followfriday   \n",
       "45636    Thank you @dpbkmb and @inkgypsy for the #follo...  followfriday   \n",
       "47553    @webdesign_news @MATT_369 @baires @doktorbuzzo...  followfriday   \n",
       "52830    @Barron00 @grouchypuppy @hanseebundee Thank yo...  followfriday   \n",
       "...                                                    ...           ...   \n",
       "1553630  @katiebcosmetics Hehe, don't worry about it. I...  followfriday   \n",
       "1559998                 @NaturesDecor you are welcome  #FF            FF   \n",
       "1579786  @mikeschaffer @PressControls @GeoffHampton @Te...  followfriday   \n",
       "1581778  @pbgossip thanks for the #followfriday  ...bee...  followfriday   \n",
       "1585753  A very belated apology is in order to all my f...  followfriday   \n",
       "\n",
       "                                                  Mentions  \\\n",
       "10054                                                   []   \n",
       "43136                                         [dirklancer]   \n",
       "45636                                   [dpbkmb, inkgypsy]   \n",
       "47553    [webdesign_news, MATT_369, baires, doktorbuzzo...   \n",
       "52830               [Barron00, grouchypuppy, hanseebundee]   \n",
       "...                                                    ...   \n",
       "1553630                                  [katiebcosmetics]   \n",
       "1559998                                     [NaturesDecor]   \n",
       "1579786  [mikeschaffer, PressControls, GeoffHampton, Te...   \n",
       "1581778                                         [pbgossip]   \n",
       "1585753                                                 []   \n",
       "\n",
       "                                                   pp_text  sentiment_score  \\\n",
       "10054    many new follower followfriday welcome everyon...         0.296591   \n",
       "43136          dont normally partake followfriday follower         0.150000   \n",
       "45636     thank followfriday wasnt day didnt get make list         0.000000   \n",
       "47553                          thx followfriday bad missed        -0.700000   \n",
       "52830    thank followfriday good friend mom didnt let c...         0.700000   \n",
       "...                                                    ...              ...   \n",
       "1553630  hehe dont worry still owe followfriday amp des...         0.333333   \n",
       "1559998                                            welcome         0.800000   \n",
       "1579786                     thanks followfridays last week         0.100000   \n",
       "1581778              thanks followfriday bit busy past day         0.016667   \n",
       "1585753  belated apology order fine twitter friend foll...         0.416667   \n",
       "\n",
       "        sentiment_category  \n",
       "10054             positive  \n",
       "43136             positive  \n",
       "45636              neutral  \n",
       "47553             negative  \n",
       "52830             positive  \n",
       "...                    ...  \n",
       "1553630           positive  \n",
       "1559998           positive  \n",
       "1579786           positive  \n",
       "1581778           positive  \n",
       "1585753           positive  \n",
       "\n",
       "[3542 rows x 8 columns]"
      ]
     },
     "execution_count": 55,
     "metadata": {},
     "output_type": "execute_result"
    }
   ],
   "source": [
    "# Explode Hashtags column\n",
    "exploded_df = df.explode('Hashtags')\n",
    "\n",
    "# Filter DataFrame by rows that contain any of the hashtags\n",
    "filtered_df = exploded_df[exploded_df['Hashtags'].isin(hashtags)]\n",
    "filtered_df"
   ]
  },
  {
   "cell_type": "markdown",
   "id": "39814f6e",
   "metadata": {},
   "source": [
    "## Sentiment Distribution Analysis\n",
    "In this section, I will analyze the distribution of sentiments (positive, neutral, negative) across the tweets in the cleaned dataset."
   ]
  },
  {
   "cell_type": "code",
   "execution_count": 56,
   "id": "3015fa26",
   "metadata": {},
   "outputs": [
    {
     "data": {
      "image/png": "[encoded data removed]",
      "text/plain": [
       "<Figure size 576x432 with 1 Axes>"
      ]
     },
     "metadata": {
      "needs_background": "light"
     },
     "output_type": "display_data"
    }
   ],
   "source": [
    "# Calculate the sentiment distribution\n",
    "sentiment_counts = df['sentiment_category'].value_counts()\n",
    "\n",
    "# Plotting the sentiment distribution\n",
    "plt.figure(figsize=(8, 6))\n",
    "sentiment_counts.plot(kind='bar', color=['skyblue', 'salmon', 'lightgreen'])\n",
    "plt.title('Sentiment Distribution')\n",
    "plt.xlabel('Sentiment')\n",
    "plt.ylabel('Number of Tweets')\n",
    "plt.xticks(rotation=0)\n",
    "plt.show()"
   ]
  },
  {
   "cell_type": "markdown",
   "id": "2844c4bb",
   "metadata": {},
   "source": [
    "### Observations and Conclusion\n",
    "From the bar chart above, I can observe the following:\n",
    "\n",
    "1. **Positive Sentiment:** The majority of tweets in the dataset exhibit a positive sentiment. This indicates that, during the time frame of this dataset, the overall sentiment expressed by users was largely positive.\n",
    "\n",
    "2. **Neutral Sentiment:** The second most frequent category is neutral. This implies that a significant portion of tweets are informational or indifferent in nature, not expressing a strong positive or negative sentiment.\n",
    "\n",
    "3. **Negative Sentiment:** Although less frequent compared to positive and neutral sentiments, there is still a considerable number of tweets that are classified as negative.\n",
    "\n",
    "It is important to note that the prevalence of positive sentiments could potentially introduce a bias towards positive sentiments when I train the machine learning models using this dataset."
   ]
  },
  {
   "cell_type": "code",
   "execution_count": 57,
   "id": "0fde2d47",
   "metadata": {
    "scrolled": true
   },
   "outputs": [
    {
     "data": {
      "image/png": "[encoded data removed]",
      "text/plain": [
       "<Figure size 1080x504 with 1 Axes>"
      ]
     },
     "metadata": {
      "needs_background": "light"
     },
     "output_type": "display_data"
    }
   ],
   "source": [
    "# Group the data by date and sentiment\n",
    "grouped_df = df.groupby([df['Date'].dt.date, 'sentiment_category']).size().reset_index(name='count')\n",
    "\n",
    "# Pivot the data for better visualization\n",
    "pivot_df = grouped_df.pivot(index='Date', columns='sentiment_category', values='count').fillna(0)\n",
    "\n",
    "# Plot the data\n",
    "fig, ax = plt.subplots(figsize=(15, 7))\n",
    "pivot_df.plot(kind='line', ax=ax)\n",
    "ax.set_title('Sentiment Distribution Over Time')\n",
    "ax.set_xlabel('Date')\n",
    "ax.set_ylabel('Number of Tweets')\n",
    "ax.grid(True, which='both')\n",
    "plt.tight_layout()\n",
    "plt.show()"
   ]
  },
  {
   "cell_type": "markdown",
   "id": "6ad57ad2",
   "metadata": {},
   "source": [
    "### Observations and Conclusion\n",
    "Upon analyzing the distribution of sentiments over time, I can draw the following conclusions:\n",
    "\n",
    "- The sentiments tend to follow the same general trend as the overall distribution of tweets over time, suggesting that the proportion of each sentiment category remains relatively constant.\n",
    "\n",
    "- There are no noticeable peaks or declines in any particular sentiment category over time, implying that the relative proportion of positive, neutral, and negative tweets remains stable throughout the dataset's timeframe.\n"
   ]
  },
  {
   "cell_type": "code",
   "execution_count": 58,
   "id": "f54c96cb",
   "metadata": {
    "scrolled": true
   },
   "outputs": [
    {
     "data": {
      "image/png": "[encoded data removed]",
      "text/plain": [
       "<Figure size 1080x504 with 1 Axes>"
      ]
     },
     "metadata": {
      "needs_background": "light"
     },
     "output_type": "display_data"
    }
   ],
   "source": [
    "# Group the data by date and calculate the average sentiment score for each date\n",
    "grouped_df = df.groupby(df['Date'].dt.date)['sentiment_score'].mean().reset_index()\n",
    "\n",
    "# Plot the data\n",
    "fig, ax = plt.subplots(figsize=(15, 7))\n",
    "ax.plot(grouped_df['Date'], grouped_df['sentiment_score'], label='Sentiment Score', color='blue')\n",
    "ax.set_title('Sentiment Score Distribution Over Time')\n",
    "ax.set_xlabel('Date')\n",
    "ax.set_ylabel('Average Sentiment Score')\n",
    "ax.grid(True, which='both')\n",
    "plt.tight_layout()\n",
    "plt.legend()\n",
    "plt.show()"
   ]
  },
  {
   "cell_type": "code",
   "execution_count": 28,
   "id": "458adcef",
   "metadata": {},
   "outputs": [],
   "source": [
    "df2 = pd.read_csv(\"cleaned_dataset.csv\")"
   ]
  },
  {
   "cell_type": "code",
   "execution_count": 32,
   "id": "60dadb6a",
   "metadata": {},
   "outputs": [],
   "source": [
    "#df2 = df\n",
    "# Convert 'Date' column to datetime\n",
    "df2['Date'] = pd.to_datetime(df2['Date'])\n",
    "# Set Date as the dataframe index\n",
    "df2.set_index('Date', inplace=True)"
   ]
  },
  {
   "cell_type": "code",
   "execution_count": 33,
   "id": "65236490",
   "metadata": {},
   "outputs": [
    {
     "data": {
      "text/html": [
       "<div>\n",
       "<style scoped>\n",
       "    .dataframe tbody tr th:only-of-type {\n",
       "        vertical-align: middle;\n",
       "    }\n",
       "\n",
       "    .dataframe tbody tr th {\n",
       "        vertical-align: top;\n",
       "    }\n",
       "\n",
       "    .dataframe thead th {\n",
       "        text-align: right;\n",
       "    }\n",
       "</style>\n",
       "<table border=\"1\" class=\"dataframe\">\n",
       "  <thead>\n",
       "    <tr style=\"text-align: right;\">\n",
       "      <th></th>\n",
       "      <th>user</th>\n",
       "      <th>text</th>\n",
       "      <th>Hashtags</th>\n",
       "      <th>Mentions</th>\n",
       "      <th>pp_text</th>\n",
       "      <th>sentiment_score</th>\n",
       "      <th>sentiment_category</th>\n",
       "    </tr>\n",
       "    <tr>\n",
       "      <th>Date</th>\n",
       "      <th></th>\n",
       "      <th></th>\n",
       "      <th></th>\n",
       "      <th></th>\n",
       "      <th></th>\n",
       "      <th></th>\n",
       "      <th></th>\n",
       "    </tr>\n",
       "  </thead>\n",
       "  <tbody>\n",
       "    <tr>\n",
       "      <th>2009-04-06</th>\n",
       "      <td>_TheSpecialOne_</td>\n",
       "      <td>@switchfoot http://twitpic.com/2y1zl - Awww, t...</td>\n",
       "      <td>[]</td>\n",
       "      <td>['switchfoot']</td>\n",
       "      <td>thats bummer shoulda got david carr third day</td>\n",
       "      <td>0.000</td>\n",
       "      <td>neutral</td>\n",
       "    </tr>\n",
       "    <tr>\n",
       "      <th>2009-04-06</th>\n",
       "      <td>scotthamilton</td>\n",
       "      <td>is upset that he can't update his Facebook by ...</td>\n",
       "      <td>[]</td>\n",
       "      <td>[]</td>\n",
       "      <td>upset cant update facebook texting might cry r...</td>\n",
       "      <td>0.000</td>\n",
       "      <td>neutral</td>\n",
       "    </tr>\n",
       "    <tr>\n",
       "      <th>2009-04-06</th>\n",
       "      <td>mattycus</td>\n",
       "      <td>@Kenichan I dived many times for the ball. Man...</td>\n",
       "      <td>[]</td>\n",
       "      <td>['Kenichan']</td>\n",
       "      <td>dived many time ball managed save rest bound</td>\n",
       "      <td>0.500</td>\n",
       "      <td>positive</td>\n",
       "    </tr>\n",
       "    <tr>\n",
       "      <th>2009-04-06</th>\n",
       "      <td>ElleCTF</td>\n",
       "      <td>my whole body feels itchy and like its on fire</td>\n",
       "      <td>[]</td>\n",
       "      <td>[]</td>\n",
       "      <td>whole body feel itchy like fire</td>\n",
       "      <td>0.200</td>\n",
       "      <td>positive</td>\n",
       "    </tr>\n",
       "    <tr>\n",
       "      <th>2009-04-06</th>\n",
       "      <td>Karoli</td>\n",
       "      <td>@nationwideclass no, it's not behaving at all....</td>\n",
       "      <td>[]</td>\n",
       "      <td>['nationwideclass']</td>\n",
       "      <td>behaving mad cant see</td>\n",
       "      <td>-0.625</td>\n",
       "      <td>negative</td>\n",
       "    </tr>\n",
       "  </tbody>\n",
       "</table>\n",
       "</div>"
      ],
      "text/plain": [
       "                       user  \\\n",
       "Date                          \n",
       "2009-04-06  _TheSpecialOne_   \n",
       "2009-04-06    scotthamilton   \n",
       "2009-04-06         mattycus   \n",
       "2009-04-06          ElleCTF   \n",
       "2009-04-06           Karoli   \n",
       "\n",
       "                                                         text Hashtags  \\\n",
       "Date                                                                     \n",
       "2009-04-06  @switchfoot http://twitpic.com/2y1zl - Awww, t...       []   \n",
       "2009-04-06  is upset that he can't update his Facebook by ...       []   \n",
       "2009-04-06  @Kenichan I dived many times for the ball. Man...       []   \n",
       "2009-04-06    my whole body feels itchy and like its on fire        []   \n",
       "2009-04-06  @nationwideclass no, it's not behaving at all....       []   \n",
       "\n",
       "                       Mentions  \\\n",
       "Date                              \n",
       "2009-04-06       ['switchfoot']   \n",
       "2009-04-06                   []   \n",
       "2009-04-06         ['Kenichan']   \n",
       "2009-04-06                   []   \n",
       "2009-04-06  ['nationwideclass']   \n",
       "\n",
       "                                                      pp_text  \\\n",
       "Date                                                            \n",
       "2009-04-06      thats bummer shoulda got david carr third day   \n",
       "2009-04-06  upset cant update facebook texting might cry r...   \n",
       "2009-04-06       dived many time ball managed save rest bound   \n",
       "2009-04-06                    whole body feel itchy like fire   \n",
       "2009-04-06                              behaving mad cant see   \n",
       "\n",
       "            sentiment_score sentiment_category  \n",
       "Date                                            \n",
       "2009-04-06            0.000            neutral  \n",
       "2009-04-06            0.000            neutral  \n",
       "2009-04-06            0.500           positive  \n",
       "2009-04-06            0.200           positive  \n",
       "2009-04-06           -0.625           negative  "
      ]
     },
     "execution_count": 33,
     "metadata": {},
     "output_type": "execute_result"
    }
   ],
   "source": [
    "df2.head()"
   ]
  },
  {
   "cell_type": "code",
   "execution_count": 30,
   "id": "90b76cf5",
   "metadata": {
    "scrolled": false
   },
   "outputs": [
    {
     "name": "stdout",
     "output_type": "stream",
     "text": [
      "<class 'pandas.core.frame.DataFrame'>\n",
      "RangeIndex: 1588124 entries, 0 to 1588123\n",
      "Data columns (total 8 columns):\n",
      " #   Column              Non-Null Count    Dtype  \n",
      "---  ------              --------------    -----  \n",
      " 0   Date                1588124 non-null  object \n",
      " 1   user                1588124 non-null  object \n",
      " 2   text                1588124 non-null  object \n",
      " 3   Hashtags            1588124 non-null  object \n",
      " 4   Mentions            1588124 non-null  object \n",
      " 5   pp_text             1588124 non-null  object \n",
      " 6   sentiment_score     1588124 non-null  float64\n",
      " 7   sentiment_category  1588124 non-null  object \n",
      "dtypes: float64(1), object(7)\n",
      "memory usage: 96.9+ MB\n"
     ]
    }
   ],
   "source": [
    "df2.info()"
   ]
  },
  {
   "cell_type": "code",
   "execution_count": 34,
   "id": "71ecad91",
   "metadata": {
    "scrolled": false
   },
   "outputs": [
    {
     "data": {
      "text/html": [
       "<div>\n",
       "<style scoped>\n",
       "    .dataframe tbody tr th:only-of-type {\n",
       "        vertical-align: middle;\n",
       "    }\n",
       "\n",
       "    .dataframe tbody tr th {\n",
       "        vertical-align: top;\n",
       "    }\n",
       "\n",
       "    .dataframe thead th {\n",
       "        text-align: right;\n",
       "    }\n",
       "</style>\n",
       "<table border=\"1\" class=\"dataframe\">\n",
       "  <thead>\n",
       "    <tr style=\"text-align: right;\">\n",
       "      <th></th>\n",
       "      <th>sentiment_score</th>\n",
       "    </tr>\n",
       "    <tr>\n",
       "      <th>Date</th>\n",
       "      <th></th>\n",
       "    </tr>\n",
       "  </thead>\n",
       "  <tbody>\n",
       "    <tr>\n",
       "      <th>2009-04-12</th>\n",
       "      <td>0.096715</td>\n",
       "    </tr>\n",
       "    <tr>\n",
       "      <th>2009-04-19</th>\n",
       "      <td>0.113171</td>\n",
       "    </tr>\n",
       "    <tr>\n",
       "      <th>2009-04-26</th>\n",
       "      <td>0.110139</td>\n",
       "    </tr>\n",
       "    <tr>\n",
       "      <th>2009-05-03</th>\n",
       "      <td>0.110717</td>\n",
       "    </tr>\n",
       "    <tr>\n",
       "      <th>2009-05-10</th>\n",
       "      <td>0.134177</td>\n",
       "    </tr>\n",
       "    <tr>\n",
       "      <th>2009-05-17</th>\n",
       "      <td>0.115270</td>\n",
       "    </tr>\n",
       "    <tr>\n",
       "      <th>2009-05-24</th>\n",
       "      <td>0.118007</td>\n",
       "    </tr>\n",
       "    <tr>\n",
       "      <th>2009-05-31</th>\n",
       "      <td>0.117700</td>\n",
       "    </tr>\n",
       "    <tr>\n",
       "      <th>2009-06-07</th>\n",
       "      <td>0.109591</td>\n",
       "    </tr>\n",
       "    <tr>\n",
       "      <th>2009-06-14</th>\n",
       "      <td>0.115798</td>\n",
       "    </tr>\n",
       "    <tr>\n",
       "      <th>2009-06-21</th>\n",
       "      <td>0.033598</td>\n",
       "    </tr>\n",
       "    <tr>\n",
       "      <th>2009-06-28</th>\n",
       "      <td>-0.018369</td>\n",
       "    </tr>\n",
       "  </tbody>\n",
       "</table>\n",
       "</div>"
      ],
      "text/plain": [
       "            sentiment_score\n",
       "Date                       \n",
       "2009-04-12         0.096715\n",
       "2009-04-19         0.113171\n",
       "2009-04-26         0.110139\n",
       "2009-05-03         0.110717\n",
       "2009-05-10         0.134177\n",
       "2009-05-17         0.115270\n",
       "2009-05-24         0.118007\n",
       "2009-05-31         0.117700\n",
       "2009-06-07         0.109591\n",
       "2009-06-14         0.115798\n",
       "2009-06-21         0.033598\n",
       "2009-06-28        -0.018369"
      ]
     },
     "execution_count": 34,
     "metadata": {},
     "output_type": "execute_result"
    }
   ],
   "source": [
    "# Aggregate the data by Date\n",
    "weekly_sentiment = df2.resample('W').agg({\n",
    "    'sentiment_score': 'mean'\n",
    "})\n",
    "weekly_sentiment"
   ]
  },
  {
   "cell_type": "code",
   "execution_count": 37,
   "id": "8e03751a",
   "metadata": {},
   "outputs": [
    {
     "data": {
      "image/png": "[encoded data removed]",
      "text/plain": [
       "<Figure size 1080x504 with 1 Axes>"
      ]
     },
     "metadata": {
      "needs_background": "light"
     },
     "output_type": "display_data"
    }
   ],
   "source": [
    "fig, ax = plt.subplots(figsize=(15, 7))\n",
    "weekly_sentiment['sentiment_score'].plot(ax=ax, marker='o', linestyle='-')\n",
    "ax.set_title('Weekly Sentiment Score Over Time')\n",
    "ax.set_xlabel('Week')\n",
    "ax.set_ylabel('Sentiment Score')\n",
    "ax.grid(True, which='both')\n",
    "plt.tight_layout()\n",
    "plt.show()"
   ]
  },
  {
   "cell_type": "code",
   "execution_count": 36,
   "id": "74bd7125",
   "metadata": {},
   "outputs": [
    {
     "name": "stdout",
     "output_type": "stream",
     "text": [
      "ADF Statistic: 0.761156\n",
      "p-value: 0.990983\n",
      "Critical Values:\n",
      "\t1%: -4.332\n",
      "\t5%: -3.233\n",
      "\t10%: -2.749\n",
      "The series is not stationary and may need differencing.\n"
     ]
    }
   ],
   "source": [
    "from statsmodels.tsa.stattools import adfuller\n",
    "# Perform Augmented Dickey-Fuller test\n",
    "adf_test = adfuller(weekly_sentiment)\n",
    "\n",
    "print('ADF Statistic: %f' % adf_test[0])\n",
    "print('p-value: %f' % adf_test[1])\n",
    "print('Critical Values:')\n",
    "for key, value in adf_test[4].items():\n",
    "    print('\\t%s: %.3f' % (key, value))\n",
    "\n",
    "# Interpretation\n",
    "if adf_test[1] < 0.05:\n",
    "    print(\"The series is stationary.\")\n",
    "else:\n",
    "    print(\"The series is not stationary and may need differencing.\")"
   ]
  },
  {
   "cell_type": "code",
   "execution_count": 38,
   "id": "48b242dd",
   "metadata": {},
   "outputs": [
    {
     "name": "stdout",
     "output_type": "stream",
     "text": [
      "ADF Statistic: -1.914235\n",
      "p-value: 0.325395\n",
      "Critical Values:\n",
      "\t1%: -4.332\n",
      "\t5%: -3.233\n",
      "\t10%: -2.749\n",
      "The differenced series is not stationary and may need further differencing or other transformations.\n"
     ]
    }
   ],
   "source": [
    "# Differencing the series\n",
    "weekly_sentiment_diff = weekly_sentiment.diff().dropna()  # This drops the NA values that result from differencing\n",
    "\n",
    "# Running ADF test again on the differenced data\n",
    "adf_test_diff = adfuller(weekly_sentiment_diff)\n",
    "\n",
    "print('ADF Statistic: %f' % adf_test_diff[0])\n",
    "print('p-value: %f' % adf_test_diff[1])\n",
    "print('Critical Values:')\n",
    "for key, value in adf_test_diff[4].items():\n",
    "    print('\\t%s: %.3f' % (key, value))\n",
    "\n",
    "# Interpretation\n",
    "if adf_test_diff[1] < 0.05:\n",
    "    print(\"The differenced series is stationary.\")\n",
    "else:\n",
    "    print(\"The differenced series is not stationary and may need further differencing or other transformations.\")\n"
   ]
  },
  {
   "cell_type": "code",
   "execution_count": 39,
   "id": "b757cbdf",
   "metadata": {
    "scrolled": true
   },
   "outputs": [
    {
     "name": "stdout",
     "output_type": "stream",
     "text": [
      "ADF Statistic: -1.241421\n",
      "p-value: 0.655528\n",
      "Critical Values:\n",
      "\t1%: -5.354\n",
      "\t5%: -3.646\n",
      "\t10%: -2.901\n",
      "The second differenced series is not stationary and may need further transformations.\n"
     ]
    }
   ],
   "source": [
    "# Second differencing\n",
    "weekly_sentiment_diff2 = weekly_sentiment_diff.diff().dropna()\n",
    "\n",
    "# Running ADF test again on the second differenced data\n",
    "adf_test_diff2 = adfuller(weekly_sentiment_diff2)\n",
    "\n",
    "print('ADF Statistic: %f' % adf_test_diff2[0])\n",
    "print('p-value: %f' % adf_test_diff2[1])\n",
    "print('Critical Values:')\n",
    "for key, value in adf_test_diff2[4].items():\n",
    "    print('\\t%s: %.3f' % (key, value))\n",
    "\n",
    "# Interpretation\n",
    "if adf_test_diff2[1] < 0.05:\n",
    "    print(\"The second differenced series is stationary.\")\n",
    "else:\n",
    "    print(\"The second differenced series is not stationary and may need further transformations.\")\n"
   ]
  },
  {
   "cell_type": "code",
   "execution_count": 42,
   "id": "4e698d4e",
   "metadata": {},
   "outputs": [
    {
     "name": "stdout",
     "output_type": "stream",
     "text": [
      "ADF Statistic: -1.315162\n",
      "p-value: 0.622208\n",
      "Critical Values:\n",
      "\t1%: -4.473\n",
      "\t5%: -3.290\n",
      "\t10%: -2.772\n",
      "The log differenced series is not stationary and may need further transformations.\n"
     ]
    },
    {
     "name": "stderr",
     "output_type": "stream",
     "text": [
      "C:\\Users\\rmora\\anaconda3\\lib\\site-packages\\pandas\\core\\internals\\blocks.py:402: RuntimeWarning: invalid value encountered in log\n",
      "  result = func(self.values, **kwargs)\n"
     ]
    }
   ],
   "source": [
    "import numpy as np\n",
    "\n",
    "# Apply log transformation\n",
    "weekly_sentiment_log = np.log(weekly_sentiment.replace(0, np.nan)).dropna()\n",
    "\n",
    "# Apply differencing to the log-transformed data\n",
    "weekly_sentiment_log_diff = weekly_sentiment_log.diff().dropna()\n",
    "\n",
    "# Running ADF test again on the log differenced data\n",
    "adf_test_log_diff = adfuller(weekly_sentiment_log_diff)\n",
    "\n",
    "print('ADF Statistic: %f' % adf_test_log_diff[0])\n",
    "print('p-value: %f' % adf_test_log_diff[1])\n",
    "print('Critical Values:')\n",
    "for key, value in adf_test_log_diff[4].items():\n",
    "    print('\\t%s: %.3f' % (key, value))\n",
    "\n",
    "# Interpretation\n",
    "if adf_test_log_diff[1] < 0.05:\n",
    "    print(\"The log differenced series is stationary.\")\n",
    "else:\n",
    "    print(\"The log differenced series is not stationary and may need further transformations.\")\n"
   ]
  },
  {
   "cell_type": "code",
   "execution_count": 45,
   "id": "12d84684",
   "metadata": {},
   "outputs": [
    {
     "name": "stdout",
     "output_type": "stream",
     "text": [
      "ADF Statistic: -4.283110\n",
      "p-value: 0.000475\n",
      "Critical Values:\n",
      "\t1%: -4.332\n",
      "\t5%: -3.233\n",
      "\t10%: -2.749\n",
      "The Box-Cox differenced series is stationary.\n"
     ]
    }
   ],
   "source": [
    "from scipy.stats import boxcox\n",
    "from scipy.special import inv_boxcox\n",
    "\n",
    "weekly_sentiment_score = weekly_sentiment[\"sentiment_score\"]\n",
    "# Apply Box-Cox transformation\n",
    "sentiment_score_boxcox, lambda_value = boxcox(weekly_sentiment_score + 1) # Adding 1 to handle zero or negative values\n",
    "\n",
    "# Apply differencing to the Box-Cox transformed data\n",
    "sentiment_score_boxcox_diff = np.diff(sentiment_score_boxcox, n=1) # n=1 for first difference\n",
    "\n",
    "# Running ADF test again on the Box-Cox differenced data\n",
    "adf_test_boxcox_diff = adfuller(sentiment_score_boxcox_diff)\n",
    "\n",
    "print('ADF Statistic: %f' % adf_test_boxcox_diff[0])\n",
    "print('p-value: %f' % adf_test_boxcox_diff[1])\n",
    "print('Critical Values:')\n",
    "for key, value in adf_test_boxcox_diff[4].items():\n",
    "    print('\\t%s: %.3f' % (key, value))\n",
    "\n",
    "# Interpretation\n",
    "if adf_test_boxcox_diff[1] < 0.05:\n",
    "    print(\"The Box-Cox differenced series is stationary.\")\n",
    "else:\n",
    "    print(\"The Box-Cox differenced series is not stationary and may need further transformations.\")\n"
   ]
  },
  {
   "cell_type": "code",
   "execution_count": 54,
   "id": "44565fde",
   "metadata": {
    "scrolled": true
   },
   "outputs": [
    {
     "name": "stderr",
     "output_type": "stream",
     "text": [
      "C:\\Users\\rmora\\anaconda3\\lib\\site-packages\\statsmodels\\graphics\\tsaplots.py:348: FutureWarning: The default method 'yw' can produce PACF values outside of the [-1,1] interval. After 0.13, the default will change tounadjusted Yule-Walker ('ywm'). You can use this method now by setting method='ywm'.\n",
      "  warnings.warn(\n"
     ]
    },
    {
     "data": {
      "image/png": "[encoded data removed]",
      "text/plain": [
       "<Figure size 1008x504 with 1 Axes>"
      ]
     },
     "metadata": {
      "needs_background": "light"
     },
     "output_type": "display_data"
    },
    {
     "data": {
      "image/png": "[encoded data removed]",
      "text/plain": [
       "<Figure size 1008x504 with 1 Axes>"
      ]
     },
     "metadata": {
      "needs_background": "light"
     },
     "output_type": "display_data"
    }
   ],
   "source": [
    "import matplotlib.pyplot as plt\n",
    "from statsmodels.graphics.tsaplots import plot_acf, plot_pacf\n",
    "\n",
    "\n",
    "# Plot ACF\n",
    "plt.figure(figsize=(14, 7))\n",
    "plot_acf(sentiment_score_boxcox_diff, ax=plt.gca(), lags=4)  # You can adjust the number of lags as needed\n",
    "plt.title('Autocorrelation Function')\n",
    "\n",
    "# Plot PACF\n",
    "plt.figure(figsize=(14, 7))\n",
    "plot_pacf(sentiment_score_boxcox_diff, ax=plt.gca(), lags=4)  # You can adjust the number of lags as needed\n",
    "plt.title('Partial Autocorrelation Function')\n",
    "\n",
    "plt.show()"
   ]
  },
  {
   "cell_type": "code",
   "execution_count": 67,
   "id": "923d97e8",
   "metadata": {},
   "outputs": [
    {
     "data": {
      "text/html": [
       "<div>\n",
       "<style scoped>\n",
       "    .dataframe tbody tr th:only-of-type {\n",
       "        vertical-align: middle;\n",
       "    }\n",
       "\n",
       "    .dataframe tbody tr th {\n",
       "        vertical-align: top;\n",
       "    }\n",
       "\n",
       "    .dataframe thead th {\n",
       "        text-align: right;\n",
       "    }\n",
       "</style>\n",
       "<table border=\"1\" class=\"dataframe\">\n",
       "  <thead>\n",
       "    <tr style=\"text-align: right;\">\n",
       "      <th></th>\n",
       "      <th>sentiment_score</th>\n",
       "    </tr>\n",
       "    <tr>\n",
       "      <th>Date</th>\n",
       "      <th></th>\n",
       "    </tr>\n",
       "  </thead>\n",
       "  <tbody>\n",
       "    <tr>\n",
       "      <th>2009-04-12</th>\n",
       "      <td>0.096715</td>\n",
       "    </tr>\n",
       "    <tr>\n",
       "      <th>2009-04-19</th>\n",
       "      <td>0.113171</td>\n",
       "    </tr>\n",
       "    <tr>\n",
       "      <th>2009-04-26</th>\n",
       "      <td>0.110139</td>\n",
       "    </tr>\n",
       "    <tr>\n",
       "      <th>2009-05-03</th>\n",
       "      <td>0.110717</td>\n",
       "    </tr>\n",
       "    <tr>\n",
       "      <th>2009-05-10</th>\n",
       "      <td>0.134177</td>\n",
       "    </tr>\n",
       "    <tr>\n",
       "      <th>2009-05-17</th>\n",
       "      <td>0.115270</td>\n",
       "    </tr>\n",
       "    <tr>\n",
       "      <th>2009-05-24</th>\n",
       "      <td>0.118007</td>\n",
       "    </tr>\n",
       "    <tr>\n",
       "      <th>2009-05-31</th>\n",
       "      <td>0.117700</td>\n",
       "    </tr>\n",
       "    <tr>\n",
       "      <th>2009-06-07</th>\n",
       "      <td>0.109591</td>\n",
       "    </tr>\n",
       "    <tr>\n",
       "      <th>2009-06-14</th>\n",
       "      <td>0.115798</td>\n",
       "    </tr>\n",
       "    <tr>\n",
       "      <th>2009-06-21</th>\n",
       "      <td>0.033598</td>\n",
       "    </tr>\n",
       "    <tr>\n",
       "      <th>2009-06-28</th>\n",
       "      <td>-0.018369</td>\n",
       "    </tr>\n",
       "  </tbody>\n",
       "</table>\n",
       "</div>"
      ],
      "text/plain": [
       "            sentiment_score\n",
       "Date                       \n",
       "2009-04-12         0.096715\n",
       "2009-04-19         0.113171\n",
       "2009-04-26         0.110139\n",
       "2009-05-03         0.110717\n",
       "2009-05-10         0.134177\n",
       "2009-05-17         0.115270\n",
       "2009-05-24         0.118007\n",
       "2009-05-31         0.117700\n",
       "2009-06-07         0.109591\n",
       "2009-06-14         0.115798\n",
       "2009-06-21         0.033598\n",
       "2009-06-28        -0.018369"
      ]
     },
     "execution_count": 67,
     "metadata": {},
     "output_type": "execute_result"
    }
   ],
   "source": [
    "weekly_sentiment"
   ]
  },
  {
   "cell_type": "code",
   "execution_count": 55,
   "id": "f262a68a",
   "metadata": {},
   "outputs": [],
   "source": [
    "# Assuming your data is in a pandas DataFrame and is already stationary and appropriate for modeling\n",
    "n = len(sentiment_score_boxcox_diff)\n",
    "train_size = int(n * 0.8)  # 80% for training\n",
    "\n",
    "train_data = sentiment_score_boxcox_diff[:train_size]\n",
    "test_data = sentiment_score_boxcox_diff[train_size:]"
   ]
  },
  {
   "cell_type": "code",
   "execution_count": 59,
   "id": "002a22e6",
   "metadata": {
    "scrolled": true
   },
   "outputs": [
    {
     "name": "stdout",
     "output_type": "stream",
     "text": [
      "Train dates : 2009-04-12 00:00:00 --- 2009-06-07 00:00:00  (n=9)\n",
      "Test dates  : 2009-06-14 00:00:00 --- 2009-06-28 00:00:00  (n=3)\n"
     ]
    },
    {
     "data": {
      "image/png": "[encoded data removed]",
      "text/plain": [
       "<Figure size 648x288 with 1 Axes>"
      ]
     },
     "metadata": {
      "needs_background": "light"
     },
     "output_type": "display_data"
    }
   ],
   "source": [
    "# Split data into train-test\n",
    "# ==============================================================================\n",
    "steps = 3\n",
    "data_train = weekly_sentiment[:-steps]\n",
    "data_test  = weekly_sentiment[-steps:]\n",
    "\n",
    "print(f\"Train dates : {data_train.index.min()} --- {data_train.index.max()}  (n={len(data_train)})\")\n",
    "print(f\"Test dates  : {data_test.index.min()} --- {data_test.index.max()}  (n={len(data_test)})\")\n",
    "\n",
    "fig, ax=plt.subplots(figsize=(9, 4))\n",
    "data_train['sentiment_score'].plot(ax=ax, label='train')\n",
    "data_test['sentiment_score'].plot(ax=ax, label='test')\n",
    "ax.legend();"
   ]
  },
  {
   "cell_type": "code",
   "execution_count": 63,
   "id": "a63e40da",
   "metadata": {},
   "outputs": [
    {
     "data": {
      "text/plain": [
       "=======================ForecasterAutoreg=======================\n",
       "Regressor: RandomForestRegressor(random_state=123)\n",
       "Lags: [1 2 3]\n",
       "Exogenous variable: False, None\n",
       "Parameters: {'bootstrap': True, 'ccp_alpha': 0.0, 'criterion': 'squared_error', 'max_depth': None, 'max_features': 'auto', 'max_leaf_nodes': None, 'max_samples': None, 'min_impurity_decrease': 0.0, 'min_samples_leaf': 1, 'min_samples_split': 2, 'min_weight_fraction_leaf': 0.0, 'n_estimators': 100, 'n_jobs': None, 'oob_score': False, 'random_state': 123, 'verbose': 0, 'warm_start': False}"
      ]
     },
     "execution_count": 63,
     "metadata": {},
     "output_type": "execute_result"
    }
   ],
   "source": [
    "# Modeling and Forecasting\n",
    "# ==============================================================================\n",
    "from sklearn.linear_model import LinearRegression\n",
    "from sklearn.linear_model import Lasso\n",
    "from sklearn.ensemble import RandomForestRegressor\n",
    "from sklearn.metrics import mean_squared_error\n",
    "from sklearn.preprocessing import StandardScaler\n",
    "from sklearn.pipeline import make_pipeline\n",
    "\n",
    "from skforecast.ForecasterAutoreg import ForecasterAutoreg\n",
    "from skforecast.ForecasterAutoregCustom import ForecasterAutoregCustom\n",
    "from skforecast.ForecasterAutoregMultiOutput import ForecasterAutoregMultiOutput\n",
    "from skforecast.model_selection import grid_search_forecaster\n",
    "from skforecast.model_selection import backtesting_forecaster\n",
    "# Create and train forecaster\n",
    "# ==============================================================================\n",
    "forecaster = ForecasterAutoreg(\n",
    "                regressor = RandomForestRegressor(random_state=123),\n",
    "                lags = 3\n",
    "                )\n",
    "\n",
    "forecaster.fit(y=data_train['sentiment_score'])\n",
    "forecaster"
   ]
  },
  {
   "cell_type": "code",
   "execution_count": 64,
   "id": "8e40dd64",
   "metadata": {},
   "outputs": [
    {
     "data": {
      "text/plain": [
       "array([0.1153189 , 0.12355048, 0.11513922])"
      ]
     },
     "execution_count": 64,
     "metadata": {},
     "output_type": "execute_result"
    }
   ],
   "source": [
    "# Predictions\n",
    "# ==============================================================================\n",
    "steps = 3\n",
    "predictions = forecaster.predict(steps=steps)\n",
    "predictions"
   ]
  },
  {
   "cell_type": "code",
   "execution_count": 66,
   "id": "b9cfda92",
   "metadata": {},
   "outputs": [
    {
     "ename": "AttributeError",
     "evalue": "'numpy.ndarray' object has no attribute 'plot'",
     "output_type": "error",
     "traceback": [
      "\u001b[1;31m---------------------------------------------------------------------------\u001b[0m",
      "\u001b[1;31mAttributeError\u001b[0m                            Traceback (most recent call last)",
      "Input \u001b[1;32mIn [66]\u001b[0m, in \u001b[0;36m<cell line: 6>\u001b[1;34m()\u001b[0m\n\u001b[0;32m      4\u001b[0m data_train[\u001b[38;5;124m'\u001b[39m\u001b[38;5;124msentiment_score\u001b[39m\u001b[38;5;124m'\u001b[39m]\u001b[38;5;241m.\u001b[39mplot(ax\u001b[38;5;241m=\u001b[39max, label\u001b[38;5;241m=\u001b[39m\u001b[38;5;124m'\u001b[39m\u001b[38;5;124mtrain\u001b[39m\u001b[38;5;124m'\u001b[39m)\n\u001b[0;32m      5\u001b[0m data_test[\u001b[38;5;124m'\u001b[39m\u001b[38;5;124msentiment_score\u001b[39m\u001b[38;5;124m'\u001b[39m]\u001b[38;5;241m.\u001b[39mplot(ax\u001b[38;5;241m=\u001b[39max, label\u001b[38;5;241m=\u001b[39m\u001b[38;5;124m'\u001b[39m\u001b[38;5;124mtest\u001b[39m\u001b[38;5;124m'\u001b[39m)\n\u001b[1;32m----> 6\u001b[0m \u001b[43mpredictions\u001b[49m\u001b[38;5;241;43m.\u001b[39;49m\u001b[43mplot\u001b[49m(ax\u001b[38;5;241m=\u001b[39max, label\u001b[38;5;241m=\u001b[39m\u001b[38;5;124m'\u001b[39m\u001b[38;5;124mpredictions\u001b[39m\u001b[38;5;124m'\u001b[39m)\n\u001b[0;32m      7\u001b[0m ax\u001b[38;5;241m.\u001b[39mlegend()\n",
      "\u001b[1;31mAttributeError\u001b[0m: 'numpy.ndarray' object has no attribute 'plot'"
     ]
    },
    {
     "data": {
      "image/png": "[encoded data removed]",
      "text/plain": [
       "<Figure size 648x288 with 1 Axes>"
      ]
     },
     "metadata": {
      "needs_background": "light"
     },
     "output_type": "display_data"
    }
   ],
   "source": [
    "# Plot\n",
    "# ==============================================================================\n",
    "fig, ax = plt.subplots(figsize=(9, 4))\n",
    "data_train['sentiment_score'].plot(ax=ax, label='train')\n",
    "data_test['sentiment_score'].plot(ax=ax, label='test')\n",
    "predictions.plot(ax=ax, label='predictions')\n",
    "ax.legend();"
   ]
  },
  {
   "cell_type": "code",
   "execution_count": 56,
   "id": "0292e1c4",
   "metadata": {},
   "outputs": [
    {
     "name": "stdout",
     "output_type": "stream",
     "text": [
      "                               SARIMAX Results                                \n",
      "==============================================================================\n",
      "Dep. Variable:                      y   No. Observations:                    8\n",
      "Model:                 ARIMA(1, 1, 1)   Log Likelihood                  -2.794\n",
      "Date:                Mon, 06 Nov 2023   AIC                             11.587\n",
      "Time:                        13:10:19   BIC                             11.425\n",
      "Sample:                             0   HQIC                             9.582\n",
      "                                  - 8                                         \n",
      "Covariance Type:                  opg                                         \n",
      "==============================================================================\n",
      "                 coef    std err          z      P>|z|      [0.025      0.975]\n",
      "------------------------------------------------------------------------------\n",
      "ar.L1         -0.4302      0.536     -0.802      0.422      -1.481       0.621\n",
      "ma.L1         -0.8331      2.870     -0.290      0.772      -6.459       4.793\n",
      "sigma2         0.0987      0.284      0.347      0.728      -0.458       0.656\n",
      "===================================================================================\n",
      "Ljung-Box (L1) (Q):                   1.34   Jarque-Bera (JB):                 1.69\n",
      "Prob(Q):                              0.25   Prob(JB):                         0.43\n",
      "Heteroskedasticity (H):               0.84   Skew:                             1.16\n",
      "Prob(H) (two-sided):                  0.91   Kurtosis:                         3.66\n",
      "===================================================================================\n",
      "\n",
      "Warnings:\n",
      "[1] Covariance matrix calculated using the outer product of gradients (complex-step).\n"
     ]
    },
    {
     "ename": "ValueError",
     "evalue": "Length of endogenous variable must be larger the the number of lags used in the model and the number of observations burned in the log-likelihood calculation.",
     "output_type": "error",
     "traceback": [
      "\u001b[1;31m---------------------------------------------------------------------------\u001b[0m",
      "\u001b[1;31mValueError\u001b[0m                                Traceback (most recent call last)",
      "Input \u001b[1;32mIn [56]\u001b[0m, in \u001b[0;36m<cell line: 12>\u001b[1;34m()\u001b[0m\n\u001b[0;32m      9\u001b[0m \u001b[38;5;28mprint\u001b[39m(fit_model\u001b[38;5;241m.\u001b[39msummary())\n\u001b[0;32m     11\u001b[0m \u001b[38;5;66;03m# Check diagnostics\u001b[39;00m\n\u001b[1;32m---> 12\u001b[0m \u001b[43mfit_model\u001b[49m\u001b[38;5;241;43m.\u001b[39;49m\u001b[43mplot_diagnostics\u001b[49m\u001b[43m(\u001b[49m\u001b[43mfigsize\u001b[49m\u001b[38;5;241;43m=\u001b[39;49m\u001b[43m(\u001b[49m\u001b[38;5;241;43m15\u001b[39;49m\u001b[43m,\u001b[49m\u001b[43m \u001b[49m\u001b[38;5;241;43m12\u001b[39;49m\u001b[43m)\u001b[49m\u001b[43m)\u001b[49m\n\u001b[0;32m     13\u001b[0m plt\u001b[38;5;241m.\u001b[39mshow()\n\u001b[0;32m     15\u001b[0m \u001b[38;5;66;03m# Forecast\u001b[39;00m\n\u001b[0;32m     16\u001b[0m \u001b[38;5;66;03m# The number of steps to forecast (let's say you want to forecast the next 2 steps)\u001b[39;00m\n",
      "File \u001b[1;32m~\\anaconda3\\lib\\site-packages\\statsmodels\\tsa\\statespace\\mlemodel.py:4351\u001b[0m, in \u001b[0;36mMLEResults.plot_diagnostics\u001b[1;34m(self, variable, lags, fig, figsize, truncate_endog_names, auto_ylims, bartlett_confint, acf_kwargs)\u001b[0m\n\u001b[0;32m   4346\u001b[0m resid \u001b[38;5;241m=\u001b[39m pd\u001b[38;5;241m.\u001b[39mSeries(\n\u001b[0;32m   4347\u001b[0m     \u001b[38;5;28mself\u001b[39m\u001b[38;5;241m.\u001b[39mfilter_results\u001b[38;5;241m.\u001b[39mstandardized_forecasts_error[variable, d:],\n\u001b[0;32m   4348\u001b[0m     index\u001b[38;5;241m=\u001b[39mix)\n\u001b[0;32m   4350\u001b[0m \u001b[38;5;28;01mif\u001b[39;00m resid\u001b[38;5;241m.\u001b[39mshape[\u001b[38;5;241m0\u001b[39m] \u001b[38;5;241m<\u001b[39m \u001b[38;5;28mmax\u001b[39m(d, lags):\n\u001b[1;32m-> 4351\u001b[0m     \u001b[38;5;28;01mraise\u001b[39;00m \u001b[38;5;167;01mValueError\u001b[39;00m(\n\u001b[0;32m   4352\u001b[0m         \u001b[38;5;124m\"\u001b[39m\u001b[38;5;124mLength of endogenous variable must be larger the the number \u001b[39m\u001b[38;5;124m\"\u001b[39m\n\u001b[0;32m   4353\u001b[0m         \u001b[38;5;124m\"\u001b[39m\u001b[38;5;124mof lags used in the model and the number of observations \u001b[39m\u001b[38;5;124m\"\u001b[39m\n\u001b[0;32m   4354\u001b[0m         \u001b[38;5;124m\"\u001b[39m\u001b[38;5;124mburned in the log-likelihood calculation.\u001b[39m\u001b[38;5;124m\"\u001b[39m\n\u001b[0;32m   4355\u001b[0m     )\n\u001b[0;32m   4357\u001b[0m \u001b[38;5;66;03m# Top-left: residuals vs time\u001b[39;00m\n\u001b[0;32m   4358\u001b[0m ax \u001b[38;5;241m=\u001b[39m fig\u001b[38;5;241m.\u001b[39madd_subplot(\u001b[38;5;241m221\u001b[39m)\n",
      "\u001b[1;31mValueError\u001b[0m: Length of endogenous variable must be larger the the number of lags used in the model and the number of observations burned in the log-likelihood calculation."
     ]
    },
    {
     "data": {
      "text/plain": [
       "<Figure size 1080x864 with 0 Axes>"
      ]
     },
     "metadata": {},
     "output_type": "display_data"
    }
   ],
   "source": [
    "import statsmodels.api as sm\n",
    "\n",
    "# ARIMA model\n",
    "# Assuming you've identified p, d, q. Let's say p=1, d=1, q=1 for example purposes.\n",
    "model = sm.tsa.ARIMA(train_data, order=(1, 1, 1))\n",
    "fit_model = model.fit()\n",
    "\n",
    "# Summary of the model\n",
    "print(fit_model.summary())\n",
    "\n",
    "# Check diagnostics\n",
    "fit_model.plot_diagnostics(figsize=(15, 12))\n",
    "plt.show()\n",
    "\n",
    "# Forecast\n",
    "# The number of steps to forecast (let's say you want to forecast the next 2 steps)\n",
    "n_steps = 2\n",
    "forecast, stderr, conf_int = fit_model.forecast(steps=n_steps)"
   ]
  },
  {
   "cell_type": "code",
   "execution_count": 21,
   "id": "8f8aaa53",
   "metadata": {},
   "outputs": [
    {
     "ename": "TypeError",
     "evalue": "Only valid with DatetimeIndex, TimedeltaIndex or PeriodIndex, but got an instance of 'Index'",
     "output_type": "error",
     "traceback": [
      "\u001b[1;31m---------------------------------------------------------------------------\u001b[0m",
      "\u001b[1;31mTypeError\u001b[0m                                 Traceback (most recent call last)",
      "Input \u001b[1;32mIn [21]\u001b[0m, in \u001b[0;36m<cell line: 2>\u001b[1;34m()\u001b[0m\n\u001b[0;32m      1\u001b[0m \u001b[38;5;66;03m# Aggregate the data by Date\u001b[39;00m\n\u001b[1;32m----> 2\u001b[0m agg_df \u001b[38;5;241m=\u001b[39m \u001b[43mdf2\u001b[49m\u001b[38;5;241;43m.\u001b[39;49m\u001b[43mresample\u001b[49m\u001b[43m(\u001b[49m\u001b[38;5;124;43m'\u001b[39;49m\u001b[38;5;124;43mD\u001b[39;49m\u001b[38;5;124;43m'\u001b[39;49m\u001b[43m)\u001b[49m\u001b[38;5;241m.\u001b[39magg({\n\u001b[0;32m      3\u001b[0m     \u001b[38;5;124m'\u001b[39m\u001b[38;5;124msentiment_score\u001b[39m\u001b[38;5;124m'\u001b[39m: \u001b[38;5;124m'\u001b[39m\u001b[38;5;124mmean\u001b[39m\u001b[38;5;124m'\u001b[39m,\n\u001b[0;32m      4\u001b[0m     \u001b[38;5;124m'\u001b[39m\u001b[38;5;124mtext\u001b[39m\u001b[38;5;124m'\u001b[39m: \u001b[38;5;124m'\u001b[39m\u001b[38;5;124msize\u001b[39m\u001b[38;5;124m'\u001b[39m\n\u001b[0;32m      5\u001b[0m })\u001b[38;5;241m.\u001b[39mrename(columns\u001b[38;5;241m=\u001b[39m{\u001b[38;5;124m'\u001b[39m\u001b[38;5;124mtext\u001b[39m\u001b[38;5;124m'\u001b[39m: \u001b[38;5;124m'\u001b[39m\u001b[38;5;124mtweet_count\u001b[39m\u001b[38;5;124m'\u001b[39m})\n\u001b[0;32m      7\u001b[0m agg_df\u001b[38;5;241m.\u001b[39mhead()\n",
      "File \u001b[1;32m~\\anaconda3\\lib\\site-packages\\pandas\\core\\frame.py:10541\u001b[0m, in \u001b[0;36mDataFrame.resample\u001b[1;34m(self, rule, axis, closed, label, convention, kind, loffset, base, on, level, origin, offset)\u001b[0m\n\u001b[0;32m  10525\u001b[0m \u001b[38;5;129m@doc\u001b[39m(NDFrame\u001b[38;5;241m.\u001b[39mresample, \u001b[38;5;241m*\u001b[39m\u001b[38;5;241m*\u001b[39m_shared_doc_kwargs)\n\u001b[0;32m  10526\u001b[0m \u001b[38;5;28;01mdef\u001b[39;00m \u001b[38;5;21mresample\u001b[39m(\n\u001b[0;32m  10527\u001b[0m     \u001b[38;5;28mself\u001b[39m,\n\u001b[1;32m   (...)\u001b[0m\n\u001b[0;32m  10539\u001b[0m     offset: TimedeltaConvertibleTypes \u001b[38;5;241m|\u001b[39m \u001b[38;5;28;01mNone\u001b[39;00m \u001b[38;5;241m=\u001b[39m \u001b[38;5;28;01mNone\u001b[39;00m,\n\u001b[0;32m  10540\u001b[0m ) \u001b[38;5;241m-\u001b[39m\u001b[38;5;241m>\u001b[39m Resampler:\n\u001b[1;32m> 10541\u001b[0m     \u001b[38;5;28;01mreturn\u001b[39;00m \u001b[38;5;28;43msuper\u001b[39;49m\u001b[43m(\u001b[49m\u001b[43m)\u001b[49m\u001b[38;5;241;43m.\u001b[39;49m\u001b[43mresample\u001b[49m\u001b[43m(\u001b[49m\n\u001b[0;32m  10542\u001b[0m \u001b[43m        \u001b[49m\u001b[43mrule\u001b[49m\u001b[38;5;241;43m=\u001b[39;49m\u001b[43mrule\u001b[49m\u001b[43m,\u001b[49m\n\u001b[0;32m  10543\u001b[0m \u001b[43m        \u001b[49m\u001b[43maxis\u001b[49m\u001b[38;5;241;43m=\u001b[39;49m\u001b[43maxis\u001b[49m\u001b[43m,\u001b[49m\n\u001b[0;32m  10544\u001b[0m \u001b[43m        \u001b[49m\u001b[43mclosed\u001b[49m\u001b[38;5;241;43m=\u001b[39;49m\u001b[43mclosed\u001b[49m\u001b[43m,\u001b[49m\n\u001b[0;32m  10545\u001b[0m \u001b[43m        \u001b[49m\u001b[43mlabel\u001b[49m\u001b[38;5;241;43m=\u001b[39;49m\u001b[43mlabel\u001b[49m\u001b[43m,\u001b[49m\n\u001b[0;32m  10546\u001b[0m \u001b[43m        \u001b[49m\u001b[43mconvention\u001b[49m\u001b[38;5;241;43m=\u001b[39;49m\u001b[43mconvention\u001b[49m\u001b[43m,\u001b[49m\n\u001b[0;32m  10547\u001b[0m \u001b[43m        \u001b[49m\u001b[43mkind\u001b[49m\u001b[38;5;241;43m=\u001b[39;49m\u001b[43mkind\u001b[49m\u001b[43m,\u001b[49m\n\u001b[0;32m  10548\u001b[0m \u001b[43m        \u001b[49m\u001b[43mloffset\u001b[49m\u001b[38;5;241;43m=\u001b[39;49m\u001b[43mloffset\u001b[49m\u001b[43m,\u001b[49m\n\u001b[0;32m  10549\u001b[0m \u001b[43m        \u001b[49m\u001b[43mbase\u001b[49m\u001b[38;5;241;43m=\u001b[39;49m\u001b[43mbase\u001b[49m\u001b[43m,\u001b[49m\n\u001b[0;32m  10550\u001b[0m \u001b[43m        \u001b[49m\u001b[43mon\u001b[49m\u001b[38;5;241;43m=\u001b[39;49m\u001b[43mon\u001b[49m\u001b[43m,\u001b[49m\n\u001b[0;32m  10551\u001b[0m \u001b[43m        \u001b[49m\u001b[43mlevel\u001b[49m\u001b[38;5;241;43m=\u001b[39;49m\u001b[43mlevel\u001b[49m\u001b[43m,\u001b[49m\n\u001b[0;32m  10552\u001b[0m \u001b[43m        \u001b[49m\u001b[43morigin\u001b[49m\u001b[38;5;241;43m=\u001b[39;49m\u001b[43morigin\u001b[49m\u001b[43m,\u001b[49m\n\u001b[0;32m  10553\u001b[0m \u001b[43m        \u001b[49m\u001b[43moffset\u001b[49m\u001b[38;5;241;43m=\u001b[39;49m\u001b[43moffset\u001b[49m\u001b[43m,\u001b[49m\n\u001b[0;32m  10554\u001b[0m \u001b[43m    \u001b[49m\u001b[43m)\u001b[49m\n",
      "File \u001b[1;32m~\\anaconda3\\lib\\site-packages\\pandas\\core\\generic.py:8306\u001b[0m, in \u001b[0;36mNDFrame.resample\u001b[1;34m(self, rule, axis, closed, label, convention, kind, loffset, base, on, level, origin, offset)\u001b[0m\n\u001b[0;32m   8303\u001b[0m \u001b[38;5;28;01mfrom\u001b[39;00m \u001b[38;5;21;01mpandas\u001b[39;00m\u001b[38;5;21;01m.\u001b[39;00m\u001b[38;5;21;01mcore\u001b[39;00m\u001b[38;5;21;01m.\u001b[39;00m\u001b[38;5;21;01mresample\u001b[39;00m \u001b[38;5;28;01mimport\u001b[39;00m get_resampler\n\u001b[0;32m   8305\u001b[0m axis \u001b[38;5;241m=\u001b[39m \u001b[38;5;28mself\u001b[39m\u001b[38;5;241m.\u001b[39m_get_axis_number(axis)\n\u001b[1;32m-> 8306\u001b[0m \u001b[38;5;28;01mreturn\u001b[39;00m \u001b[43mget_resampler\u001b[49m\u001b[43m(\u001b[49m\n\u001b[0;32m   8307\u001b[0m \u001b[43m    \u001b[49m\u001b[38;5;28;43mself\u001b[39;49m\u001b[43m,\u001b[49m\n\u001b[0;32m   8308\u001b[0m \u001b[43m    \u001b[49m\u001b[43mfreq\u001b[49m\u001b[38;5;241;43m=\u001b[39;49m\u001b[43mrule\u001b[49m\u001b[43m,\u001b[49m\n\u001b[0;32m   8309\u001b[0m \u001b[43m    \u001b[49m\u001b[43mlabel\u001b[49m\u001b[38;5;241;43m=\u001b[39;49m\u001b[43mlabel\u001b[49m\u001b[43m,\u001b[49m\n\u001b[0;32m   8310\u001b[0m \u001b[43m    \u001b[49m\u001b[43mclosed\u001b[49m\u001b[38;5;241;43m=\u001b[39;49m\u001b[43mclosed\u001b[49m\u001b[43m,\u001b[49m\n\u001b[0;32m   8311\u001b[0m \u001b[43m    \u001b[49m\u001b[43maxis\u001b[49m\u001b[38;5;241;43m=\u001b[39;49m\u001b[43maxis\u001b[49m\u001b[43m,\u001b[49m\n\u001b[0;32m   8312\u001b[0m \u001b[43m    \u001b[49m\u001b[43mkind\u001b[49m\u001b[38;5;241;43m=\u001b[39;49m\u001b[43mkind\u001b[49m\u001b[43m,\u001b[49m\n\u001b[0;32m   8313\u001b[0m \u001b[43m    \u001b[49m\u001b[43mloffset\u001b[49m\u001b[38;5;241;43m=\u001b[39;49m\u001b[43mloffset\u001b[49m\u001b[43m,\u001b[49m\n\u001b[0;32m   8314\u001b[0m \u001b[43m    \u001b[49m\u001b[43mconvention\u001b[49m\u001b[38;5;241;43m=\u001b[39;49m\u001b[43mconvention\u001b[49m\u001b[43m,\u001b[49m\n\u001b[0;32m   8315\u001b[0m \u001b[43m    \u001b[49m\u001b[43mbase\u001b[49m\u001b[38;5;241;43m=\u001b[39;49m\u001b[43mbase\u001b[49m\u001b[43m,\u001b[49m\n\u001b[0;32m   8316\u001b[0m \u001b[43m    \u001b[49m\u001b[43mkey\u001b[49m\u001b[38;5;241;43m=\u001b[39;49m\u001b[43mon\u001b[49m\u001b[43m,\u001b[49m\n\u001b[0;32m   8317\u001b[0m \u001b[43m    \u001b[49m\u001b[43mlevel\u001b[49m\u001b[38;5;241;43m=\u001b[39;49m\u001b[43mlevel\u001b[49m\u001b[43m,\u001b[49m\n\u001b[0;32m   8318\u001b[0m \u001b[43m    \u001b[49m\u001b[43morigin\u001b[49m\u001b[38;5;241;43m=\u001b[39;49m\u001b[43morigin\u001b[49m\u001b[43m,\u001b[49m\n\u001b[0;32m   8319\u001b[0m \u001b[43m    \u001b[49m\u001b[43moffset\u001b[49m\u001b[38;5;241;43m=\u001b[39;49m\u001b[43moffset\u001b[49m\u001b[43m,\u001b[49m\n\u001b[0;32m   8320\u001b[0m \u001b[43m\u001b[49m\u001b[43m)\u001b[49m\n",
      "File \u001b[1;32m~\\anaconda3\\lib\\site-packages\\pandas\\core\\resample.py:1423\u001b[0m, in \u001b[0;36mget_resampler\u001b[1;34m(obj, kind, **kwds)\u001b[0m\n\u001b[0;32m   1419\u001b[0m \u001b[38;5;124;03m\"\"\"\u001b[39;00m\n\u001b[0;32m   1420\u001b[0m \u001b[38;5;124;03mCreate a TimeGrouper and return our resampler.\u001b[39;00m\n\u001b[0;32m   1421\u001b[0m \u001b[38;5;124;03m\"\"\"\u001b[39;00m\n\u001b[0;32m   1422\u001b[0m tg \u001b[38;5;241m=\u001b[39m TimeGrouper(\u001b[38;5;241m*\u001b[39m\u001b[38;5;241m*\u001b[39mkwds)\n\u001b[1;32m-> 1423\u001b[0m \u001b[38;5;28;01mreturn\u001b[39;00m \u001b[43mtg\u001b[49m\u001b[38;5;241;43m.\u001b[39;49m\u001b[43m_get_resampler\u001b[49m\u001b[43m(\u001b[49m\u001b[43mobj\u001b[49m\u001b[43m,\u001b[49m\u001b[43m \u001b[49m\u001b[43mkind\u001b[49m\u001b[38;5;241;43m=\u001b[39;49m\u001b[43mkind\u001b[49m\u001b[43m)\u001b[49m\n",
      "File \u001b[1;32m~\\anaconda3\\lib\\site-packages\\pandas\\core\\resample.py:1599\u001b[0m, in \u001b[0;36mTimeGrouper._get_resampler\u001b[1;34m(self, obj, kind)\u001b[0m\n\u001b[0;32m   1596\u001b[0m \u001b[38;5;28;01melif\u001b[39;00m \u001b[38;5;28misinstance\u001b[39m(ax, TimedeltaIndex):\n\u001b[0;32m   1597\u001b[0m     \u001b[38;5;28;01mreturn\u001b[39;00m TimedeltaIndexResampler(obj, groupby\u001b[38;5;241m=\u001b[39m\u001b[38;5;28mself\u001b[39m, axis\u001b[38;5;241m=\u001b[39m\u001b[38;5;28mself\u001b[39m\u001b[38;5;241m.\u001b[39maxis)\n\u001b[1;32m-> 1599\u001b[0m \u001b[38;5;28;01mraise\u001b[39;00m \u001b[38;5;167;01mTypeError\u001b[39;00m(\n\u001b[0;32m   1600\u001b[0m     \u001b[38;5;124m\"\u001b[39m\u001b[38;5;124mOnly valid with DatetimeIndex, \u001b[39m\u001b[38;5;124m\"\u001b[39m\n\u001b[0;32m   1601\u001b[0m     \u001b[38;5;124m\"\u001b[39m\u001b[38;5;124mTimedeltaIndex or PeriodIndex, \u001b[39m\u001b[38;5;124m\"\u001b[39m\n\u001b[0;32m   1602\u001b[0m     \u001b[38;5;124mf\u001b[39m\u001b[38;5;124m\"\u001b[39m\u001b[38;5;124mbut got an instance of \u001b[39m\u001b[38;5;124m'\u001b[39m\u001b[38;5;132;01m{\u001b[39;00m\u001b[38;5;28mtype\u001b[39m(ax)\u001b[38;5;241m.\u001b[39m\u001b[38;5;18m__name__\u001b[39m\u001b[38;5;132;01m}\u001b[39;00m\u001b[38;5;124m'\u001b[39m\u001b[38;5;124m\"\u001b[39m\n\u001b[0;32m   1603\u001b[0m )\n",
      "\u001b[1;31mTypeError\u001b[0m: Only valid with DatetimeIndex, TimedeltaIndex or PeriodIndex, but got an instance of 'Index'"
     ]
    }
   ],
   "source": [
    "# Aggregate the data by Date\n",
    "agg_df = df2.resample('D').agg({\n",
    "    'sentiment_score': 'mean',\n",
    "    'text': 'size'\n",
    "}).rename(columns={'text': 'tweet_count'})\n",
    "\n",
    "agg_df.head()"
   ]
  },
  {
   "cell_type": "code",
   "execution_count": 35,
   "id": "263f88eb",
   "metadata": {},
   "outputs": [
    {
     "ename": "NameError",
     "evalue": "name 'agg_df' is not defined",
     "output_type": "error",
     "traceback": [
      "\u001b[1;31m---------------------------------------------------------------------------\u001b[0m",
      "\u001b[1;31mNameError\u001b[0m                                 Traceback (most recent call last)",
      "Input \u001b[1;32mIn [35]\u001b[0m, in \u001b[0;36m<cell line: 1>\u001b[1;34m()\u001b[0m\n\u001b[1;32m----> 1\u001b[0m \u001b[38;5;28mprint\u001b[39m(\u001b[38;5;124mf\u001b[39m\u001b[38;5;124m'\u001b[39m\u001b[38;5;124mNumber of rows with missing values: \u001b[39m\u001b[38;5;132;01m{\u001b[39;00magg_df\u001b[38;5;241m.\u001b[39misnull()\u001b[38;5;241m.\u001b[39many(axis\u001b[38;5;241m=\u001b[39m\u001b[38;5;241m1\u001b[39m)\u001b[38;5;241m.\u001b[39mmean()\u001b[38;5;132;01m}\u001b[39;00m\u001b[38;5;124m'\u001b[39m)\n",
      "\u001b[1;31mNameError\u001b[0m: name 'agg_df' is not defined"
     ]
    }
   ],
   "source": [
    "print(f'Number of rows with missing values: {agg_df.isnull().any(axis=1).mean()}')"
   ]
  },
  {
   "cell_type": "code",
   "execution_count": 67,
   "id": "bf7ac1c9",
   "metadata": {},
   "outputs": [
    {
     "data": {
      "text/html": [
       "<div>\n",
       "<style scoped>\n",
       "    .dataframe tbody tr th:only-of-type {\n",
       "        vertical-align: middle;\n",
       "    }\n",
       "\n",
       "    .dataframe tbody tr th {\n",
       "        vertical-align: top;\n",
       "    }\n",
       "\n",
       "    .dataframe thead th {\n",
       "        text-align: right;\n",
       "    }\n",
       "</style>\n",
       "<table border=\"1\" class=\"dataframe\">\n",
       "  <thead>\n",
       "    <tr style=\"text-align: right;\">\n",
       "      <th></th>\n",
       "      <th>sentiment_score</th>\n",
       "      <th>tweet_count</th>\n",
       "    </tr>\n",
       "    <tr>\n",
       "      <th>Date</th>\n",
       "      <th></th>\n",
       "      <th></th>\n",
       "    </tr>\n",
       "  </thead>\n",
       "  <tbody>\n",
       "    <tr>\n",
       "      <th>2009-04-06</th>\n",
       "      <td>0.092126</td>\n",
       "      <td>3327</td>\n",
       "    </tr>\n",
       "    <tr>\n",
       "      <th>2009-04-07</th>\n",
       "      <td>0.097603</td>\n",
       "      <td>17190</td>\n",
       "    </tr>\n",
       "    <tr>\n",
       "      <th>2009-04-08</th>\n",
       "      <td>NaN</td>\n",
       "      <td>0</td>\n",
       "    </tr>\n",
       "    <tr>\n",
       "      <th>2009-04-09</th>\n",
       "      <td>NaN</td>\n",
       "      <td>0</td>\n",
       "    </tr>\n",
       "    <tr>\n",
       "      <th>2009-04-10</th>\n",
       "      <td>NaN</td>\n",
       "      <td>0</td>\n",
       "    </tr>\n",
       "    <tr>\n",
       "      <th>...</th>\n",
       "      <td>...</td>\n",
       "      <td>...</td>\n",
       "    </tr>\n",
       "    <tr>\n",
       "      <th>2009-06-21</th>\n",
       "      <td>0.002074</td>\n",
       "      <td>16279</td>\n",
       "    </tr>\n",
       "    <tr>\n",
       "      <th>2009-06-22</th>\n",
       "      <td>-0.024936</td>\n",
       "      <td>11948</td>\n",
       "    </tr>\n",
       "    <tr>\n",
       "      <th>2009-06-23</th>\n",
       "      <td>-0.017939</td>\n",
       "      <td>16913</td>\n",
       "    </tr>\n",
       "    <tr>\n",
       "      <th>2009-06-24</th>\n",
       "      <td>-0.013681</td>\n",
       "      <td>6263</td>\n",
       "    </tr>\n",
       "    <tr>\n",
       "      <th>2009-06-25</th>\n",
       "      <td>-0.016236</td>\n",
       "      <td>19614</td>\n",
       "    </tr>\n",
       "  </tbody>\n",
       "</table>\n",
       "<p>81 rows × 2 columns</p>\n",
       "</div>"
      ],
      "text/plain": [
       "            sentiment_score  tweet_count\n",
       "Date                                    \n",
       "2009-04-06         0.092126         3327\n",
       "2009-04-07         0.097603        17190\n",
       "2009-04-08              NaN            0\n",
       "2009-04-09              NaN            0\n",
       "2009-04-10              NaN            0\n",
       "...                     ...          ...\n",
       "2009-06-21         0.002074        16279\n",
       "2009-06-22        -0.024936        11948\n",
       "2009-06-23        -0.017939        16913\n",
       "2009-06-24        -0.013681         6263\n",
       "2009-06-25        -0.016236        19614\n",
       "\n",
       "[81 rows x 2 columns]"
      ]
     },
     "execution_count": 67,
     "metadata": {},
     "output_type": "execute_result"
    }
   ],
   "source": [
    "agg_df"
   ]
  },
  {
   "cell_type": "code",
   "execution_count": 68,
   "id": "c02dbaaa",
   "metadata": {},
   "outputs": [
    {
     "data": {
      "image/png": "[encoded data removed]",
      "text/plain": [
       "<Figure size 1080x504 with 1 Axes>"
      ]
     },
     "metadata": {
      "needs_background": "light"
     },
     "output_type": "display_data"
    }
   ],
   "source": [
    "fig, ax = plt.subplots(figsize=(15, 7))\n",
    "agg_df['sentiment_score'].plot(ax=ax, marker='o', linestyle='-')\n",
    "ax.set_title('Daily Sentiment Score Over Time')\n",
    "ax.set_xlabel('Date')\n",
    "ax.set_ylabel('Sentiment Score')\n",
    "ax.grid(True, which='both')\n",
    "plt.tight_layout()\n",
    "plt.show()\n"
   ]
  },
  {
   "cell_type": "code",
   "execution_count": 69,
   "id": "7108fa0c",
   "metadata": {},
   "outputs": [
    {
     "data": {
      "image/png": "[encoded data removed]",
      "text/plain": [
       "<Figure size 1080x504 with 1 Axes>"
      ]
     },
     "metadata": {
      "needs_background": "light"
     },
     "output_type": "display_data"
    }
   ],
   "source": [
    "fig, ax = plt.subplots(figsize=(15, 7))\n",
    "agg_df['tweet_count'].plot(ax=ax, marker='o', linestyle='-')\n",
    "ax.set_title('tweets count Over Time')\n",
    "ax.set_xlabel('Date')\n",
    "ax.set_ylabel('tweet count')\n",
    "ax.grid(True, which='both')\n",
    "plt.tight_layout()\n",
    "plt.show()"
   ]
  },
  {
   "cell_type": "code",
   "execution_count": 70,
   "id": "65eeb6f5",
   "metadata": {},
   "outputs": [],
   "source": [
    "agg_df2=agg_df"
   ]
  },
  {
   "cell_type": "code",
   "execution_count": 71,
   "id": "edb87cb9",
   "metadata": {},
   "outputs": [],
   "source": [
    "agg_df2['sentiment_score'] = agg_df2['sentiment_score'].interpolate(method='linear')"
   ]
  },
  {
   "cell_type": "code",
   "execution_count": 72,
   "id": "a37d48ac",
   "metadata": {},
   "outputs": [
    {
     "name": "stdout",
     "output_type": "stream",
     "text": [
      "Number of rows with missing values: 0.0\n"
     ]
    }
   ],
   "source": [
    "print(f'Number of rows with missing values: {agg_df2.isnull().any(axis=1).mean()}')"
   ]
  },
  {
   "cell_type": "code",
   "execution_count": 73,
   "id": "82fc7193",
   "metadata": {},
   "outputs": [
    {
     "data": {
      "image/png": "[encoded data removed]",
      "text/plain": [
       "<Figure size 1080x504 with 1 Axes>"
      ]
     },
     "metadata": {
      "needs_background": "light"
     },
     "output_type": "display_data"
    }
   ],
   "source": [
    "fig, ax = plt.subplots(figsize=(15, 7))\n",
    "agg_df2['sentiment_score'].plot(ax=ax, marker='o', linestyle='-')\n",
    "ax.set_title('Daily Sentiment Score Over Time')\n",
    "ax.set_xlabel('Date')\n",
    "ax.set_ylabel('Sentiment Score')\n",
    "ax.grid(True, which='both')\n",
    "plt.tight_layout()\n",
    "plt.show()"
   ]
  },
  {
   "cell_type": "code",
   "execution_count": 76,
   "id": "af274b3b",
   "metadata": {},
   "outputs": [],
   "source": [
    "agg_df2['tweet_count'].replace(0, np.nan, inplace=True)\n",
    "agg_df2['tweet_count'] = agg_df2['tweet_count'].interpolate(method='linear')"
   ]
  },
  {
   "cell_type": "code",
   "execution_count": 77,
   "id": "e66ce74f",
   "metadata": {},
   "outputs": [
    {
     "data": {
      "image/png": "[encoded data removed]",
      "text/plain": [
       "<Figure size 1080x504 with 1 Axes>"
      ]
     },
     "metadata": {
      "needs_background": "light"
     },
     "output_type": "display_data"
    }
   ],
   "source": [
    "fig, ax = plt.subplots(figsize=(15, 7))\n",
    "agg_df['tweet_count'].plot(ax=ax, marker='o', linestyle='-')\n",
    "ax.set_title('tweets count Over Time')\n",
    "ax.set_xlabel('Date')\n",
    "ax.set_ylabel('tweet count')\n",
    "ax.grid(True, which='both')\n",
    "plt.tight_layout()\n",
    "plt.show()"
   ]
  },
  {
   "cell_type": "code",
   "execution_count": 79,
   "id": "f55d168e",
   "metadata": {},
   "outputs": [
    {
     "data": {
      "image/png": "[encoded data removed]",
      "text/plain": [
       "<Figure size 432x288 with 4 Axes>"
      ]
     },
     "metadata": {
      "needs_background": "light"
     },
     "output_type": "display_data"
    }
   ],
   "source": [
    "import statsmodels.api as sm\n",
    "# Decompose the series\n",
    "result = sm.tsa.seasonal_decompose(agg_df2['sentiment_score'], model='additive', period=7)  # Assuming a weekly seasonality for daily data\n",
    "\n",
    "# Plot the decomposition\n",
    "result.plot()\n",
    "plt.show()"
   ]
  },
  {
   "cell_type": "code",
   "execution_count": 80,
   "id": "6a889a83",
   "metadata": {
    "scrolled": true
   },
   "outputs": [
    {
     "data": {
      "image/png": "[encoded data removed]",
      "text/plain": [
       "<Figure size 432x288 with 4 Axes>"
      ]
     },
     "metadata": {
      "needs_background": "light"
     },
     "output_type": "display_data"
    }
   ],
   "source": [
    "# Decompose the series\n",
    "result = sm.tsa.seasonal_decompose(agg_df2['tweet_count'], model='additive', period=7)  # Assuming a weekly seasonality for daily data\n",
    "\n",
    "# Plot the decomposition\n",
    "result.plot()\n",
    "plt.show()"
   ]
  },
  {
   "cell_type": "code",
   "execution_count": 88,
   "id": "652c52e4",
   "metadata": {},
   "outputs": [],
   "source": [
    "# Normalize the sentiment_score and tweet_count columns\n",
    "agg_df2['normalized_sentiment'] = (agg_df2['sentiment_score'] - agg_df2['sentiment_score'].min()) / (agg_df2['sentiment_score'].max() - agg_df2['sentiment_score'].min())\n",
    "agg_df2['normalized_tweet_count'] = (agg_df2['tweet_count'] - agg_df2['tweet_count'].min()) / (agg_df2['tweet_count'].max() - agg_df2['tweet_count'].min())"
   ]
  },
  {
   "cell_type": "code",
   "execution_count": 90,
   "id": "aa3b5e5e",
   "metadata": {},
   "outputs": [],
   "source": [
    "# Compute the weighted sentiment using normalized values\n",
    "agg_df2['weighted_sentiment'] = agg_df2['normalized_sentiment'] * agg_df2['normalized_tweet_count']"
   ]
  },
  {
   "cell_type": "code",
   "execution_count": 91,
   "id": "adb81c75",
   "metadata": {},
   "outputs": [
    {
     "data": {
      "text/html": [
       "<div>\n",
       "<style scoped>\n",
       "    .dataframe tbody tr th:only-of-type {\n",
       "        vertical-align: middle;\n",
       "    }\n",
       "\n",
       "    .dataframe tbody tr th {\n",
       "        vertical-align: top;\n",
       "    }\n",
       "\n",
       "    .dataframe thead th {\n",
       "        text-align: right;\n",
       "    }\n",
       "</style>\n",
       "<table border=\"1\" class=\"dataframe\">\n",
       "  <thead>\n",
       "    <tr style=\"text-align: right;\">\n",
       "      <th></th>\n",
       "      <th>sentiment_score</th>\n",
       "      <th>tweet_count</th>\n",
       "      <th>weighted_sentiment</th>\n",
       "      <th>normalized_sentiment</th>\n",
       "      <th>normalized_tweet_count</th>\n",
       "    </tr>\n",
       "    <tr>\n",
       "      <th>Date</th>\n",
       "      <th></th>\n",
       "      <th></th>\n",
       "      <th></th>\n",
       "      <th></th>\n",
       "      <th></th>\n",
       "    </tr>\n",
       "  </thead>\n",
       "  <tbody>\n",
       "    <tr>\n",
       "      <th>2009-04-06</th>\n",
       "      <td>0.092126</td>\n",
       "      <td>3327.0</td>\n",
       "      <td>0.018815</td>\n",
       "      <td>0.657633</td>\n",
       "      <td>0.028610</td>\n",
       "    </tr>\n",
       "    <tr>\n",
       "      <th>2009-04-07</th>\n",
       "      <td>0.097603</td>\n",
       "      <td>17190.0</td>\n",
       "      <td>0.106100</td>\n",
       "      <td>0.688404</td>\n",
       "      <td>0.154124</td>\n",
       "    </tr>\n",
       "    <tr>\n",
       "      <th>2009-04-08</th>\n",
       "      <td>0.099662</td>\n",
       "      <td>15777.7</td>\n",
       "      <td>0.098932</td>\n",
       "      <td>0.699971</td>\n",
       "      <td>0.141337</td>\n",
       "    </tr>\n",
       "    <tr>\n",
       "      <th>2009-04-09</th>\n",
       "      <td>0.101721</td>\n",
       "      <td>14365.4</td>\n",
       "      <td>0.091468</td>\n",
       "      <td>0.711537</td>\n",
       "      <td>0.128550</td>\n",
       "    </tr>\n",
       "    <tr>\n",
       "      <th>2009-04-10</th>\n",
       "      <td>0.103780</td>\n",
       "      <td>12953.1</td>\n",
       "      <td>0.083709</td>\n",
       "      <td>0.723104</td>\n",
       "      <td>0.115764</td>\n",
       "    </tr>\n",
       "  </tbody>\n",
       "</table>\n",
       "</div>"
      ],
      "text/plain": [
       "            sentiment_score  tweet_count  weighted_sentiment  \\\n",
       "Date                                                           \n",
       "2009-04-06         0.092126       3327.0            0.018815   \n",
       "2009-04-07         0.097603      17190.0            0.106100   \n",
       "2009-04-08         0.099662      15777.7            0.098932   \n",
       "2009-04-09         0.101721      14365.4            0.091468   \n",
       "2009-04-10         0.103780      12953.1            0.083709   \n",
       "\n",
       "            normalized_sentiment  normalized_tweet_count  \n",
       "Date                                                      \n",
       "2009-04-06              0.657633                0.028610  \n",
       "2009-04-07              0.688404                0.154124  \n",
       "2009-04-08              0.699971                0.141337  \n",
       "2009-04-09              0.711537                0.128550  \n",
       "2009-04-10              0.723104                0.115764  "
      ]
     },
     "execution_count": 91,
     "metadata": {},
     "output_type": "execute_result"
    }
   ],
   "source": [
    "agg_df2.head()"
   ]
  },
  {
   "cell_type": "code",
   "execution_count": 92,
   "id": "97197e4a",
   "metadata": {},
   "outputs": [
    {
     "data": {
      "image/png": "[encoded data removed]",
      "text/plain": [
       "<Figure size 1080x504 with 1 Axes>"
      ]
     },
     "metadata": {
      "needs_background": "light"
     },
     "output_type": "display_data"
    }
   ],
   "source": [
    "fig, ax = plt.subplots(figsize=(15, 7))\n",
    "agg_df2['weighted_sentiment'].plot(ax=ax, marker='o', linestyle='-')\n",
    "ax.set_title('weighted sentiment score Over Time')\n",
    "ax.set_xlabel('Date')\n",
    "ax.set_ylabel('weighted sentiment score')\n",
    "ax.grid(True, which='both')\n",
    "plt.tight_layout()\n",
    "plt.show()"
   ]
  },
  {
   "cell_type": "code",
   "execution_count": 93,
   "id": "0bc75e61",
   "metadata": {},
   "outputs": [
    {
     "data": {
      "text/html": [
       "<div>\n",
       "<style scoped>\n",
       "    .dataframe tbody tr th:only-of-type {\n",
       "        vertical-align: middle;\n",
       "    }\n",
       "\n",
       "    .dataframe tbody tr th {\n",
       "        vertical-align: top;\n",
       "    }\n",
       "\n",
       "    .dataframe thead th {\n",
       "        text-align: right;\n",
       "    }\n",
       "</style>\n",
       "<table border=\"1\" class=\"dataframe\">\n",
       "  <thead>\n",
       "    <tr style=\"text-align: right;\">\n",
       "      <th></th>\n",
       "      <th>sentiment_score</th>\n",
       "      <th>tweet_count</th>\n",
       "      <th>weighted_sentiment</th>\n",
       "      <th>normalized_sentiment</th>\n",
       "      <th>normalized_tweet_count</th>\n",
       "    </tr>\n",
       "  </thead>\n",
       "  <tbody>\n",
       "    <tr>\n",
       "      <th>count</th>\n",
       "      <td>81.000000</td>\n",
       "      <td>81.000000</td>\n",
       "      <td>81.000000</td>\n",
       "      <td>81.000000</td>\n",
       "      <td>81.000000</td>\n",
       "    </tr>\n",
       "    <tr>\n",
       "      <th>mean</th>\n",
       "      <td>0.097210</td>\n",
       "      <td>26820.080247</td>\n",
       "      <td>0.164556</td>\n",
       "      <td>0.686200</td>\n",
       "      <td>0.241314</td>\n",
       "    </tr>\n",
       "    <tr>\n",
       "      <th>std</th>\n",
       "      <td>0.041309</td>\n",
       "      <td>28839.745333</td>\n",
       "      <td>0.203577</td>\n",
       "      <td>0.232068</td>\n",
       "      <td>0.261111</td>\n",
       "    </tr>\n",
       "    <tr>\n",
       "      <th>min</th>\n",
       "      <td>-0.024936</td>\n",
       "      <td>167.000000</td>\n",
       "      <td>0.000000</td>\n",
       "      <td>0.000000</td>\n",
       "      <td>0.000000</td>\n",
       "    </tr>\n",
       "    <tr>\n",
       "      <th>25%</th>\n",
       "      <td>0.103780</td>\n",
       "      <td>8100.000000</td>\n",
       "      <td>0.040476</td>\n",
       "      <td>0.723104</td>\n",
       "      <td>0.071824</td>\n",
       "    </tr>\n",
       "    <tr>\n",
       "      <th>50%</th>\n",
       "      <td>0.110400</td>\n",
       "      <td>14365.400000</td>\n",
       "      <td>0.083709</td>\n",
       "      <td>0.760295</td>\n",
       "      <td>0.128550</td>\n",
       "    </tr>\n",
       "    <tr>\n",
       "      <th>75%</th>\n",
       "      <td>0.114074</td>\n",
       "      <td>38768.000000</td>\n",
       "      <td>0.232585</td>\n",
       "      <td>0.780937</td>\n",
       "      <td>0.349488</td>\n",
       "    </tr>\n",
       "    <tr>\n",
       "      <th>max</th>\n",
       "      <td>0.153068</td>\n",
       "      <td>110617.000000</td>\n",
       "      <td>0.762249</td>\n",
       "      <td>1.000000</td>\n",
       "      <td>1.000000</td>\n",
       "    </tr>\n",
       "  </tbody>\n",
       "</table>\n",
       "</div>"
      ],
      "text/plain": [
       "       sentiment_score    tweet_count  weighted_sentiment  \\\n",
       "count        81.000000      81.000000           81.000000   \n",
       "mean          0.097210   26820.080247            0.164556   \n",
       "std           0.041309   28839.745333            0.203577   \n",
       "min          -0.024936     167.000000            0.000000   \n",
       "25%           0.103780    8100.000000            0.040476   \n",
       "50%           0.110400   14365.400000            0.083709   \n",
       "75%           0.114074   38768.000000            0.232585   \n",
       "max           0.153068  110617.000000            0.762249   \n",
       "\n",
       "       normalized_sentiment  normalized_tweet_count  \n",
       "count             81.000000               81.000000  \n",
       "mean               0.686200                0.241314  \n",
       "std                0.232068                0.261111  \n",
       "min                0.000000                0.000000  \n",
       "25%                0.723104                0.071824  \n",
       "50%                0.760295                0.128550  \n",
       "75%                0.780937                0.349488  \n",
       "max                1.000000                1.000000  "
      ]
     },
     "execution_count": 93,
     "metadata": {},
     "output_type": "execute_result"
    }
   ],
   "source": [
    "agg_df2.describe()"
   ]
  },
  {
   "cell_type": "code",
   "execution_count": 94,
   "id": "f7bdf03b",
   "metadata": {},
   "outputs": [
    {
     "data": {
      "text/html": [
       "<div>\n",
       "<style scoped>\n",
       "    .dataframe tbody tr th:only-of-type {\n",
       "        vertical-align: middle;\n",
       "    }\n",
       "\n",
       "    .dataframe tbody tr th {\n",
       "        vertical-align: top;\n",
       "    }\n",
       "\n",
       "    .dataframe thead th {\n",
       "        text-align: right;\n",
       "    }\n",
       "</style>\n",
       "<table border=\"1\" class=\"dataframe\">\n",
       "  <thead>\n",
       "    <tr style=\"text-align: right;\">\n",
       "      <th></th>\n",
       "      <th>user</th>\n",
       "      <th>text</th>\n",
       "      <th>Hashtags</th>\n",
       "      <th>Mentions</th>\n",
       "      <th>pp_text</th>\n",
       "      <th>sentiment_score</th>\n",
       "      <th>sentiment_category</th>\n",
       "    </tr>\n",
       "    <tr>\n",
       "      <th>Date</th>\n",
       "      <th></th>\n",
       "      <th></th>\n",
       "      <th></th>\n",
       "      <th></th>\n",
       "      <th></th>\n",
       "      <th></th>\n",
       "      <th></th>\n",
       "    </tr>\n",
       "  </thead>\n",
       "  <tbody>\n",
       "    <tr>\n",
       "      <th>2009-04-06</th>\n",
       "      <td>_TheSpecialOne_</td>\n",
       "      <td>@switchfoot http://twitpic.com/2y1zl - Awww, t...</td>\n",
       "      <td>[]</td>\n",
       "      <td>[switchfoot]</td>\n",
       "      <td>thats bummer shoulda got david carr third day</td>\n",
       "      <td>0.000</td>\n",
       "      <td>neutral</td>\n",
       "    </tr>\n",
       "    <tr>\n",
       "      <th>2009-04-06</th>\n",
       "      <td>scotthamilton</td>\n",
       "      <td>is upset that he can't update his Facebook by ...</td>\n",
       "      <td>[]</td>\n",
       "      <td>[]</td>\n",
       "      <td>upset cant update facebook texting might cry r...</td>\n",
       "      <td>0.000</td>\n",
       "      <td>neutral</td>\n",
       "    </tr>\n",
       "    <tr>\n",
       "      <th>2009-04-06</th>\n",
       "      <td>mattycus</td>\n",
       "      <td>@Kenichan I dived many times for the ball. Man...</td>\n",
       "      <td>[]</td>\n",
       "      <td>[Kenichan]</td>\n",
       "      <td>dived many time ball managed save rest bound</td>\n",
       "      <td>0.500</td>\n",
       "      <td>positive</td>\n",
       "    </tr>\n",
       "    <tr>\n",
       "      <th>2009-04-06</th>\n",
       "      <td>ElleCTF</td>\n",
       "      <td>my whole body feels itchy and like its on fire</td>\n",
       "      <td>[]</td>\n",
       "      <td>[]</td>\n",
       "      <td>whole body feel itchy like fire</td>\n",
       "      <td>0.200</td>\n",
       "      <td>positive</td>\n",
       "    </tr>\n",
       "    <tr>\n",
       "      <th>2009-04-06</th>\n",
       "      <td>Karoli</td>\n",
       "      <td>@nationwideclass no, it's not behaving at all....</td>\n",
       "      <td>[]</td>\n",
       "      <td>[nationwideclass]</td>\n",
       "      <td>behaving mad cant see</td>\n",
       "      <td>-0.625</td>\n",
       "      <td>negative</td>\n",
       "    </tr>\n",
       "  </tbody>\n",
       "</table>\n",
       "</div>"
      ],
      "text/plain": [
       "                       user  \\\n",
       "Date                          \n",
       "2009-04-06  _TheSpecialOne_   \n",
       "2009-04-06    scotthamilton   \n",
       "2009-04-06         mattycus   \n",
       "2009-04-06          ElleCTF   \n",
       "2009-04-06           Karoli   \n",
       "\n",
       "                                                         text Hashtags  \\\n",
       "Date                                                                     \n",
       "2009-04-06  @switchfoot http://twitpic.com/2y1zl - Awww, t...       []   \n",
       "2009-04-06  is upset that he can't update his Facebook by ...       []   \n",
       "2009-04-06  @Kenichan I dived many times for the ball. Man...       []   \n",
       "2009-04-06    my whole body feels itchy and like its on fire        []   \n",
       "2009-04-06  @nationwideclass no, it's not behaving at all....       []   \n",
       "\n",
       "                     Mentions  \\\n",
       "Date                            \n",
       "2009-04-06       [switchfoot]   \n",
       "2009-04-06                 []   \n",
       "2009-04-06         [Kenichan]   \n",
       "2009-04-06                 []   \n",
       "2009-04-06  [nationwideclass]   \n",
       "\n",
       "                                                      pp_text  \\\n",
       "Date                                                            \n",
       "2009-04-06      thats bummer shoulda got david carr third day   \n",
       "2009-04-06  upset cant update facebook texting might cry r...   \n",
       "2009-04-06       dived many time ball managed save rest bound   \n",
       "2009-04-06                    whole body feel itchy like fire   \n",
       "2009-04-06                              behaving mad cant see   \n",
       "\n",
       "            sentiment_score sentiment_category  \n",
       "Date                                            \n",
       "2009-04-06            0.000            neutral  \n",
       "2009-04-06            0.000            neutral  \n",
       "2009-04-06            0.500           positive  \n",
       "2009-04-06            0.200           positive  \n",
       "2009-04-06           -0.625           negative  "
      ]
     },
     "execution_count": 94,
     "metadata": {},
     "output_type": "execute_result"
    }
   ],
   "source": [
    "df.head()"
   ]
  },
  {
   "cell_type": "code",
   "execution_count": 99,
   "id": "50608d7d",
   "metadata": {},
   "outputs": [],
   "source": [
    "# Save the DataFrame to a CSV file\n",
    "df.to_csv('cleaned_dataset.csv', index=True)"
   ]
  },
  {
   "cell_type": "code",
   "execution_count": 100,
   "id": "fe234954",
   "metadata": {},
   "outputs": [],
   "source": [
    "test_df= pd.read_csv(\"cleaned_dataset.csv\")"
   ]
  },
  {
   "cell_type": "code",
   "execution_count": 101,
   "id": "3ed619a5",
   "metadata": {},
   "outputs": [
    {
     "data": {
      "text/html": [
       "<div>\n",
       "<style scoped>\n",
       "    .dataframe tbody tr th:only-of-type {\n",
       "        vertical-align: middle;\n",
       "    }\n",
       "\n",
       "    .dataframe tbody tr th {\n",
       "        vertical-align: top;\n",
       "    }\n",
       "\n",
       "    .dataframe thead th {\n",
       "        text-align: right;\n",
       "    }\n",
       "</style>\n",
       "<table border=\"1\" class=\"dataframe\">\n",
       "  <thead>\n",
       "    <tr style=\"text-align: right;\">\n",
       "      <th></th>\n",
       "      <th>Date</th>\n",
       "      <th>user</th>\n",
       "      <th>text</th>\n",
       "      <th>Hashtags</th>\n",
       "      <th>Mentions</th>\n",
       "      <th>pp_text</th>\n",
       "      <th>sentiment_score</th>\n",
       "      <th>sentiment_category</th>\n",
       "    </tr>\n",
       "  </thead>\n",
       "  <tbody>\n",
       "    <tr>\n",
       "      <th>0</th>\n",
       "      <td>2009-04-06</td>\n",
       "      <td>_TheSpecialOne_</td>\n",
       "      <td>@switchfoot http://twitpic.com/2y1zl - Awww, t...</td>\n",
       "      <td>[]</td>\n",
       "      <td>['switchfoot']</td>\n",
       "      <td>thats bummer shoulda got david carr third day</td>\n",
       "      <td>0.000</td>\n",
       "      <td>neutral</td>\n",
       "    </tr>\n",
       "    <tr>\n",
       "      <th>1</th>\n",
       "      <td>2009-04-06</td>\n",
       "      <td>scotthamilton</td>\n",
       "      <td>is upset that he can't update his Facebook by ...</td>\n",
       "      <td>[]</td>\n",
       "      <td>[]</td>\n",
       "      <td>upset cant update facebook texting might cry r...</td>\n",
       "      <td>0.000</td>\n",
       "      <td>neutral</td>\n",
       "    </tr>\n",
       "    <tr>\n",
       "      <th>2</th>\n",
       "      <td>2009-04-06</td>\n",
       "      <td>mattycus</td>\n",
       "      <td>@Kenichan I dived many times for the ball. Man...</td>\n",
       "      <td>[]</td>\n",
       "      <td>['Kenichan']</td>\n",
       "      <td>dived many time ball managed save rest bound</td>\n",
       "      <td>0.500</td>\n",
       "      <td>positive</td>\n",
       "    </tr>\n",
       "    <tr>\n",
       "      <th>3</th>\n",
       "      <td>2009-04-06</td>\n",
       "      <td>ElleCTF</td>\n",
       "      <td>my whole body feels itchy and like its on fire</td>\n",
       "      <td>[]</td>\n",
       "      <td>[]</td>\n",
       "      <td>whole body feel itchy like fire</td>\n",
       "      <td>0.200</td>\n",
       "      <td>positive</td>\n",
       "    </tr>\n",
       "    <tr>\n",
       "      <th>4</th>\n",
       "      <td>2009-04-06</td>\n",
       "      <td>Karoli</td>\n",
       "      <td>@nationwideclass no, it's not behaving at all....</td>\n",
       "      <td>[]</td>\n",
       "      <td>['nationwideclass']</td>\n",
       "      <td>behaving mad cant see</td>\n",
       "      <td>-0.625</td>\n",
       "      <td>negative</td>\n",
       "    </tr>\n",
       "  </tbody>\n",
       "</table>\n",
       "</div>"
      ],
      "text/plain": [
       "         Date             user  \\\n",
       "0  2009-04-06  _TheSpecialOne_   \n",
       "1  2009-04-06    scotthamilton   \n",
       "2  2009-04-06         mattycus   \n",
       "3  2009-04-06          ElleCTF   \n",
       "4  2009-04-06           Karoli   \n",
       "\n",
       "                                                text Hashtags  \\\n",
       "0  @switchfoot http://twitpic.com/2y1zl - Awww, t...       []   \n",
       "1  is upset that he can't update his Facebook by ...       []   \n",
       "2  @Kenichan I dived many times for the ball. Man...       []   \n",
       "3    my whole body feels itchy and like its on fire        []   \n",
       "4  @nationwideclass no, it's not behaving at all....       []   \n",
       "\n",
       "              Mentions                                            pp_text  \\\n",
       "0       ['switchfoot']      thats bummer shoulda got david carr third day   \n",
       "1                   []  upset cant update facebook texting might cry r...   \n",
       "2         ['Kenichan']       dived many time ball managed save rest bound   \n",
       "3                   []                    whole body feel itchy like fire   \n",
       "4  ['nationwideclass']                              behaving mad cant see   \n",
       "\n",
       "   sentiment_score sentiment_category  \n",
       "0            0.000            neutral  \n",
       "1            0.000            neutral  \n",
       "2            0.500           positive  \n",
       "3            0.200           positive  \n",
       "4           -0.625           negative  "
      ]
     },
     "execution_count": 101,
     "metadata": {},
     "output_type": "execute_result"
    }
   ],
   "source": [
    "test_df.head()"
   ]
  },
  {
   "cell_type": "code",
   "execution_count": null,
   "id": "2f24688d",
   "metadata": {},
   "outputs": [],
   "source": []
  }
 ],
 "metadata": {
  "kernelspec": {
   "display_name": "Python 3 (ipykernel)",
   "language": "python",
   "name": "python3"
  },
  "language_info": {
   "codemirror_mode": {
    "name": "ipython",
    "version": 3
   },
   "file_extension": ".py",
   "mimetype": "text/x-python",
   "name": "python",
   "nbconvert_exporter": "python",
   "pygments_lexer": "ipython3",
   "version": "3.9.12"
  }
 },
 "nbformat": 4,
 "nbformat_minor": 5
}
